{
 "cells": [
  {
   "cell_type": "code",
   "execution_count": 33,
   "id": "1a63a807-f22f-4937-862a-cb701ca246c8",
   "metadata": {},
   "outputs": [],
   "source": [
    "import pandas as pd\n",
    "import yfinance as yf\n",
    "import psycopg2\n",
    "from psycopg2 import sql\n",
    "from sqlalchemy import create_engine, text\n",
    "from psycopg2.errors import UniqueViolation"
   ]
  },
  {
   "cell_type": "code",
   "execution_count": 44,
   "id": "78221a38-74e1-43eb-8406-2d563cc23007",
   "metadata": {
    "scrolled": true
   },
   "outputs": [],
   "source": [
    "# Details for connection and api requests\n",
    "\n",
    "# Database connection details\n",
    "database = 'fin_data'\n",
    "user = 'stevengiallourakis'\n",
    "password = 'Birdman11!' # this might not be needed depenending on where you are connecting from.\n",
    "host = 'localhost'\n",
    "port =  '5433'\n",
    "connection_string = f\"postgresql://{user}:{password}@{host}:{port}/{database}\"\n",
    "engine = create_engine(connection_string)\n",
    "\n",
    "# Details for api request\n",
    "\n",
    "symbol = 'LIN'\n",
    "start_date = '2020-01-01'\n",
    "end_date = '2024-07-04'"
   ]
  },
  {
   "cell_type": "code",
   "execution_count": 45,
   "id": "974f9f01-6b6b-4d8a-beb0-d478214bc9de",
   "metadata": {},
   "outputs": [],
   "source": [
    "# Get Stock Data\n",
    "def get_stock_data(symbol, start_date, end_date):\n",
    "    stock_data = yf.download(symbol, start=start_date, end=end_date)\n",
    "    stock_data = stock_data.drop(columns = ['High', 'Low', 'Adj Close', 'Volume'])\n",
    "    stock_data['daily_change'] = stock_data['Close'] - stock_data['Open']\n",
    "    stock_data['symbol'] = symbol\n",
    "    stock_data.reset_index(inplace = True)\n",
    "    print(\"Stock_data downloaded, High and Low columns removed, daily_change added\")\n",
    "    return stock_data \n",
    "\n",
    "# Add new data to database\n",
    "\n",
    "def data_to_db(df, table_name, engine):\n",
    "    try:\n",
    "        with engine.begin() as connection:\n",
    "            for index, row in df.iterrows():\n",
    "                sql = text(f\"\"\"\n",
    "                    INSERT INTO {table_name} (\"Date\", \"Open\", \"Close\", daily_change, symbol)\n",
    "                    VALUES (:Date, :Open, :Close, :daily_change, :symbol)\n",
    "                    ON CONFLICT (symbol, \"Date\") DO NOTHING\n",
    "                \"\"\")\n",
    "                connection.execute(sql, {\n",
    "                    'Date': row['Date'],\n",
    "                    'Open': row['Open'],\n",
    "                    'Close': row['Close'],\n",
    "                    'daily_change': row['daily_change'],\n",
    "                    'symbol': row['symbol']\n",
    "                })\n",
    "        \n",
    "\n",
    "        \n",
    "        #df.to_sql(name=table_name, con=engine, if_exists='append', index=False)\n",
    "        #print(\"Data successfully added to the database.\")\n",
    "\n",
    "\n",
    "\n",
    "    \n",
    "    except UniqueViolation as e:\n",
    "        print(f\"Duplicate entry found for {symbol} on {data['date']}. Skipping insert.\")\n",
    "    except Exception as e:\n",
    "        print(f\"An error occurred while inserting data: {e}\")\n",
    "    "
   ]
  },
  {
   "cell_type": "code",
   "execution_count": 46,
   "id": "226bf4b3-9b00-4237-9b69-b41cdf0320fd",
   "metadata": {},
   "outputs": [
    {
     "name": "stderr",
     "output_type": "stream",
     "text": [
      "[*********************100%%**********************]  1 of 1 completed\n"
     ]
    },
    {
     "name": "stdout",
     "output_type": "stream",
     "text": [
      "Stock_data downloaded, High and Low columns removed, daily_change added\n",
      "        Date        Open       Close  daily_change symbol\n",
      "0 2020-01-02  213.580002  210.740005     -2.839996    LIN\n",
      "1 2020-01-03  207.399994  205.259995     -2.139999    LIN\n",
      "2 2020-01-06  204.600006  204.389999     -0.210007    LIN\n",
      "3 2020-01-07  204.809998  204.830002      0.020004    LIN\n",
      "4 2020-01-08  205.270004  207.389999      2.119995    LIN\n"
     ]
    }
   ],
   "source": [
    "#Test\n",
    "\n",
    "stock_data = get_stock_data(symbol, start_date, end_date)\n",
    "\n",
    "data_to_db(stock_data, 'stocks', engine)\n",
    "\n",
    "print(stock_data.head())"
   ]
  },
  {
   "cell_type": "code",
   "execution_count": 60,
   "id": "0752acdf-da00-4aae-8670-df84ab995650",
   "metadata": {},
   "outputs": [],
   "source": [
    "#NASDAQ 100 A-C\n",
    "nasdaq_100_A_C = ['ANSS','AAPL','AMAT','GEHC','ASML','TEAM','ADSK']\n",
    "\n",
    "start_date = '2020-01-01'\n",
    "end_date = '2024-07-04'\n"
   ]
  },
  {
   "cell_type": "code",
   "execution_count": 61,
   "id": "cd67e5ad-fb72-4254-9e7a-921b55a0e2d7",
   "metadata": {},
   "outputs": [
    {
     "name": "stdout",
     "output_type": "stream",
     "text": [
      "Retrieving stock data\n"
     ]
    },
    {
     "name": "stderr",
     "output_type": "stream",
     "text": [
      "[*********************100%%**********************]  1 of 1 completed\n"
     ]
    },
    {
     "name": "stdout",
     "output_type": "stream",
     "text": [
      "Stock_data downloaded, High and Low columns removed, daily_change added\n",
      "Stock data downloaded and updated for ANSS\n",
      "Retrieving stock data\n"
     ]
    },
    {
     "name": "stderr",
     "output_type": "stream",
     "text": [
      "[*********************100%%**********************]  1 of 1 completed\n"
     ]
    },
    {
     "name": "stdout",
     "output_type": "stream",
     "text": [
      "Stock_data downloaded, High and Low columns removed, daily_change added\n",
      "Stock data downloaded and updated for AAPL\n",
      "Retrieving stock data\n"
     ]
    },
    {
     "name": "stderr",
     "output_type": "stream",
     "text": [
      "[*********************100%%**********************]  1 of 1 completed\n"
     ]
    },
    {
     "name": "stdout",
     "output_type": "stream",
     "text": [
      "Stock_data downloaded, High and Low columns removed, daily_change added\n",
      "Stock data downloaded and updated for AMAT\n",
      "Retrieving stock data\n"
     ]
    },
    {
     "name": "stderr",
     "output_type": "stream",
     "text": [
      "[*********************100%%**********************]  1 of 1 completed\n"
     ]
    },
    {
     "name": "stdout",
     "output_type": "stream",
     "text": [
      "Stock_data downloaded, High and Low columns removed, daily_change added\n",
      "Stock data downloaded and updated for GEHC\n",
      "Retrieving stock data\n"
     ]
    },
    {
     "name": "stderr",
     "output_type": "stream",
     "text": [
      "[*********************100%%**********************]  1 of 1 completed\n"
     ]
    },
    {
     "name": "stdout",
     "output_type": "stream",
     "text": [
      "Stock_data downloaded, High and Low columns removed, daily_change added\n",
      "Stock data downloaded and updated for ASML\n",
      "Retrieving stock data\n"
     ]
    },
    {
     "name": "stderr",
     "output_type": "stream",
     "text": [
      "[*********************100%%**********************]  1 of 1 completed\n"
     ]
    },
    {
     "name": "stdout",
     "output_type": "stream",
     "text": [
      "Stock_data downloaded, High and Low columns removed, daily_change added\n",
      "Stock data downloaded and updated for TEAM\n",
      "Retrieving stock data\n"
     ]
    },
    {
     "name": "stderr",
     "output_type": "stream",
     "text": [
      "[*********************100%%**********************]  1 of 1 completed\n"
     ]
    },
    {
     "name": "stdout",
     "output_type": "stream",
     "text": [
      "Stock_data downloaded, High and Low columns removed, daily_change added\n",
      "Stock data downloaded and updated for ADSK\n"
     ]
    }
   ],
   "source": [
    "# Iterate through list of stocks\n",
    "\n",
    "for symbol in nasdaq_100_A_C:\n",
    "        print(\"Retrieving stock data\")\n",
    "            \n",
    "        # Retrieve stock data and update dataframe to fit database\n",
    "        stock_data = get_stock_data(symbol, start_date, end_date)\n",
    "\n",
    "\n",
    "        # Check if the stock data is successfully downloaded\n",
    "        if stock_data.empty:\n",
    "            print(f\"Failed to download data for {symbol}\")\n",
    "        else:\n",
    "            print(f\"Stock data downloaded and updated for {symbol}\")\n",
    "\n",
    "    \n",
    "        # Send data to database\n",
    "        data_to_db(stock_data, 'stocks', engine)\n",
    "\n"
   ]
  },
  {
   "cell_type": "code",
   "execution_count": null,
   "id": "b3ab50e5-b373-49e9-8458-b58c83ac9386",
   "metadata": {},
   "outputs": [],
   "source": []
  }
 ],
 "metadata": {
  "kernelspec": {
   "display_name": "Python 3 (ipykernel)",
   "language": "python",
   "name": "python3"
  },
  "language_info": {
   "codemirror_mode": {
    "name": "ipython",
    "version": 3
   },
   "file_extension": ".py",
   "mimetype": "text/x-python",
   "name": "python",
   "nbconvert_exporter": "python",
   "pygments_lexer": "ipython3",
   "version": "3.12.3"
  }
 },
 "nbformat": 4,
 "nbformat_minor": 5
}
