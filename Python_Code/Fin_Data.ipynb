{
 "cells": [
  {
   "cell_type": "code",
   "execution_count": 1,
   "id": "1a63a807-f22f-4937-862a-cb701ca246c8",
   "metadata": {},
   "outputs": [],
   "source": [
    "import pandas as pd\n",
    "import yfinance as yf\n",
    "import psycopg2\n",
    "from psycopg2 import sql\n",
    "from sqlalchemy import create_engine"
   ]
  },
  {
   "cell_type": "code",
   "execution_count": 15,
   "id": "78221a38-74e1-43eb-8406-2d563cc23007",
   "metadata": {
    "scrolled": true
   },
   "outputs": [],
   "source": [
    "# Details for connection and api requests\n",
    "\n",
    "# Database connection details\n",
    "database = 'fin_data'\n",
    "user = 'stevengiallourakis'\n",
    "password = 'Birdman11!' # this might not be needed depenending on where you are connecting from.\n",
    "host = 'localhost'\n",
    "port =  '5433'\n",
    "connection_string = f\"postgresql://{user}:{password}@{host}:{port}/{database}\"\n",
    "engine = create_engine(connection_string)\n",
    "\n",
    "# Details for api request\n",
    "\n",
    "symbol = 'TGB'\n",
    "start_date = '2020-01-01'\n",
    "end_date = '2024-07-04'"
   ]
  },
  {
   "cell_type": "code",
   "execution_count": 25,
   "id": "974f9f01-6b6b-4d8a-beb0-d478214bc9de",
   "metadata": {},
   "outputs": [],
   "source": [
    "# Get Stock Data\n",
    "def get_stock_data(symbol, start_date, end_date):\n",
    "    stock_data = yf.download(symbol, start=start_date, end=end_date)\n",
    "    stock_data = stock_data.drop(columns = ['High', 'Low', 'Adj Close', 'Volume'])\n",
    "    stock_data['daily_change'] = stock_data['Close'] - stock_data['Open']\n",
    "    stock_data['symbol'] = symbol\n",
    "    stock_data.reset_index(inplace = True)\n",
    "    print(\"Stock_data downloaded, High and Low columns removed, daily_change added\")\n",
    "    return stock_data \n",
    "\n",
    "# Add new data to database\n",
    "\n",
    "def data_to_db(df, table_name, engine):\n",
    "    try:\n",
    "        df.to_sql(name=table_name, con=engine, if_exists='append', index=False)\n",
    "        print(\"Data successfully added to the database.\")\n",
    "    except Exception as e:\n",
    "        print(f\"An error occurred while inserting data: {e}\")\n",
    "    "
   ]
  },
  {
   "cell_type": "code",
   "execution_count": 26,
   "id": "226bf4b3-9b00-4237-9b69-b41cdf0320fd",
   "metadata": {},
   "outputs": [
    {
     "name": "stderr",
     "output_type": "stream",
     "text": [
      "[*********************100%%**********************]  1 of 1 completed"
     ]
    },
    {
     "name": "stdout",
     "output_type": "stream",
     "text": [
      "Stock_data downloaded, High and Low columns removed, daily_change added\n",
      "Data successfully added to the database.\n",
      "        Date  Open  Close  daily_change symbol\n",
      "0 2020-01-02  0.49   0.53          0.04    TGB\n",
      "1 2020-01-03  0.54   0.52         -0.02    TGB\n",
      "2 2020-01-06  0.52   0.52          0.00    TGB\n",
      "3 2020-01-07  0.52   0.53          0.01    TGB\n",
      "4 2020-01-08  0.54   0.54          0.00    TGB\n"
     ]
    },
    {
     "name": "stderr",
     "output_type": "stream",
     "text": [
      "\n"
     ]
    }
   ],
   "source": [
    "#Test\n",
    "\n",
    "stock_data = get_stock_data(symbol, start_date, end_date)\n",
    "\n",
    "data_to_db(stock_data, 'stocks', engine)\n",
    "\n",
    "print(stock_data.head())"
   ]
  },
  {
   "cell_type": "code",
   "execution_count": null,
   "id": "0752acdf-da00-4aae-8670-df84ab995650",
   "metadata": {},
   "outputs": [],
   "source": []
  }
 ],
 "metadata": {
  "kernelspec": {
   "display_name": "Python 3 (ipykernel)",
   "language": "python",
   "name": "python3"
  },
  "language_info": {
   "codemirror_mode": {
    "name": "ipython",
    "version": 3
   },
   "file_extension": ".py",
   "mimetype": "text/x-python",
   "name": "python",
   "nbconvert_exporter": "python",
   "pygments_lexer": "ipython3",
   "version": "3.12.3"
  }
 },
 "nbformat": 4,
 "nbformat_minor": 5
}
