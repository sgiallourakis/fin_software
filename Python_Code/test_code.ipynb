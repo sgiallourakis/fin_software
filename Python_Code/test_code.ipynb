{
 "cells": [
  {
   "cell_type": "markdown",
   "id": "8ebfcd2a-54c1-4be7-b6a7-5aea7a640d46",
   "metadata": {},
   "source": [
    "This file is used testing new bit of code before. Please label all code accordingly. Describe what each cell of code is intended to do."
   ]
  },
  {
   "cell_type": "code",
   "execution_count": null,
   "id": "d8d45eb2-b0c0-4a32-bd76-dd78c24f6258",
   "metadata": {},
   "outputs": [],
   "source": [
    "# Correlation Testing - Created 6-23-2024\n",
    "# Using Pearson Correlation Coefficient First"
   ]
  },
  {
   "cell_type": "code",
   "execution_count": null,
   "id": "9abc799a-4c85-4735-af36-d7fafdac8ff9",
   "metadata": {},
   "outputs": [],
   "source": [
    "# Import Python Libraries needed for analysis.\n",
    "import numpy as np\n",
    "import matplotlib.pyplot as plt\n",
    "import pandas as pd\n",
    "from scipy import stats"
   ]
  },
  {
   "cell_type": "code",
   "execution_count": null,
   "id": "abd2825e-3f27-4ed2-87ac-6fb553509f78",
   "metadata": {},
   "outputs": [],
   "source": [
    "# Data Ingestion\n",
    "# If data new data needs to be pulled from Alpha Vantage use function av_pull\n",
    "\n",
    "# av_pull -- pings alpha vantage using stock symbol, specific time interval (1min, 5min, 1hr, 1 day)\n",
    "# for the correlation testing we will just be looking at each days close, first. As time goes one we might look at smaller intervals to examine how granular we can get.\n",
    " def av_pull(symbol, interval, api_key):\n",
    "     url = f'https://www.alphavantage.co/query?function=TIME_SERIES_INTRADAY&symbol={symbol}&interval={interval}&apikey={api_key}'\n",
    "     response = requests.get(url)\n",
    "     data = response.json()\n",
    "     \n",
    "     # Retrieve current date\n",
    "     current_date = datetime.now().strftine('%Y-%m-%d')\n",
    "\n",
    "     # Make file name\n",
    "     file_name = f\"{symbol}_{interval}_{current_date}\"\n",
    "\n",
    "     # Write the json data to the new file\n",
    "     with open(file_name, 'W') as json_file:\n",
    "         json.dump(data, json_file, indent=4)\n",
    "\n",
    "     print(f\"json data saved to a{file_name}\")\n",
    "     \n",
    "\n",
    "\n",
    "# json_to_df -- converts json pulled from alphvantage and converts into a dataframe. It also adds a title to columns that contains the date and names it \"date\".\n",
    "# df_name will be \"symbol_df\", example TASEKO Mines symbol is TGB, therefore df_name would be TGB_df\n",
    "\n",
    " def json_to_df(data, df_name):\n",
    "     #convert\n",
    "     \n",
    "# the function contained in this cell pertain to statistical analysis code, and specifically correlation testing\n",
    "def csv_to_df(file_name, symbol):\n",
    "    df = pd.read_csv(file_name, parse_dates['Date'], index_col = 'Date')\n",
    "    return {symbol: df}\n",
    "\n",
    "     \n",
    "     "
   ]
  },
  {
   "cell_type": "code",
   "execution_count": null,
   "id": "b7e06689-cb11-425e-ae57-c96996accbfb",
   "metadata": {},
   "outputs": [],
   "source": [
    "# This code creates the dictionary to store our Dataframes\n",
    "stock_dfs = {}"
   ]
  },
  {
   "cell_type": "code",
   "execution_count": null,
   "id": "2d1cdf4f-2f8c-4096-ae27-3861fcd9b8dc",
   "metadata": {},
   "outputs": [],
   "source": [
    "# In case our date ranges dont match up"
   ]
  },
  {
   "cell_type": "code",
   "execution_count": null,
   "id": "6f483544-675c-4241-b29e-579957444f98",
   "metadata": {},
   "outputs": [],
   "source": []
  }
 ],
 "metadata": {
  "kernelspec": {
   "display_name": "Python 3 (ipykernel)",
   "language": "python",
   "name": "python3"
  },
  "language_info": {
   "codemirror_mode": {
    "name": "ipython",
    "version": 3
   },
   "file_extension": ".py",
   "mimetype": "text/x-python",
   "name": "python",
   "nbconvert_exporter": "python",
   "pygments_lexer": "ipython3",
   "version": "3.12.3"
  }
 },
 "nbformat": 4,
 "nbformat_minor": 5
}
