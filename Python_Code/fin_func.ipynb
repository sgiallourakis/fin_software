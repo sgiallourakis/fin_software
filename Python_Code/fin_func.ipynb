{
 "cells": [
  {
   "cell_type": "code",
   "execution_count": null,
   "id": "f0541d06-d225-447c-867e-a92639aaa9db",
   "metadata": {},
   "outputs": [],
   "source": [
    "# Functions related to data acquisition\n",
    "\n",
    "# The get_stock_data function, pulls data from yfinance (line2).\n",
    "# It then removes the columns daily \"High\", \"Low\", \"Adj Close,\" and daily \"Volume\".\n",
    "# It adds in the column \"daily_change\", which measures the change in price over the course of the day.\n",
    "\n",
    "def get_stock_data(symbol, start_date, end_date):\n",
    "    stock_data = yf.download(symbol, start=start_date, end=end_date)\n",
    "    stock_data = stock_data.drop(columns = ['High', 'Low', 'Adj Close', 'Volume'])\n",
    "    stock_data['daily_change'] = stock_data['Close'] - stock_data['Open']\n",
    "    stock_data['symbol'] = symbol\n",
    "    stock_data.reset_index(inplace = True)\n",
    "    print(\"Stock_data downloaded, High and Low columns removed, daily_change added\")\n",
    "    return stock_data "
   ]
  },
  {
   "cell_type": "code",
   "execution_count": null,
   "id": "ac021765-f45e-41c3-a050-d2c84a0bc52c",
   "metadata": {},
   "outputs": [],
   "source": [
    "# Functions related to the database\n",
    "\n",
    "# Add new data to database using data_to_db\n",
    "# The code below uses engine, to make a connection to the database and allow for the use of sql commands.\n",
    "# It then allows for the data to be copied from the  dataframe \"df = stock_data\" to the table specified.\n",
    "# The code also handles error and duplicate entries.\n",
    "\n",
    "def data_to_db(df, table_name, engine):\n",
    "    try:\n",
    "        with engine.begin() as connection:\n",
    "            for index, row in df.iterrows():\n",
    "                sql = text(f\"\"\"\n",
    "                    INSERT INTO {table_name} (\"Date\", \"Open\", \"Close\", daily_change, symbol)\n",
    "                    VALUES (:Date, :Open, :Close, :daily_change, :symbol)\n",
    "                    ON CONFLICT (symbol, \"Date\") DO NOTHING\n",
    "                \"\"\")\n",
    "                connection.execute(sql, {\n",
    "                    'Date': row['Date'],\n",
    "                    'Open': row['Open'],\n",
    "                    'Close': row['Close'],\n",
    "                    'daily_change': row['daily_change'],\n",
    "                    'symbol': row['symbol']\n",
    "                })\n",
    "        \n",
    "\n",
    "        \n",
    "        #df.to_sql(name=table_name, con=engine, if_exists='append', index=False)\n",
    "        #print(\"Data successfully added to the database.\")\n",
    "    \n",
    "    except UniqueViolation as e:\n",
    "        print(f\"Duplicate entry found for {symbol} on {data['date']}. Skipping insert.\")\n",
    "    except Exception as e:\n",
    "        print(f\"An error occurred while inserting data: {e}\")\n",
    "    \n"
   ]
  }
 ],
 "metadata": {
  "kernelspec": {
   "display_name": "Python 3 (ipykernel)",
   "language": "python",
   "name": "python3"
  },
  "language_info": {
   "codemirror_mode": {
    "name": "ipython",
    "version": 3
   },
   "file_extension": ".py",
   "mimetype": "text/x-python",
   "name": "python",
   "nbconvert_exporter": "python",
   "pygments_lexer": "ipython3",
   "version": "3.12.3"
  }
 },
 "nbformat": 4,
 "nbformat_minor": 5
}
