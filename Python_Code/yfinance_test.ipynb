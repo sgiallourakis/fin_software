{
 "cells": [
  {
   "cell_type": "code",
   "execution_count": 1,
   "id": "ad681f8e-6ba4-4df1-9d8d-7c2175b6d168",
   "metadata": {},
   "outputs": [],
   "source": [
    "# Import yfinance for data aquisition\n",
    "\n",
    "import yfinance as yf"
   ]
  },
  {
   "cell_type": "code",
   "execution_count": 3,
   "id": "b3277a30-3667-451c-8704-798f0f47bbe8",
   "metadata": {},
   "outputs": [
    {
     "name": "stderr",
     "output_type": "stream",
     "text": [
      "[*********************100%%**********************]  1 of 1 completed"
     ]
    },
    {
     "name": "stdout",
     "output_type": "stream",
     "text": [
      "            Open  High   Low  Close  Adj Close   Volume\n",
      "Date                                                   \n",
      "2022-01-03  2.06  2.13  2.03   2.11       2.11  1418600\n",
      "2022-01-04  2.12  2.18  2.09   2.16       2.16  1874200\n",
      "2022-01-05  2.17  2.27  2.13   2.16       2.16  5804100\n",
      "2022-01-06  2.10  2.13  2.05   2.05       2.05  2131600\n",
      "2022-01-07  2.07  2.08  2.00   2.06       2.06  1557000\n"
     ]
    },
    {
     "name": "stderr",
     "output_type": "stream",
     "text": [
      "\n"
     ]
    }
   ],
   "source": [
    "# Define the stock symbol and the time period\n",
    "symbol = 'TGB'  # Apple Inc. stock symbol\n",
    "start_date = '2022-01-01'\n",
    "end_date = '2024-06-28'\n",
    "\n",
    "# Get the stock data\n",
    "stock_data = yf.download(symbol, start=start_date, end=end_date)\n",
    "\n",
    "# Display the stock data\n",
    "print(stock_data.head())\n",
    "\n",
    "# Save the data to a CSV file if needed\n",
    "stock_data.to_csv('/Users/stevengiallourakis/Code/fin_software/Data/TGB_stock_data.csv')\n"
   ]
  },
  {
   "cell_type": "code",
   "execution_count": 8,
   "id": "fb44aaa0-33e4-403f-908e-cc7dc1448980",
   "metadata": {},
   "outputs": [
    {
     "name": "stdout",
     "output_type": "stream",
     "text": [
      "            Open  High   Low  Close  Adj Close   Volume\n",
      "Date                                                   \n",
      "2022-01-03  2.06  2.13  2.03   2.11       2.11  1418600\n",
      "2022-01-04  2.12  2.18  2.09   2.16       2.16  1874200\n",
      "2022-01-05  2.17  2.27  2.13   2.16       2.16  5804100\n",
      "2022-01-06  2.10  2.13  2.05   2.05       2.05  2131600\n",
      "2022-01-07  2.07  2.08  2.00   2.06       2.06  1557000\n",
      "...          ...   ...   ...    ...        ...      ...\n",
      "2024-06-21  2.57  2.58  2.48   2.51       2.51  5966000\n",
      "2024-06-24  2.54  2.65  2.52   2.62       2.62  2583500\n",
      "2024-06-25  2.62  2.63  2.50   2.53       2.53  2491800\n",
      "2024-06-26  2.52  2.53  2.44   2.48       2.48  1767200\n",
      "2024-06-27  2.49  2.50  2.43   2.44       2.44  1227400\n",
      "\n",
      "[624 rows x 6 columns]\n"
     ]
    }
   ],
   "source": [
    "print(stock_data)\n"
   ]
  },
  {
   "cell_type": "code",
   "execution_count": null,
   "id": "b48d88b9-ba60-4bd2-8817-832bdbbff923",
   "metadata": {},
   "outputs": [],
   "source": []
  }
 ],
 "metadata": {
  "kernelspec": {
   "display_name": "Python 3 (ipykernel)",
   "language": "python",
   "name": "python3"
  },
  "language_info": {
   "codemirror_mode": {
    "name": "ipython",
    "version": 3
   },
   "file_extension": ".py",
   "mimetype": "text/x-python",
   "name": "python",
   "nbconvert_exporter": "python",
   "pygments_lexer": "ipython3",
   "version": "3.12.3"
  }
 },
 "nbformat": 4,
 "nbformat_minor": 5
}
