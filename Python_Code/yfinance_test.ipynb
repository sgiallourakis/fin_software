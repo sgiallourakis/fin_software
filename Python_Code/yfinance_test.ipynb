{
 "cells": [
  {
   "cell_type": "code",
   "execution_count": 2,
   "id": "ad681f8e-6ba4-4df1-9d8d-7c2175b6d168",
   "metadata": {},
   "outputs": [],
   "source": [
    "# Import yfinance for data aquisition\n",
    "\n",
    "import yfinance as yf\n",
    "import pandas as pd"
   ]
  },
  {
   "cell_type": "code",
   "execution_count": 3,
   "id": "b3277a30-3667-451c-8704-798f0f47bbe8",
   "metadata": {},
   "outputs": [
    {
     "name": "stderr",
     "output_type": "stream",
     "text": [
      "[*********************100%%**********************]  1 of 1 completed"
     ]
    },
    {
     "name": "stdout",
     "output_type": "stream",
     "text": [
      "                  Open        High         Low       Close   Adj Close  \\\n",
      "Date                                                                     \n",
      "2022-01-03  177.830002  182.880005  177.710007  182.009995  179.481140   \n",
      "2022-01-04  182.630005  182.940002  179.119995  179.699997  177.203201   \n",
      "2022-01-05  179.610001  180.169998  174.639999  174.919998  172.489639   \n",
      "2022-01-06  172.699997  175.300003  171.639999  172.000000  169.610214   \n",
      "2022-01-07  172.889999  174.139999  171.029999  172.169998  169.777832   \n",
      "\n",
      "               Volume  \n",
      "Date                   \n",
      "2022-01-03  104487900  \n",
      "2022-01-04   99310400  \n",
      "2022-01-05   94537600  \n",
      "2022-01-06   96904000  \n",
      "2022-01-07   86709100  \n"
     ]
    },
    {
     "name": "stderr",
     "output_type": "stream",
     "text": [
      "\n"
     ]
    }
   ],
   "source": [
    "# Define the stock symbol and the time period\n",
    "symbol = 'AAPL'  # Apple Inc. stock symbol\n",
    "start_date = '2022-01-01'\n",
    "end_date = '2024-06-28'\n",
    "\n",
    "# Get the stock data\n",
    "stock_data = yf.download(symbol, start=start_date, end=end_date)\n",
    "\n",
    "# Display the stock data\n",
    "print(stock_data.head())\n",
    "\n",
    "# Save the data to a CSV file if needed\n",
    "stock_data.to_csv('/Users/stevengiallourakis/Code/fin_software/Data/AAPL_stock_data.csv')\n"
   ]
  },
  {
   "cell_type": "code",
   "execution_count": 4,
   "id": "fb44aaa0-33e4-403f-908e-cc7dc1448980",
   "metadata": {},
   "outputs": [
    {
     "name": "stdout",
     "output_type": "stream",
     "text": [
      "                  Open        High         Low       Close   Adj Close  \\\n",
      "Date                                                                     \n",
      "2022-01-03  177.830002  182.880005  177.710007  182.009995  179.481140   \n",
      "2022-01-04  182.630005  182.940002  179.119995  179.699997  177.203201   \n",
      "2022-01-05  179.610001  180.169998  174.639999  174.919998  172.489639   \n",
      "2022-01-06  172.699997  175.300003  171.639999  172.000000  169.610214   \n",
      "2022-01-07  172.889999  174.139999  171.029999  172.169998  169.777832   \n",
      "...                ...         ...         ...         ...         ...   \n",
      "2024-06-21  210.389999  211.889999  207.110001  207.490005  207.490005   \n",
      "2024-06-24  207.720001  212.699997  206.589996  208.139999  208.139999   \n",
      "2024-06-25  209.149994  211.380005  208.610001  209.070007  209.070007   \n",
      "2024-06-26  211.500000  214.860001  210.639999  213.250000  213.250000   \n",
      "2024-06-27  214.690002  215.740005  212.350006  214.100006  214.100006   \n",
      "\n",
      "               Volume  \n",
      "Date                   \n",
      "2022-01-03  104487900  \n",
      "2022-01-04   99310400  \n",
      "2022-01-05   94537600  \n",
      "2022-01-06   96904000  \n",
      "2022-01-07   86709100  \n",
      "...               ...  \n",
      "2024-06-21  246421400  \n",
      "2024-06-24   80727000  \n",
      "2024-06-25   56713900  \n",
      "2024-06-26   66213200  \n",
      "2024-06-27   49772700  \n",
      "\n",
      "[624 rows x 6 columns]\n"
     ]
    }
   ],
   "source": [
    "print(stock_data)\n"
   ]
  },
  {
   "cell_type": "code",
   "execution_count": null,
   "id": "b48d88b9-ba60-4bd2-8817-832bdbbff923",
   "metadata": {},
   "outputs": [],
   "source": []
  }
 ],
 "metadata": {
  "kernelspec": {
   "display_name": "Python 3 (ipykernel)",
   "language": "python",
   "name": "python3"
  },
  "language_info": {
   "codemirror_mode": {
    "name": "ipython",
    "version": 3
   },
   "file_extension": ".py",
   "mimetype": "text/x-python",
   "name": "python",
   "nbconvert_exporter": "python",
   "pygments_lexer": "ipython3",
   "version": "3.12.3"
  }
 },
 "nbformat": 4,
 "nbformat_minor": 5
}
