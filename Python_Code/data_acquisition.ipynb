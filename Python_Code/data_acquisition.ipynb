{
 "cells": [
  {
   "cell_type": "code",
   "execution_count": 2,
   "id": "722bb8c5-730e-44aa-b5fc-9f553c69feea",
   "metadata": {},
   "outputs": [],
   "source": [
    "import pandas as pd\n",
    "import yfinance as yf\n",
    "import psycopg2\n",
    "from psycopg2 import sql\n",
    "from sqlalchemy import create_engine, text\n",
    "from psycopg2.errors import UniqueViolation\n",
    "from fin_func import *"
   ]
  },
  {
   "cell_type": "code",
   "execution_count": 3,
   "id": "c3488bd4-1e4a-48a3-aef2-54ac6d400135",
   "metadata": {},
   "outputs": [],
   "source": [
    "# Database connection details\n",
    "database = 'fin_data'\n",
    "user = 'stevengiallourakis'\n",
    "password = 'Birdman11!' # this might not be needed depenending on where you are connecting from.\n",
    "host = 'localhost'\n",
    "port =  '5433'\n",
    "connection_string = f\"postgresql://{user}:{password}@{host}:{port}/{database}\"\n",
    "engine = create_engine(connection_string)"
   ]
  },
  {
   "cell_type": "code",
   "execution_count": null,
   "id": "d6f50ace-cf8c-4a56-b840-9eee37c7830f",
   "metadata": {},
   "outputs": [],
   "source": [
    "# DB = stocks, table = stocks\n",
    "\n",
    "stock_data = get_stock_data(symbol, start_date, end_date)\n",
    "\n",
    "# add data to database - table stocks\n",
    "\n",
    "data_to_db(stock_data, 'stocks', engine)\n",
    "\n",
    "print(stock_data)"
   ]
  },
  {
   "cell_type": "code",
   "execution_count": null,
   "id": "04dee4a6-4446-4dad-bc53-0c4365c9b49b",
   "metadata": {},
   "outputs": [],
   "source": [
    "# Details for commodities api request\n",
    "\n",
    "symbol = ''\n",
    "start_date = '2020-01-01'\n",
    "end_date = '2024-07-04'"
   ]
  },
  {
   "cell_type": "code",
   "execution_count": null,
   "id": "bf13edd0-00fb-4d38-8a10-5964db099379",
   "metadata": {},
   "outputs": [],
   "source": [
    "# DB = stocks, table = commodities\n",
    "commodities_data = get_commodities_data(symbol, start_date, end_date)\n",
    "\n",
    "data_to_db(commodities_data, 'commodities', engine)\n",
    "\n",
    "print(commodities_data)"
   ]
  },
  {
   "cell_type": "code",
   "execution_count": null,
   "id": "3058417f-14a7-46d1-bd01-26ecab33d42f",
   "metadata": {},
   "outputs": [],
   "source": [
    "# Bulk Data download\n",
    "\n",
    "bulk_data = []"
   ]
  },
  {
   "cell_type": "code",
   "execution_count": null,
   "id": "d3fa6576-34d0-47d3-b616-ddbf036fdc4d",
   "metadata": {},
   "outputs": [],
   "source": [
    "# Bulk Data download\n",
    "\n",
    "\n",
    "\n",
    "bulk_data = []\n",
    "\n",
    "# Iterate through list of stocks\n",
    "\n",
    "for symbol in bulk_data:\n",
    "        print(\"Retrieving stock data\")\n",
    "            \n",
    "        # Retrieve stock data and update dataframe to fit database\n",
    "        stock_data = get_stock_data(symbol, start_date, end_date)\n",
    "\n",
    "\n",
    "        # Check if the stock data is successfully downloaded\n",
    "        if stock_data.empty:\n",
    "            print(f\"Failed to download data for {symbol}\")\n",
    "        else:\n",
    "            print(f\"Stock data downloaded and updated for {symbol}\")\n",
    "\n",
    "    \n",
    "        # Send data to database\n",
    "        data_to_db(daily_stock_prices, 'stocks', engine)"
   ]
  },
  {
   "cell_type": "code",
   "execution_count": 4,
   "id": "0c5b0b4a-e3a3-45a3-85dd-5c2a0aab7fee",
   "metadata": {},
   "outputs": [],
   "source": [
    "# This code is designed to create a list of companies by letter.\n",
    "# This is being done so that I can break up the size of the data downloads from yfinance.\n",
    "# I can designate the letter i want to start with and the code will create a list for companies\n",
    "# that start with that letter.\n",
    "\n",
    "def create_company_list_by_letter(letter, engine):\n",
    "\n",
    "    # Connect to the database\n",
    "    with engine.connect() as connection:\n",
    "        # Query to select companies where the name starts with the specified letter\n",
    "        result = connection.execute(\n",
    "            text(\"SELECT stock_symbol, company_name FROM company_list WHERE company_name LIKE :letter\"),\n",
    "            {\"letter\": f\"{letter}%\"}\n",
    "        ).fetchall()\n",
    "\n",
    "    # Convert result to a list of dictionaries\n",
    "    companies = [{\"stock_symbol\": row[0], \"company_name\": row[1]} for row in result]\n",
    "    return companies\n",
    "\n"
   ]
  },
  {
   "cell_type": "code",
   "execution_count": 5,
   "id": "e1677832-eb2e-4e78-bd6c-9e50355a4d05",
   "metadata": {},
   "outputs": [
    {
     "name": "stdout",
     "output_type": "stream",
     "text": [
      "Companies starting with A:\n",
      "{'stock_symbol': 'A', 'company_name': 'Agilent Technologies'}\n",
      "{'stock_symbol': 'AA', 'company_name': 'Alcoa Inc.'}\n",
      "{'stock_symbol': 'AAN', 'company_name': \"Aaron's Inc\"}\n",
      "{'stock_symbol': 'AAT', 'company_name': 'American Assets Trust'}\n",
      "{'stock_symbol': 'AAV', 'company_name': 'Advantage Oil & Gas Ltd'}\n",
      "{'stock_symbol': 'AB', 'company_name': 'Alliance Capital Management L.P.'}\n",
      "{'stock_symbol': 'ABB', 'company_name': 'Abb Ltd'}\n",
      "{'stock_symbol': 'ABBV', 'company_name': 'Abbvie Inc. Common Stock'}\n",
      "{'stock_symbol': 'ABC', 'company_name': 'Amerisourcebergen Corporation'}\n",
      "{'stock_symbol': 'ABM', 'company_name': 'Abm Industries Incorporated'}\n",
      "{'stock_symbol': 'ABR', 'company_name': 'Arbor Realty Trust'}\n",
      "{'stock_symbol': 'ABR-PA', 'company_name': 'Arbor Realty Trust Preferred Se'}\n",
      "{'stock_symbol': 'ABR-PB', 'company_name': 'Arbor Realty Trust Cumulative R'}\n",
      "{'stock_symbol': 'ABT', 'company_name': 'Abbot Laboratories'}\n",
      "{'stock_symbol': 'ABW-PB', 'company_name': 'Associated Banc-Corp Depositary'}\n",
      "{'stock_symbol': 'ACE', 'company_name': 'Ace Limited'}\n",
      "{'stock_symbol': 'ACG', 'company_name': 'Alliancebernstein Income Fund Inc'}\n",
      "{'stock_symbol': 'ACH', 'company_name': 'Aluminum Corporation of China Ltd.'}\n",
      "{'stock_symbol': 'ACI', 'company_name': 'Arch Coal'}\n",
      "{'stock_symbol': 'ACM', 'company_name': 'Aecom Technology Corp.'}\n",
      "{'stock_symbol': 'ACMP', 'company_name': 'Access Midstream Partners L.P.'}\n",
      "{'stock_symbol': 'ACN', 'company_name': 'Accenture Plc.'}\n",
      "{'stock_symbol': 'ACO', 'company_name': 'Amcol International Corp.'}\n",
      "{'stock_symbol': 'ACP', 'company_name': 'Avenue Income Credit Strategies'}\n",
      "{'stock_symbol': 'ACRE', 'company_name': 'Ares Commercial Real Estate Cor'}\n",
      "{'stock_symbol': 'ACT', 'company_name': 'Actavis Inc.'}\n",
      "{'stock_symbol': 'ACTV', 'company_name': 'Active Network Inc'}\n",
      "{'stock_symbol': 'ACW', 'company_name': 'Accuride Corporation New'}\n",
      "{'stock_symbol': 'ADC', 'company_name': 'Agree Realty Corp.'}\n",
      "{'stock_symbol': 'ADM', 'company_name': 'Archer-Daniels-Midland Company'}\n",
      "{'stock_symbol': 'ADS', 'company_name': 'Alliance Data Systems Corp.'}\n",
      "{'stock_symbol': 'ADT', 'company_name': 'Adt Corporation Common Stock W'}\n",
      "{'stock_symbol': 'ADX', 'company_name': 'Adams Express Company'}\n",
      "{'stock_symbol': 'AEB', 'company_name': 'Aegon Express Company'}\n",
      "{'stock_symbol': 'AEC', 'company_name': 'Associated Estates Realty Corp.'}\n",
      "{'stock_symbol': 'AED', 'company_name': 'Aegon Nv'}\n",
      "{'stock_symbol': 'AEE', 'company_name': 'Ameren Corp.'}\n",
      "{'stock_symbol': 'AEF', 'company_name': 'Aegon Nv'}\n",
      "{'stock_symbol': 'AEG', 'company_name': 'Aegon Nv'}\n",
      "{'stock_symbol': 'AEH', 'company_name': 'Aegon Nv'}\n",
      "{'stock_symbol': 'AEK', 'company_name': 'Aegon N.V. 8.00%'}\n",
      "{'stock_symbol': 'AEL', 'company_name': 'American Equity Investment Life'}\n",
      "{'stock_symbol': 'AEM', 'company_name': 'Agnico-Eagle Mines Limited'}\n",
      "{'stock_symbol': 'AEO', 'company_name': 'American Eagle Outfitters'}\n",
      "{'stock_symbol': 'AEP', 'company_name': 'American Electric Power Company'}\n",
      "{'stock_symbol': 'AER', 'company_name': 'Aercap Holdings N.V.'}\n",
      "{'stock_symbol': 'AES-PC', 'company_name': 'AES Corporation Class C P'}\n",
      "{'stock_symbol': 'AET', 'company_name': 'Aetna Inc.'}\n",
      "{'stock_symbol': 'AEV', 'company_name': 'Aegon Nv'}\n",
      "{'stock_symbol': 'AF', 'company_name': 'Astoria Financial Corp.'}\n",
      "{'stock_symbol': 'AFA', 'company_name': 'American Financial Group Inc.'}\n",
      "{'stock_symbol': 'AFB', 'company_name': 'Alliance National Municipal'}\n",
      "{'stock_symbol': 'AFC', 'company_name': 'Allied Capital Corp.'}\n",
      "{'stock_symbol': 'AFG', 'company_name': 'American Financial Group  '}\n",
      "{'stock_symbol': 'AFL', 'company_name': 'Aflac Incorporated'}\n",
      "{'stock_symbol': 'AFM', 'company_name': 'Affiliated Managers Group Inc'}\n",
      "{'stock_symbol': 'AFQ', 'company_name': 'American Financial Group'}\n",
      "{'stock_symbol': 'AFSD', 'company_name': 'Aflac Incorporated'}\n",
      "{'stock_symbol': 'AFT', 'company_name': 'Apollo Senior Floating Rate Fund Inc.'}\n",
      "{'stock_symbol': 'AFW', 'company_name': 'American Financial Group Inc.'}\n",
      "{'stock_symbol': 'AGC', 'company_name': 'Advent Claymore Convertible Securities'}\n",
      "{'stock_symbol': 'AGCO', 'company_name': 'Agco Corp.'}\n",
      "{'stock_symbol': 'AGD', 'company_name': 'Alpine Global Dynamic Dividend Fund'}\n",
      "{'stock_symbol': 'AGI', 'company_name': 'Alamos Gold Inc.'}\n",
      "{'stock_symbol': 'AGN', 'company_name': 'Allergan'}\n",
      "{'stock_symbol': 'AGO', 'company_name': 'Assured Guaranty Ltd'}\n",
      "{'stock_symbol': 'AGO-PF', 'company_name': 'Assured Guaranty Ltd [B]'}\n",
      "{'stock_symbol': 'AGO-E', 'company_name': 'Assured Guaranty Ltd [E]'}\n",
      "{'stock_symbol': 'AGO-F', 'company_name': 'Assured Guaranty Ltd [F]'}\n",
      "{'stock_symbol': 'AGRO', 'company_name': 'Adecoagro S.A.'}\n",
      "{'stock_symbol': 'AGU', 'company_name': 'Agrium Inc.'}\n",
      "{'stock_symbol': 'AH', 'company_name': 'Accretive Health'}\n",
      "{'stock_symbol': 'AHC', 'company_name': 'A.H. Belo Corp.'}\n",
      "{'stock_symbol': 'AHH', 'company_name': 'Armada Hoffler Properties Inc.'}\n",
      "{'stock_symbol': 'AHL', 'company_name': 'Aspen Insurance Holdings'}\n",
      "{'stock_symbol': 'AHL-PA', 'company_name': 'Aspen Insurance Holdings Limite'}\n",
      "{'stock_symbol': 'AHL-PC', 'company_name': 'Aspen Insurance Holdings Limite'}\n",
      "{'stock_symbol': 'AHL-C', 'company_name': 'Aspen ins Pfd Inc'}\n",
      "{'stock_symbol': 'AHS', 'company_name': 'Amn Healthcare Services Inc'}\n",
      "{'stock_symbol': 'AHT', 'company_name': 'Ashford Hospitality Trust Inc'}\n",
      "{'stock_symbol': 'AHT-PA', 'company_name': 'Ashford Hospitality Trust Inc 8'}\n",
      "{'stock_symbol': 'AHT-PD', 'company_name': 'Ashford Hospitality Trust Inc 8'}\n",
      "{'stock_symbol': 'AI', 'company_name': 'Arlington Asset Investment Corp'}\n",
      "{'stock_symbol': 'AIB', 'company_name': 'Apollo Investment Corporation'}\n",
      "{'stock_symbol': 'AIF', 'company_name': 'Apollo Tactical Income Fund Inc'}\n",
      "{'stock_symbol': 'AIG', 'company_name': 'American International Group'}\n",
      "{'stock_symbol': 'AIG-WT', 'company_name': 'American International Group'}\n",
      "{'stock_symbol': 'AIN', 'company_name': 'Albany International Corp.'}\n",
      "{'stock_symbol': 'AIR', 'company_name': 'Aar '}\n",
      "{'stock_symbol': 'AIT', 'company_name': 'Applied Industrial Technologies'}\n",
      "{'stock_symbol': 'AIV', 'company_name': 'Apartment Investment And Management'}\n",
      "{'stock_symbol': 'AIV-Z', 'company_name': 'Aparment Inv. & Mgt. Co.'}\n",
      "{'stock_symbol': 'AIW', 'company_name': 'Arlington Asset Investment Cor '}\n",
      "{'stock_symbol': 'AIY', 'company_name': 'Apollo Investment Corporation'}\n",
      "{'stock_symbol': 'AIZ', 'company_name': 'Assurant'}\n",
      "{'stock_symbol': 'AJG', 'company_name': 'Arthur J. Gallagher & Co.'}\n",
      "{'stock_symbol': 'AKP', 'company_name': 'Alliance California Muni'}\n",
      "{'stock_symbol': 'AKR', 'company_name': 'Acadia Realty Trust'}\n",
      "{'stock_symbol': 'AKS', 'company_name': 'Ak Steel Holding Corp.'}\n",
      "{'stock_symbol': 'AL', 'company_name': 'Air Lease Corporation Class A C'}\n",
      "{'stock_symbol': 'ALB', 'company_name': 'Albemarle Corp.'}\n",
      "{'stock_symbol': 'ALDW', 'company_name': 'Alon USA Partners Lp'}\n",
      "{'stock_symbol': 'ALE', 'company_name': 'Allete'}\n",
      "{'stock_symbol': 'ALEX', 'company_name': 'Alexander And Baldwin Inc'}\n",
      "{'stock_symbol': 'ALG', 'company_name': 'Alamo Group'}\n",
      "{'stock_symbol': 'ALJ', 'company_name': 'Alon USA Energy'}\n",
      "{'stock_symbol': 'ALK', 'company_name': 'Alaska Air Group'}\n",
      "{'stock_symbol': 'ALL', 'company_name': 'Allstate Corporation'}\n",
      "{'stock_symbol': 'ALL-B', 'company_name': 'Ally Financial Inc Fixed Rate F'}\n",
      "{'stock_symbol': 'ALP-N', 'company_name': 'Alabama Pwr 5.2A Pfd'}\n",
      "{'stock_symbol': 'ALP-O', 'company_name': 'Alabama Pwr 5.83A Pf'}\n",
      "{'stock_symbol': 'ALP-P', 'company_name': 'Alabama Power 5.30 A'}\n",
      "{'stock_symbol': 'ALR', 'company_name': 'Alere Inc.'}\n",
      "{'stock_symbol': 'ALR-B', 'company_name': 'Alere Inc. inverness Medical In'}\n",
      "{'stock_symbol': 'ALSN', 'company_name': 'Allison Transmission Holdings'}\n",
      "{'stock_symbol': 'ALU', 'company_name': 'Alcatel Lucent'}\n",
      "{'stock_symbol': 'ALV', 'company_name': 'Autoliv'}\n",
      "{'stock_symbol': 'ALX', 'company_name': \"Alexander's\"}\n",
      "{'stock_symbol': 'AM', 'company_name': 'American Greetings Corp.'}\n",
      "{'stock_symbol': 'AMD', 'company_name': 'Advanced Micro Devices'}\n",
      "{'stock_symbol': 'AME', 'company_name': 'Amtek'}\n",
      "{'stock_symbol': 'AMG', 'company_name': 'Affiliated Managers Group  '}\n",
      "{'stock_symbol': 'AMH', 'company_name': 'American Homes 4 Rent'}\n",
      "{'stock_symbol': 'AMID', 'company_name': 'American Midsteampartners Lp'}\n",
      "{'stock_symbol': 'AMP', 'company_name': 'Ameriprise Financial Services'}\n",
      "{'stock_symbol': 'AMP-A', 'company_name': 'Ameriprise Financial  '}\n",
      "{'stock_symbol': 'AMRC', 'company_name': 'Ameresco Inc'}\n",
      "{'stock_symbol': 'AMRE', 'company_name': 'Amreit Inc.'}\n",
      "{'stock_symbol': 'AMT', 'company_name': 'American Tower Corp.'}\n",
      "{'stock_symbol': 'AMT-A', 'company_name': 'Apollo Residential Preferred'}\n",
      "{'stock_symbol': 'AMTG', 'company_name': 'Apollo Residential Mortgage In'}\n",
      "{'stock_symbol': 'AMX', 'company_name': 'American Movil S.A.B. De C.V.'}\n",
      "{'stock_symbol': 'AN', 'company_name': 'Autonation'}\n",
      "{'stock_symbol': 'ANF', 'company_name': 'Abercrombie & Fitch Company'}\n",
      "{'stock_symbol': 'ANFI', 'company_name': 'Amira Nature Foods Ltd'}\n",
      "{'stock_symbol': 'ANH', 'company_name': 'Anworth Mortgage Asset Corp.'}\n",
      "{'stock_symbol': 'ANH-A', 'company_name': 'Anworth Mtg Pfd A'}\n",
      "{'stock_symbol': 'ANH-B', 'company_name': 'Anworth 6.25 Pr S B'}\n",
      "{'stock_symbol': 'ANN', 'company_name': 'Ann Inc'}\n",
      "{'stock_symbol': 'ANR', 'company_name': 'Alpha Natural Resources'}\n",
      "{'stock_symbol': 'ANW', 'company_name': 'Aegean Marine Petroleum Network'}\n",
      "{'stock_symbol': 'AOD', 'company_name': 'Alpine Total Dynamic Dividend'}\n",
      "{'stock_symbol': 'AOI', 'company_name': 'Alliance One International'}\n",
      "{'stock_symbol': 'AOL', 'company_name': 'Aol Inc.'}\n",
      "{'stock_symbol': 'AON', 'company_name': 'Aon Plc'}\n",
      "{'stock_symbol': 'AP', 'company_name': 'Ampco-Pittsburgh Corp.'}\n",
      "{'stock_symbol': 'APA', 'company_name': 'Apache Corp.'}\n",
      "{'stock_symbol': 'APA-D', 'company_name': 'Apache Corporation'}\n",
      "{'stock_symbol': 'APAM', 'company_name': 'Artisan Partners Asset Manageme'}\n",
      "{'stock_symbol': 'APB', 'company_name': 'Asia Pacific Fund Inc.'}\n",
      "{'stock_symbol': 'APC', 'company_name': 'Anadarko Petroleum Corp.'}\n",
      "{'stock_symbol': 'APD', 'company_name': 'Air Products And Chemicals'}\n",
      "{'stock_symbol': 'APH', 'company_name': 'Amphenol Corp.'}\n",
      "{'stock_symbol': 'APL', 'company_name': 'Atlas Pipeline Partners L.P.'}\n",
      "{'stock_symbol': 'APO', 'company_name': 'Apollo Global Management LLc C'}\n",
      "{'stock_symbol': 'APU', 'company_name': 'Amerigas Partners L.P.'}\n",
      "{'stock_symbol': 'ARB', 'company_name': 'Arbitron Inc.'}\n",
      "{'stock_symbol': 'ARC', 'company_name': 'American Reprographics Company'}\n",
      "{'stock_symbol': 'ARDC', 'company_name': 'Ares Dynamic Credit Allocation'}\n",
      "{'stock_symbol': 'ARE', 'company_name': 'Alexandria Real Estate Equities'}\n",
      "{'stock_symbol': 'ARE-E', 'company_name': 'Alexandria Real Estate Equite'}\n",
      "{'stock_symbol': 'ARG', 'company_name': 'Airgas'}\n",
      "{'stock_symbol': 'ARH-C', 'company_name': 'Arch Capital Group Ltd. 6.75% P'}\n",
      "{'stock_symbol': 'ARI', 'company_name': 'Apollo Commercial Real Estate'}\n",
      "{'stock_symbol': 'ARI-A', 'company_name': 'Apollo Commercial Real Estate'}\n",
      "{'stock_symbol': 'ARL', 'company_name': 'American Realty Investors'}\n",
      "{'stock_symbol': 'ARN', 'company_name': 'Ares Capital Corporation 7.00%'}\n",
      "{'stock_symbol': 'ARO', 'company_name': 'Aeropostale Inc'}\n",
      "{'stock_symbol': 'ARP', 'company_name': 'Atlas Resource Partners L.P. C'}\n",
      "{'stock_symbol': 'ARPI', 'company_name': 'American Residential Properties'}\n",
      "{'stock_symbol': 'ARR', 'company_name': 'Armour Residential R'}\n",
      "{'stock_symbol': 'ARR-A', 'company_name': 'Armour Residential REIT Inc'}\n",
      "{'stock_symbol': 'ARR-B', 'company_name': 'Armour Residential REIT Inc'}\n",
      "{'stock_symbol': 'ARSD', 'company_name': 'Arabian American Development'}\n",
      "{'stock_symbol': 'ARU', 'company_name': 'Ares Capital Corporation  '}\n",
      "{'stock_symbol': 'ARW', 'company_name': 'Arrow Electronics'}\n",
      "{'stock_symbol': 'ARX', 'company_name': 'Aeroflex Holding'}\n",
      "{'stock_symbol': 'ARY', 'company_name': 'Ares Capital Corp.'}\n",
      "{'stock_symbol': 'ASA', 'company_name': 'Asa Gold And Precious Metals'}\n",
      "{'stock_symbol': 'ASC', 'company_name': 'Ardmore Shipping Corporation'}\n",
      "{'stock_symbol': 'ASH', 'company_name': 'Ashland Inc.'}\n",
      "{'stock_symbol': 'ASI', 'company_name': 'American Safety Insurance Holdings'}\n",
      "{'stock_symbol': 'ASP', 'company_name': 'American Strategic Income Portfolio'}\n",
      "{'stock_symbol': 'ASX', 'company_name': 'Advanced Semiconductor Engineering'}\n",
      "{'stock_symbol': 'AT', 'company_name': 'Atlantic Power Corp.'}\n",
      "{'stock_symbol': 'ATE', 'company_name': 'Advantest Corporation Ads'}\n",
      "{'stock_symbol': 'ATHL', 'company_name': 'Athlon Energy Inc.'}\n",
      "{'stock_symbol': 'ATI', 'company_name': 'Allagheny Technologies Inc.'}\n",
      "{'stock_symbol': 'ATK', 'company_name': 'Alliant Techsystems Inc.'}\n",
      "{'stock_symbol': 'ATLS', 'company_name': 'Atlas Energy Corp.'}\n",
      "{'stock_symbol': 'ATO', 'company_name': 'Atmos Energy Llc'}\n",
      "{'stock_symbol': 'ATR', 'company_name': 'Aptargroup'}\n",
      "{'stock_symbol': 'ATU', 'company_name': 'Actuant Corp.'}\n",
      "{'stock_symbol': 'ATV', 'company_name': 'Acorn International'}\n",
      "{'stock_symbol': 'ATW', 'company_name': 'Atwood Oceanics'}\n",
      "{'stock_symbol': 'AU', 'company_name': 'Anglogold Ashanti Ltd'}\n",
      "{'stock_symbol': 'AU-A', 'company_name': 'Anglogold Ashanti Holdings Fin'}\n",
      "{'stock_symbol': 'AUO', 'company_name': 'Au Optronics Corp'}\n",
      "{'stock_symbol': 'AUQ', 'company_name': 'Aurico Gold Inc'}\n",
      "{'stock_symbol': 'AV', 'company_name': 'Aviva Plc'}\n",
      "{'stock_symbol': 'AVA', 'company_name': 'Avista Corp.'}\n",
      "{'stock_symbol': 'AVB', 'company_name': 'Avalonbay Communities'}\n",
      "{'stock_symbol': 'AVD', 'company_name': 'American Vanguard Corp.'}\n",
      "{'stock_symbol': 'AVG', 'company_name': 'Avg Technologies N.V.'}\n",
      "{'stock_symbol': 'AVIV ', 'company_name': 'Aviv REIT Inc. Common Stock'}\n",
      "{'stock_symbol': 'AVK', 'company_name': 'Advent Claymore Convertible Securities'}\n",
      "{'stock_symbol': 'AVP', 'company_name': 'Avon Products'}\n",
      "{'stock_symbol': 'AVT', 'company_name': 'Avnet'}\n",
      "{'stock_symbol': 'AVV', 'company_name': 'Aviva Plc'}\n",
      "{'stock_symbol': 'AVX', 'company_name': 'Avx Corp.'}\n",
      "{'stock_symbol': 'AVY', 'company_name': 'Avery Dennison Corp.'}\n",
      "{'stock_symbol': 'AWC', 'company_name': 'Alumina Ltd'}\n",
      "{'stock_symbol': 'AWF', 'company_name': 'Alliance World Dollar Fund II'}\n",
      "{'stock_symbol': 'AWH', 'company_name': 'Allied World Assurance Company'}\n",
      "{'stock_symbol': 'AWI', 'company_name': 'Armstrong World Industries Inc'}\n",
      "{'stock_symbol': 'AWK', 'company_name': 'American Water Works'}\n",
      "{'stock_symbol': 'AWP', 'company_name': 'Alpine Global Premier Propertie'}\n",
      "{'stock_symbol': 'AWR', 'company_name': 'American States Water Company'}\n",
      "{'stock_symbol': 'AXE', 'company_name': 'Anixter International Inc.'}\n",
      "{'stock_symbol': 'AXL', 'company_name': 'American Axle & Manufacturing'}\n",
      "{'stock_symbol': 'AXP', 'company_name': 'American Express Company'}\n",
      "{'stock_symbol': 'AXR', 'company_name': 'Amrep Corp.'}\n",
      "{'stock_symbol': 'AXS', 'company_name': 'Axis Capital Holdings'}\n",
      "{'stock_symbol': 'AXS-C', 'company_name': 'Axis Capital Holdings Limited P'}\n",
      "{'stock_symbol': 'AXS-D', 'company_name': 'Axis Capital Holdings Limited  '}\n",
      "{'stock_symbol': 'AYI', 'company_name': 'Acuity Brands Inc'}\n",
      "{'stock_symbol': 'AYN', 'company_name': 'Alliance New York Muni'}\n",
      "{'stock_symbol': 'AYR', 'company_name': 'Aircastle Limited'}\n",
      "{'stock_symbol': 'AZN', 'company_name': 'Astrazeneca Plc'}\n",
      "{'stock_symbol': 'AZO', 'company_name': 'Autozone'}\n",
      "{'stock_symbol': 'AZZ', 'company_name': 'Azz Inc.'}\n",
      "{'stock_symbol': 'BNNY', 'company_name': \"Annie's Inc.\"}\n",
      "{'stock_symbol': 'BSI', 'company_name': 'Alon Holdings - Blue Square Israel Ltd'}\n",
      "{'stock_symbol': 'BSP', 'company_name': 'American Strategic Income Portfolio II'}\n",
      "{'stock_symbol': 'BUD', 'company_name': 'Anheuser-Busch Inbev Sa'}\n",
      "{'stock_symbol': 'CSP', 'company_name': 'American Strategic Income Portfolio III'}\n",
      "{'stock_symbol': 'DOX', 'company_name': 'Amdocs Limited'}\n",
      "{'stock_symbol': 'FAV', 'company_name': 'Active Dividend'}\n",
      "{'stock_symbol': 'GAS', 'company_name': 'Agl Resources'}\n",
      "{'stock_symbol': 'GRO', 'company_name': 'Agria Corp.'}\n",
      "{'stock_symbol': 'GRR', 'company_name': 'Asia Tigers Fund'}\n",
      "{'stock_symbol': 'LCM', 'company_name': 'Advent/Claymore Enhanced Growth &'}\n",
      "{'stock_symbol': 'LNT', 'company_name': 'Alliant Energy Corp.'}\n",
      "{'stock_symbol': 'MGR', 'company_name': 'Affiliated Managers Group Inc'}\n",
      "{'stock_symbol': 'MIT-A', 'company_name': 'Ag Mortgage Investment Trust'}\n",
      "{'stock_symbol': 'MITT', 'company_name': 'Ag Mortgage Investment Trust'}\n",
      "{'stock_symbol': 'MO', 'company_name': 'Altria Group'}\n",
      "{'stock_symbol': 'MRF', 'company_name': 'American'}\n",
      "{'stock_symbol': 'MT', 'company_name': 'Arcelormittal'}\n",
      "{'stock_symbol': 'MTCN', 'company_name': 'Arcelormittal'}\n",
      "{'stock_symbol': 'MTOR', 'company_name': 'Arvinmeritor'}\n",
      "{'stock_symbol': 'NAI', 'company_name': 'Agic International & Premium Strategy'}\n",
      "{'stock_symbol': 'NCV', 'company_name': 'Agic Convertible &'}\n",
      "{'stock_symbol': 'NCZ', 'company_name': 'Agic Convertible & II'}\n",
      "{'stock_symbol': 'NGZ', 'company_name': 'Agic Global Equity & Convertible'}\n",
      "{'stock_symbol': 'NIE', 'company_name': 'Agic Equity & Convertible'}\n",
      "{'stock_symbol': 'NLY', 'company_name': 'Annaly Capital Management Inc'}\n",
      "{'stock_symbol': 'NLY-A', 'company_name': 'Annaly Capital Manag'}\n",
      "{'stock_symbol': 'NLY-C', 'company_name': 'Annaly Capital Management Inc'}\n",
      "{'stock_symbol': 'NLY-D', 'company_name': 'Annaly Capital Management Inc'}\n",
      "{'stock_symbol': 'PVD', 'company_name': 'Administradora De Fondos De Pensiones'}\n",
      "{'stock_symbol': 'RESI', 'company_name': 'Altisource Residential Corporat'}\n",
      "{'stock_symbol': 'SLA', 'company_name': 'American Select Portfolio'}\n",
      "{'stock_symbol': 'T', 'company_name': 'AT&T Inc.'}\n",
      "{'stock_symbol': 'XAA', 'company_name': 'American Muni Income Portfolio'}\n",
      "{'stock_symbol': 'Y', 'company_name': 'Alleghany Corp.'}\n",
      "{'stock_symbol': 'AAIT', 'company_name': 'AC Asia Information Tech MSCI Ishares'}\n",
      "{'stock_symbol': 'AAME', 'company_name': 'Atlantic American Corp.'}\n",
      "{'stock_symbol': 'AAON', 'company_name': 'Aaon'}\n",
      "{'stock_symbol': 'AAPL', 'company_name': 'Apple Inc.'}\n",
      "{'stock_symbol': 'AAWW', 'company_name': 'Atlas Air Worldwide Holdings'}\n",
      "{'stock_symbol': 'AAXJ', 'company_name': 'All Country Asia Ex Jpn Idx MSCI Ishares'}\n",
      "{'stock_symbol': 'ABAX', 'company_name': 'Abaxis'}\n",
      "{'stock_symbol': 'ABCB', 'company_name': 'Ameris Bancorp'}\n",
      "{'stock_symbol': 'ABFS', 'company_name': 'Arkansas Best Corp.'}\n",
      "{'stock_symbol': 'ABIO', 'company_name': 'Arca Biopharma'}\n",
      "{'stock_symbol': 'ABMD', 'company_name': 'Abiomed'}\n",
      "{'stock_symbol': 'ABTL', 'company_name': 'Autobytel Inc.'}\n",
      "{'stock_symbol': 'ACAD', 'company_name': 'Acadia Pharmaceuticals Inc.'}\n",
      "{'stock_symbol': 'ACAS', 'company_name': 'American Capital'}\n",
      "{'stock_symbol': 'ACAT', 'company_name': 'Arctic Cat Inc.'}\n",
      "{'stock_symbol': 'ACCL', 'company_name': 'Accelrys'}\n",
      "{'stock_symbol': 'ACET', 'company_name': 'Aceto Corp.'}\n",
      "{'stock_symbol': 'ACFC', 'company_name': 'Atlantic Coast Federal Corp.'}\n",
      "{'stock_symbol': 'ACFN', 'company_name': 'Acorn Energy'}\n",
      "{'stock_symbol': 'ACGL', 'company_name': 'Arch Capital Group Ltd'}\n",
      "{'stock_symbol': 'ACHC', 'company_name': 'Acadia Healthcare Company Inc.'}\n",
      "{'stock_symbol': 'ACHN', 'company_name': 'Achillion Pharmaceuticals'}\n",
      "{'stock_symbol': 'ACIW', 'company_name': 'Aci Worldwide'}\n",
      "{'stock_symbol': 'ACLS', 'company_name': 'Axcelis Technologies'}\n",
      "{'stock_symbol': 'ACNB', 'company_name': 'Acnb Corp.'}\n",
      "{'stock_symbol': 'ACOR', 'company_name': 'Acorda Therapeutics'}\n",
      "{'stock_symbol': 'ACPW', 'company_name': 'Active Power'}\n",
      "{'stock_symbol': 'ACRX', 'company_name': 'Acelrx Pharmaceuticals'}\n",
      "{'stock_symbol': 'ACST', 'company_name': 'Acasti Pharma Inc'}\n",
      "{'stock_symbol': 'ACTG', 'company_name': 'Acacia Research Corp.'}\n",
      "{'stock_symbol': 'ACTS', 'company_name': 'Actions Semiconductor Co.'}\n",
      "{'stock_symbol': 'ACUR', 'company_name': 'Acura Pharmaceuticals'}\n",
      "{'stock_symbol': 'ACWI', 'company_name': 'ACWI Index MSCI Ishares'}\n",
      "{'stock_symbol': 'ACWX', 'company_name': 'ACWI Ex-US Index MSCI Ishares'}\n",
      "{'stock_symbol': 'ACXM', 'company_name': 'Acxiom Corp.'}\n",
      "{'stock_symbol': 'ADAT', 'company_name': 'Authentidate Holding'}\n",
      "{'stock_symbol': 'ADBE', 'company_name': 'Adobe Systems Incorporated'}\n",
      "{'stock_symbol': 'ADEP', 'company_name': 'Adept Technology'}\n",
      "{'stock_symbol': 'ADES', 'company_name': 'Ada-Es'}\n",
      "{'stock_symbol': 'ADHD', 'company_name': 'Alcobra Ltd.'}\n",
      "{'stock_symbol': 'ADI', 'company_name': 'Analog Devices'}\n",
      "{'stock_symbol': 'ADNC', 'company_name': 'Audience Inc.'}\n",
      "{'stock_symbol': 'ADP', 'company_name': 'Automatic Data Processing'}\n",
      "{'stock_symbol': 'ADRA', 'company_name': 'Asia 50 ADR Index Bldrs'}\n",
      "{'stock_symbol': 'ADSK', 'company_name': 'Autodesk'}\n",
      "{'stock_symbol': 'ADTN', 'company_name': 'Adtran'}\n",
      "{'stock_symbol': 'ADUS', 'company_name': 'Addus Homecare Corp.'}\n",
      "{'stock_symbol': 'ADVS', 'company_name': 'Advent Software'}\n",
      "{'stock_symbol': 'AEGN', 'company_name': 'Aegoin Corp'}\n",
      "{'stock_symbol': 'AEGR', 'company_name': 'Aegerion Pharmaceuticals'}\n",
      "{'stock_symbol': 'AEHR', 'company_name': 'Aehr Test Systems'}\n",
      "{'stock_symbol': 'AEIS', 'company_name': 'Advanced Energy Industries'}\n",
      "{'stock_symbol': 'AEPI', 'company_name': 'Aep Industries Inc.'}\n",
      "{'stock_symbol': 'AERL', 'company_name': 'Asia Entertainment & Resources Ltd'}\n",
      "{'stock_symbol': 'AETI', 'company_name': 'American Electric Technologies'}\n",
      "{'stock_symbol': 'AEY', 'company_name': 'Addvantage Technologies Group'}\n",
      "{'stock_symbol': 'AEZS', 'company_name': 'Aeterna Zentaris'}\n",
      "{'stock_symbol': 'AFAM', 'company_name': 'Almost Family Inc'}\n",
      "{'stock_symbol': 'AFCB', 'company_name': 'Athens Bancshares Corp.'}\n",
      "{'stock_symbol': 'AFCE', 'company_name': 'Afc Enterprises'}\n",
      "{'stock_symbol': 'AFFX', 'company_name': 'Affymetrix'}\n",
      "{'stock_symbol': 'AFH', 'company_name': 'Atlas Financial Holdings Inc.'}\n",
      "{'stock_symbol': 'AFOP', 'company_name': 'Alliance Fiber Optic Products'}\n",
      "{'stock_symbol': 'AFSI', 'company_name': 'Amtrust Financial Services'}\n",
      "{'stock_symbol': 'AGEN', 'company_name': 'Agenus Inc.'}\n",
      "{'stock_symbol': 'AGII', 'company_name': 'Argo Group International Holdings Ltd'}\n",
      "{'stock_symbol': 'AGIIL', 'company_name': 'Argo Group International Holdin'}\n",
      "{'stock_symbol': 'AGIO', 'company_name': 'Agios Pharmaceuticals Inc.'}\n",
      "{'stock_symbol': 'AGNC', 'company_name': 'American Capital Agency'}\n",
      "{'stock_symbol': 'AGNCP', 'company_name': 'American Capital'}\n",
      "{'stock_symbol': 'AGYS', 'company_name': 'Agilysys'}\n",
      "{'stock_symbol': 'AHGP', 'company_name': 'Alliance Holdings Gp L.P.'}\n",
      "{'stock_symbol': 'AHPI', 'company_name': 'Allied Healthcare Products'}\n",
      "{'stock_symbol': 'AIMC', 'company_name': 'Altra Holdings'}\n",
      "{'stock_symbol': 'AINV', 'company_name': 'Apollo Investment Corp.'}\n",
      "{'stock_symbol': 'AIQ', 'company_name': 'Alliance Healthcare Services'}\n",
      "{'stock_symbol': 'AIRM', 'company_name': 'Air Methods Corp.'}\n",
      "{'stock_symbol': 'AIRT', 'company_name': 'Air T'}\n",
      "{'stock_symbol': 'AIXG', 'company_name': 'Aixtron Se'}\n",
      "{'stock_symbol': 'AKAM', 'company_name': 'Akamai Technologies'}\n",
      "{'stock_symbol': 'AKRX', 'company_name': 'Akorn'}\n",
      "{'stock_symbol': 'ALCO', 'company_name': 'Alico'}\n",
      "{'stock_symbol': 'ALCS', 'company_name': 'Alco Stores Inc'}\n",
      "{'stock_symbol': 'ALGN', 'company_name': 'Align Technology'}\n",
      "{'stock_symbol': 'ALGT', 'company_name': 'Allegiant Travel Company'}\n",
      "{'stock_symbol': 'ALIM', 'company_name': 'Alimera Sciences'}\n",
      "{'stock_symbol': 'ALKS', 'company_name': 'Alkermes'}\n",
      "{'stock_symbol': 'ALLB', 'company_name': 'Alliance Bank'}\n",
      "{'stock_symbol': 'ALLT', 'company_name': 'Allot Communications Ltd'}\n",
      "{'stock_symbol': 'ALNY', 'company_name': 'Alnylam Pharmaceuticals'}\n",
      "{'stock_symbol': 'ALOG', 'company_name': 'Analogic Corp.'}\n",
      "{'stock_symbol': 'ALOT', 'company_name': 'Astro-Med'}\n",
      "{'stock_symbol': 'ALSK', 'company_name': 'Alaska Communications Systems'}\n",
      "{'stock_symbol': 'ALTI', 'company_name': 'Altair Nanotechnologies Inc.'}\n",
      "{'stock_symbol': 'ALTR', 'company_name': 'Altera Corp.'}\n",
      "{'stock_symbol': 'ALVR', 'company_name': 'Alvarion Ltd'}\n",
      "{'stock_symbol': 'ALXA', 'company_name': 'Alexza Pharmaceuticals'}\n",
      "{'stock_symbol': 'ALXN', 'company_name': 'Alexion Pharmaceuticals'}\n",
      "{'stock_symbol': 'AMAG', 'company_name': 'Amag Pharmaceuticals'}\n",
      "{'stock_symbol': 'AMAP', 'company_name': 'Autonavi Holdings'}\n",
      "{'stock_symbol': 'AMAT', 'company_name': 'Applied Materials'}\n",
      "{'stock_symbol': 'AMBA', 'company_name': 'Ambarella Inc.'}\n",
      "{'stock_symbol': 'AMBC', 'company_name': 'Ambac Financial Group Inc.'}\n",
      "{'stock_symbol': 'AMBCW', 'company_name': 'Ambac Financial Group Inc.'}\n",
      "{'stock_symbol': 'AMBI', 'company_name': 'Ambit Biosciences Corporation'}\n",
      "{'stock_symbol': 'AMBT', 'company_name': 'Ambient Corp'}\n",
      "{'stock_symbol': 'AMCC', 'company_name': 'Applied Micro Circuits Corp.'}\n",
      "{'stock_symbol': 'AMCF', 'company_name': 'Andatee China Marine Fuel Services'}\n",
      "{'stock_symbol': 'AMCN', 'company_name': 'Airmedia Group Inc'}\n",
      "{'stock_symbol': 'AMCX', 'company_name': 'Amc Networks Inc.'}\n",
      "{'stock_symbol': 'AMED', 'company_name': 'Amedisys Inc'}\n",
      "{'stock_symbol': 'AMGN', 'company_name': 'Amgen Inc.'}\n",
      "{'stock_symbol': 'AMIC', 'company_name': 'American Independence'}\n",
      "{'stock_symbol': 'AMKR', 'company_name': 'Amkor Technology'}\n",
      "{'stock_symbol': 'AMNB', 'company_name': 'American National Bankshares'}\n",
      "{'stock_symbol': 'AMOT', 'company_name': 'Allied Motion Technologies'}\n",
      "{'stock_symbol': 'AMOV', 'company_name': 'America Movil S.A.B. De C.V.'}\n",
      "{'stock_symbol': 'AMRB', 'company_name': 'American River Bankshares'}\n",
      "{'stock_symbol': 'AMRI', 'company_name': 'Albany Molecular Research'}\n",
      "{'stock_symbol': 'AMRN', 'company_name': 'Amarin Corporation Plc'}\n",
      "{'stock_symbol': 'AMRS', 'company_name': 'Amyris'}\n",
      "{'stock_symbol': 'AMSC', 'company_name': 'American Superconductor Corp.'}\n",
      "{'stock_symbol': 'AMSF', 'company_name': 'Amerisafe'}\n",
      "{'stock_symbol': 'AMSG', 'company_name': 'Amsurg'}\n",
      "{'stock_symbol': 'AMSWA', 'company_name': 'American Software'}\n",
      "{'stock_symbol': 'AMWD', 'company_name': 'American Woodmark Corp.'}\n",
      "{'stock_symbol': 'AMZN', 'company_name': 'Amazon.Com'}\n",
      "{'stock_symbol': 'ANAC', 'company_name': 'Anacor Pharmaceuticals'}\n",
      "{'stock_symbol': 'ANAD', 'company_name': 'Anadigics'}\n",
      "{'stock_symbol': 'ANAT', 'company_name': 'American National Insurance'}\n",
      "{'stock_symbol': 'ANCB', 'company_name': 'Anchor Bancorp'}\n",
      "{'stock_symbol': 'ANCI', 'company_name': 'American Caresource Holdings'}\n",
      "{'stock_symbol': 'ANCX', 'company_name': 'Access National Corp.'}\n",
      "{'stock_symbol': 'ANDA', 'company_name': 'Andina Acquisition Corporation'}\n",
      "{'stock_symbol': 'ANDAU', 'company_name': 'Andina Acquisition Corporation'}\n",
      "{'stock_symbol': 'ANDAW', 'company_name': 'Andina Acquisition Corporation'}\n",
      "{'stock_symbol': 'ANEN', 'company_name': 'Anaren'}\n",
      "{'stock_symbol': 'ANGI', 'company_name': \"Angie's List Inc.\"}\n",
      "{'stock_symbol': 'ANGO', 'company_name': 'Angiodynamics'}\n",
      "{'stock_symbol': 'ANIK', 'company_name': 'Anika Therapeutics Inc.'}\n",
      "{'stock_symbol': 'ANIP', 'company_name': 'Ani Pharmaceuticals Inc.'}\n",
      "{'stock_symbol': 'ANLY', 'company_name': 'Analysts International Corp.'}\n",
      "{'stock_symbol': 'ANSS', 'company_name': 'Ansys'}\n",
      "{'stock_symbol': 'ANTH', 'company_name': 'Anthera Pharmaceuticals'}\n",
      "{'stock_symbol': 'AOSL', 'company_name': 'Alpha And Omega Semiconductor'}\n",
      "{'stock_symbol': 'APAGF', 'company_name': 'Apco Oil And Gas International'}\n",
      "{'stock_symbol': 'APEI', 'company_name': 'American Public Education'}\n",
      "{'stock_symbol': 'APFC', 'company_name': 'American Pacific Corp.'}\n",
      "{'stock_symbol': 'APOG', 'company_name': 'Apogee Enterprises'}\n",
      "{'stock_symbol': 'APOL', 'company_name': 'Apollo Group'}\n",
      "{'stock_symbol': 'APPY', 'company_name': 'Aspenbio Pharma'}\n",
      "{'stock_symbol': 'APRI', 'company_name': 'Apricus Biosciences Inc'}\n",
      "{'stock_symbol': 'APSA', 'company_name': 'Alto Palermo S.A.'}\n",
      "{'stock_symbol': 'APWC', 'company_name': 'Asia Pac Wire &Cable'}\n",
      "{'stock_symbol': 'AQU', 'company_name': 'Aquasition Corp.'}\n",
      "{'stock_symbol': 'AQUUU', 'company_name': 'Aquasition Corp.'}\n",
      "{'stock_symbol': 'AQUUW', 'company_name': 'Aquasition Corp.'}\n",
      "{'stock_symbol': 'ARAY', 'company_name': 'Accuray Incorporated'}\n",
      "{'stock_symbol': 'ARCC', 'company_name': 'Ares Capital Corp.'}\n",
      "{'stock_symbol': 'ARCI', 'company_name': 'Appliance Recycling Centers'}\n",
      "{'stock_symbol': 'ARCP', 'company_name': 'American Realty Capital Propert'}\n",
      "{'stock_symbol': 'ARCW', 'company_name': 'Arc Wireless Solutions'}\n",
      "{'stock_symbol': 'ARDNA', 'company_name': 'Arden Group'}\n",
      "{'stock_symbol': 'AREX', 'company_name': 'Approach Resources Inc.'}\n",
      "{'stock_symbol': 'ARIA', 'company_name': 'Ariad Pharmaceuticals'}\n",
      "{'stock_symbol': 'ARII', 'company_name': 'American Railcar Industries'}\n",
      "{'stock_symbol': 'ARKR', 'company_name': 'Ark Restaurants'}\n",
      "{'stock_symbol': 'ARLP', 'company_name': 'Alliance Resource Partners L.P.'}\n",
      "{'stock_symbol': 'ARMH', 'company_name': 'Arm Holdings Plc'}\n",
      "{'stock_symbol': 'ARNA', 'company_name': 'Arena Pharmaceuticals'}\n",
      "{'stock_symbol': 'AROW', 'company_name': 'Arrow Financial Corp.'}\n",
      "{'stock_symbol': 'ARQL', 'company_name': 'Arqule'}\n",
      "{'stock_symbol': 'ARRS', 'company_name': 'Arris Group Inc'}\n",
      "{'stock_symbol': 'ARRY', 'company_name': 'Array Biopharma Inc.'}\n",
      "{'stock_symbol': 'ARTC', 'company_name': 'Arthrocare Corp.'}\n",
      "{'stock_symbol': 'ARTNA', 'company_name': 'Artesian Resources Corp.'}\n",
      "{'stock_symbol': 'ARTW', 'company_name': \"Art'S-Way Manufacturing Co.\"}\n",
      "{'stock_symbol': 'ARTX', 'company_name': 'Arotech Corp.'}\n",
      "{'stock_symbol': 'ARUN', 'company_name': 'Aruba Networks'}\n",
      "{'stock_symbol': 'ARWR', 'company_name': 'Arrowhead Research Corp.'}\n",
      "{'stock_symbol': 'ASBB', 'company_name': 'Asb Bancorp Inc.'}\n",
      "{'stock_symbol': 'ASBC', 'company_name': 'Associated Banc-Corp'}\n",
      "{'stock_symbol': 'ASBCW', 'company_name': 'Associated Banc-Corp'}\n",
      "{'stock_symbol': 'ASBI', 'company_name': 'Ameriana Bancorp'}\n",
      "{'stock_symbol': 'ASCA', 'company_name': 'Ameristar Casinos'}\n",
      "{'stock_symbol': 'ASCMA', 'company_name': 'Ascent Media Corp.'}\n",
      "{'stock_symbol': 'ASEI', 'company_name': 'American Science And Engineering'}\n",
      "{'stock_symbol': 'ASFI', 'company_name': 'Asta Funding'}\n",
      "{'stock_symbol': 'ASIA', 'company_name': 'Asiainfo-Linkage'}\n",
      "{'stock_symbol': 'ASMI', 'company_name': 'Asm International N.V.'}\n",
      "{'stock_symbol': 'ASML', 'company_name': 'Asml Holding N.V.'}\n",
      "{'stock_symbol': 'ASNA', 'company_name': 'Ascena Retail Group'}\n",
      "{'stock_symbol': 'ASPS', 'company_name': 'Altisource Portfolio Solutions S.A.'}\n",
      "{'stock_symbol': 'ASRV', 'company_name': 'Ameriserv Financial Inc.'}\n",
      "{'stock_symbol': 'ASRVP', 'company_name': 'Ameriserv Financial Inc.'}\n",
      "{'stock_symbol': 'ASTC', 'company_name': 'Astrotech Corp.'}\n",
      "{'stock_symbol': 'ASTE', 'company_name': 'Astec Industries'}\n",
      "{'stock_symbol': 'ASTI', 'company_name': 'Ascent Solar Technologies'}\n",
      "{'stock_symbol': 'ASTM', 'company_name': 'Aastrom Biosciences'}\n",
      "{'stock_symbol': 'ASTX', 'company_name': 'Astex Pharmaceuticals Inc'}\n",
      "{'stock_symbol': 'ASUR', 'company_name': 'Asure Software Inc'}\n",
      "{'stock_symbol': 'ASYS', 'company_name': 'Amtech Systems'}\n",
      "{'stock_symbol': 'ATAI', 'company_name': 'Ata Inc.'}\n",
      "{'stock_symbol': 'ATAX', 'company_name': 'America First Tax Exempt L.P.'}\n",
      "{'stock_symbol': 'ATEA', 'company_name': 'Astea International'}\n",
      "{'stock_symbol': 'ATEC', 'company_name': 'Alphatec Holdings'}\n",
      "{'stock_symbol': 'ATHN', 'company_name': 'Athenahealth'}\n",
      "{'stock_symbol': 'ATHX', 'company_name': 'Athersys'}\n",
      "{'stock_symbol': 'ATLC', 'company_name': 'Atlanticus Holdings Corp.'}\n",
      "{'stock_symbol': 'ATLO', 'company_name': 'Ames National Corp.'}\n",
      "{'stock_symbol': 'ATMI', 'company_name': 'Atmi Inc.'}\n",
      "{'stock_symbol': 'ATML', 'company_name': 'Atmel Corp.'}\n",
      "{'stock_symbol': 'ATNI', 'company_name': 'Atlantic Tele-Network'}\n",
      "{'stock_symbol': 'ATNY', 'company_name': 'Api Technologies'}\n",
      "{'stock_symbol': 'ATOS', 'company_name': 'Atossa Genetics Inc.'}\n",
      "{'stock_symbol': 'ATRC', 'company_name': 'Atricure'}\n",
      "{'stock_symbol': 'ATRI', 'company_name': 'Atrion Corp.'}\n",
      "{'stock_symbol': 'ATRM', 'company_name': 'Aetrium Inc.'}\n",
      "{'stock_symbol': 'ATRO', 'company_name': 'Astronics Corp.'}\n",
      "{'stock_symbol': 'ATRS', 'company_name': 'Antares Pharma'}\n",
      "{'stock_symbol': 'ATSG', 'company_name': 'Air Transport Services Group Inc'}\n",
      "{'stock_symbol': 'ATTU', 'company_name': 'Attunity Ltd'}\n",
      "{'stock_symbol': 'ATVI', 'company_name': 'Activision Blizzard Inc'}\n",
      "{'stock_symbol': 'AUBN', 'company_name': 'Auburn National Bancorporation'}\n",
      "{'stock_symbol': 'AUDC', 'company_name': 'Audiocodes Ltd'}\n",
      "{'stock_symbol': 'AUXL', 'company_name': 'Auxilium Pharmaceuticals'}\n",
      "{'stock_symbol': 'AVAV', 'company_name': 'Aerovironment'}\n",
      "{'stock_symbol': 'AVEO', 'company_name': 'Aveo Pharmaceuticals'}\n",
      "{'stock_symbol': 'AVGO', 'company_name': 'Avago Technologies'}\n",
      "{'stock_symbol': 'AVHI', 'company_name': 'Av Homes Inc'}\n",
      "{'stock_symbol': 'AVID', 'company_name': 'Avid Technology'}\n",
      "{'stock_symbol': 'AVNR', 'company_name': 'Avanir Pharmaceuticals Inc'}\n",
      "{'stock_symbol': 'AVNW', 'company_name': 'Aviat Networks'}\n",
      "{'stock_symbol': 'AWRE', 'company_name': 'Aware'}\n",
      "{'stock_symbol': 'AXAS', 'company_name': 'Abraxas Petroleum Corp.'}\n",
      "{'stock_symbol': 'AXDX', 'company_name': 'Accelerate Diagnostics Inc.'}\n",
      "{'stock_symbol': 'AXFN', 'company_name': 'ACWI Ex-US Financials MSCI Ishares'}\n",
      "{'stock_symbol': 'AXJS', 'company_name': 'AC Asia Ex Japan Smallcap MSCI Ishares'}\n",
      "{'stock_symbol': 'AXTI', 'company_name': 'Axt Inc'}\n",
      "{'stock_symbol': 'AZPN', 'company_name': 'Aspen Technology'}\n",
      "{'stock_symbol': 'BIRT', 'company_name': 'Actuate Corp.'}\n",
      "{'stock_symbol': 'CAR', 'company_name': 'Avis Budget Group'}\n",
      "{'stock_symbol': 'CRMT', 'company_name': \"America's Car-Mart\"}\n",
      "{'stock_symbol': 'EPAX', 'company_name': 'Ambassadors Group'}\n",
      "{'stock_symbol': 'FOLD', 'company_name': 'Amicus Therapeutics'}\n",
      "{'stock_symbol': 'MDRX', 'company_name': 'Allscripts Healthcare Solutions'}\n",
      "{'stock_symbol': 'MTGE', 'company_name': 'American Capital Mortgage Inves'}\n",
      "{'stock_symbol': 'PETX', 'company_name': 'Aratana Therapeutics Inc.'}\n",
      "{'stock_symbol': 'SHLM', 'company_name': 'A. Schulman'}\n",
      "{'stock_symbol': 'THRM', 'company_name': 'Amerigon Incorporated'}\n",
      "{'stock_symbol': 'UHAL', 'company_name': 'Amerco'}\n",
      "{'stock_symbol': 'VOXX', 'company_name': 'Audiovox Corp.'}\n"
     ]
    }
   ],
   "source": [
    "letter = 'A'\n",
    "# Letters downloaded and added to database\n",
    "companies = create_company_list_by_letter(letter, engine)\n",
    "print(f\"Companies starting with {letter}:\")\n",
    "for company in companies:\n",
    "    print(company)"
   ]
  },
  {
   "cell_type": "code",
   "execution_count": 12,
   "id": "a59883f4-2754-4b8b-b084-273fec191a9c",
   "metadata": {},
   "outputs": [],
   "source": [
    "def get_stock_data(stock_symbol: str, start_date: str, end_date: str) -> pd.DataFrame:\n",
    "    if not isinstance(stock_symbol, str):\n",
    "        raise TypeError(\"'stock_symbol' must be a string representing a valid stock symbol\")\n",
    "    try:\n",
    "        start_date = pd.to_datetime(start_date)\n",
    "        end_date = pd.to_datetime(end_date)\n",
    "    except Exception as e:\n",
    "        logging.error(f\"Error converting dates to datetime: {e}\")\n",
    "        return None\n",
    "    try:\n",
    "        stock_data = yf.download(stock_symbol, start=start_date, end=end_date)\n",
    "    except Exception as e:\n",
    "        logging.error(f\"Error downloading stock data: {e}\")\n",
    "        return None\n",
    "\n",
    "    if stock_data.empty:\n",
    "        logging.error(f\"Error stock data received. Aborting further operations.\")\n",
    "        return None\n",
    "\n",
    "    # Drop unnecessary columns\n",
    "    stock_data = stock_data.drop(columns=['High', 'Low', 'Adj Close', 'Volume'], errors='ignore')\n",
    "\n",
    "    # Calculate daily change and percent change\n",
    "    stock_data['daily_change'] = stock_data['Close'] - stock_data['Open']\n",
    "    stock_data['percent_change'] = (\n",
    "            ((stock_data['Close'] - stock_data['Open']) / stock_data['Open']) * 100)\n",
    "\n",
    "    # Add the stock symbol column\n",
    "    stock_data['stock_symbol'] = stock_symbol\n",
    "\n",
    "    \n",
    "    stock_data.reset_index(inplace=True)\n",
    "    logging.info(\"Stock_data downloaded, High and Low columns removed, daily_change added\")\n",
    "    return stock_data\n",
    "\n",
    "\n",
    "\n",
    "def data_to_db(df, table_name, engine):\n",
    "    try:\n",
    "        with engine.begin() as connection:\n",
    "            for index, row in df.iterrows():\n",
    "                sql = text(f\"\"\"\n",
    "                    INSERT INTO {table_name} (\"Date\", \"Open\", \"Close\", daily_change, percent_change, stock_symbol)\n",
    "                    VALUES (:Date, :Open, :Close, :daily_change, :percent_change, :stock_symbol)\n",
    "                    ON CONFLICT (stock_symbol, \"Date\") DO NOTHING\n",
    "                \"\"\")\n",
    "                connection.execute(sql, {\n",
    "                    'Date': row['Date'],\n",
    "                    'Open': row['Open'],\n",
    "                    'Close': row['Close'],\n",
    "                    'daily_change': row['daily_change'],\n",
    "                    'percent_change': row['percent_change'],\n",
    "                    'stock_symbol': row['stock_symbol']\n",
    "                })\n",
    "        \n",
    "\n",
    "        \n",
    "        #df.to_sql(name=table_name, con=engine, if_exists='append', index=False)\n",
    "        #print(\"Data successfully added to the database.\")\n",
    "    \n",
    "    except UniqueViolation as e:\n",
    "        print(f\"Duplicate entry found for {stock_symbol} on {data['date']}. Skipping insert.\")\n",
    "    except Exception as e:\n",
    "        print(f\"An error occurred while inserting data: {e}\")\n",
    "    "
   ]
  },
  {
   "cell_type": "code",
   "execution_count": 13,
   "id": "56a8b3ff-400e-42f4-9888-56e779f14a5f",
   "metadata": {},
   "outputs": [
    {
     "name": "stderr",
     "output_type": "stream",
     "text": [
      "[*********************100%%**********************]  1 of 1 completed\n",
      "[*********************100%%**********************]  1 of 1 completed\n",
      "[*********************100%%**********************]  1 of 1 completed\n",
      "[*********************100%%**********************]  1 of 1 completed\n",
      "[*********************100%%**********************]  1 of 1 completed\n",
      "ERROR:yfinance:\n",
      "1 Failed download:\n",
      "ERROR:yfinance:['AAV']: YFPricesMissingError('$%ticker%: possibly delisted; No price data found  (1d 2010-01-01 00:00:00 -> 2024-07-01 00:00:00)')\n",
      "ERROR:root:Error stock data received. Aborting further operations.\n"
     ]
    },
    {
     "name": "stdout",
     "output_type": "stream",
     "text": [
      "$AAV: possibly delisted; No price data found  (1d 2010-01-01 00:00:00 -> 2024-07-01 00:00:00)\n",
      "Failed to retrieve data for AAV\n"
     ]
    },
    {
     "name": "stderr",
     "output_type": "stream",
     "text": [
      "[*********************100%%**********************]  1 of 1 completed\n",
      "[*********************100%%**********************]  1 of 1 completed\n",
      "ERROR:yfinance:\n",
      "1 Failed download:\n",
      "ERROR:yfinance:['ABB']: YFTzMissingError('$%ticker%: possibly delisted; No timezone found')\n",
      "ERROR:root:Error stock data received. Aborting further operations.\n"
     ]
    },
    {
     "name": "stdout",
     "output_type": "stream",
     "text": [
      "Failed to retrieve data for ABB\n"
     ]
    },
    {
     "name": "stderr",
     "output_type": "stream",
     "text": [
      "[*********************100%%**********************]  1 of 1 completed\n",
      "[*********************100%%**********************]  1 of 1 completed\n",
      "ERROR:yfinance:\n",
      "1 Failed download:\n",
      "ERROR:yfinance:['ABC']: YFTzMissingError('$%ticker%: possibly delisted; No timezone found')\n",
      "ERROR:root:Error stock data received. Aborting further operations.\n"
     ]
    },
    {
     "name": "stdout",
     "output_type": "stream",
     "text": [
      "Failed to retrieve data for ABC\n"
     ]
    },
    {
     "name": "stderr",
     "output_type": "stream",
     "text": [
      "[*********************100%%**********************]  1 of 1 completed\n",
      "[*********************100%%**********************]  1 of 1 completed\n",
      "[*********************100%%**********************]  1 of 1 completed\n",
      "ERROR:yfinance:\n",
      "1 Failed download:\n",
      "ERROR:yfinance:['ABR-PA']: YFTzMissingError('$%ticker%: possibly delisted; No timezone found')\n",
      "ERROR:root:Error stock data received. Aborting further operations.\n"
     ]
    },
    {
     "name": "stdout",
     "output_type": "stream",
     "text": [
      "Failed to retrieve data for ABR-PA\n"
     ]
    },
    {
     "name": "stderr",
     "output_type": "stream",
     "text": [
      "[*********************100%%**********************]  1 of 1 completed\n",
      "ERROR:yfinance:\n",
      "1 Failed download:\n",
      "ERROR:yfinance:['ABR-PB']: YFTzMissingError('$%ticker%: possibly delisted; No timezone found')\n",
      "ERROR:root:Error stock data received. Aborting further operations.\n"
     ]
    },
    {
     "name": "stdout",
     "output_type": "stream",
     "text": [
      "Failed to retrieve data for ABR-PB\n"
     ]
    },
    {
     "name": "stderr",
     "output_type": "stream",
     "text": [
      "[*********************100%%**********************]  1 of 1 completed\n",
      "[*********************100%%**********************]  1 of 1 completed\n",
      "ERROR:yfinance:\n",
      "1 Failed download:\n",
      "ERROR:yfinance:['ABW-PB']: YFInvalidPeriodError(\"%ticker%: Period 'max' is invalid, must be one of ['1d', '5d']\")\n",
      "ERROR:root:Error stock data received. Aborting further operations.\n",
      "[*********************100%%**********************]  1 of 1 completed\n",
      "ERROR:yfinance:\n",
      "1 Failed download:\n",
      "ERROR:yfinance:['ACE']: YFPricesMissingError('$%ticker%: possibly delisted; No price data found  (1d 2010-01-01 00:00:00 -> 2024-07-01 00:00:00)')\n",
      "ERROR:root:Error stock data received. Aborting further operations.\n",
      "[*********************100%%**********************]  1 of 1 completed\n",
      "ERROR:yfinance:\n",
      "1 Failed download:\n",
      "ERROR:yfinance:['ACG']: YFPricesMissingError('$%ticker%: possibly delisted; No price data found  (1d 2010-01-01 00:00:00 -> 2024-07-01 00:00:00)')\n",
      "ERROR:root:Error stock data received. Aborting further operations.\n"
     ]
    },
    {
     "name": "stdout",
     "output_type": "stream",
     "text": [
      "Failed to retrieve data for ABW-PB\n",
      "$ACE: possibly delisted; No price data found  (1d 2010-01-01 00:00:00 -> 2024-07-01 00:00:00)\n",
      "Failed to retrieve data for ACE\n",
      "$ACG: possibly delisted; No price data found  (1d 2010-01-01 00:00:00 -> 2024-07-01 00:00:00)\n",
      "Failed to retrieve data for ACG\n"
     ]
    },
    {
     "name": "stderr",
     "output_type": "stream",
     "text": [
      "[*********************100%%**********************]  1 of 1 completed\n",
      "ERROR:yfinance:\n",
      "1 Failed download:\n",
      "ERROR:yfinance:['ACH']: YFTzMissingError('$%ticker%: possibly delisted; No timezone found')\n",
      "ERROR:root:Error stock data received. Aborting further operations.\n",
      "[*********************100%%**********************]  1 of 1 completed\n"
     ]
    },
    {
     "name": "stdout",
     "output_type": "stream",
     "text": [
      "Failed to retrieve data for ACH\n"
     ]
    },
    {
     "name": "stderr",
     "output_type": "stream",
     "text": [
      "[*********************100%%**********************]  1 of 1 completed\n",
      "[*********************100%%**********************]  1 of 1 completed\n",
      "ERROR:yfinance:\n",
      "1 Failed download:\n",
      "ERROR:yfinance:['ACMP']: YFPricesMissingError('$%ticker%: possibly delisted; No price data found  (1d 2010-01-01 00:00:00 -> 2024-07-01 00:00:00)')\n",
      "ERROR:root:Error stock data received. Aborting further operations.\n"
     ]
    },
    {
     "name": "stdout",
     "output_type": "stream",
     "text": [
      "$ACMP: possibly delisted; No price data found  (1d 2010-01-01 00:00:00 -> 2024-07-01 00:00:00)\n",
      "Failed to retrieve data for ACMP\n"
     ]
    },
    {
     "name": "stderr",
     "output_type": "stream",
     "text": [
      "[*********************100%%**********************]  1 of 1 completed\n",
      "[*********************100%%**********************]  1 of 1 completed\n",
      "ERROR:yfinance:\n",
      "1 Failed download:\n",
      "ERROR:yfinance:['ACO']: YFPricesMissingError('$%ticker%: possibly delisted; No price data found  (1d 2010-01-01 00:00:00 -> 2024-07-01 00:00:00)')\n",
      "ERROR:root:Error stock data received. Aborting further operations.\n"
     ]
    },
    {
     "name": "stdout",
     "output_type": "stream",
     "text": [
      "$ACO: possibly delisted; No price data found  (1d 2010-01-01 00:00:00 -> 2024-07-01 00:00:00)\n",
      "Failed to retrieve data for ACO\n"
     ]
    },
    {
     "name": "stderr",
     "output_type": "stream",
     "text": [
      "[*********************100%%**********************]  1 of 1 completed\n",
      "[*********************100%%**********************]  1 of 1 completed\n",
      "[*********************100%%**********************]  1 of 1 completed\n",
      "[*********************100%%**********************]  1 of 1 completed\n",
      "[*********************100%%**********************]  1 of 1 completed\n",
      "ERROR:yfinance:\n",
      "1 Failed download:\n",
      "ERROR:yfinance:['ACW']: YFPricesMissingError('$%ticker%: possibly delisted; No price data found  (1d 2010-01-01 00:00:00 -> 2024-07-01 00:00:00)')\n",
      "ERROR:root:Error stock data received. Aborting further operations.\n"
     ]
    },
    {
     "name": "stdout",
     "output_type": "stream",
     "text": [
      "$ACW: possibly delisted; No price data found  (1d 2010-01-01 00:00:00 -> 2024-07-01 00:00:00)\n",
      "Failed to retrieve data for ACW\n"
     ]
    },
    {
     "name": "stderr",
     "output_type": "stream",
     "text": [
      "[*********************100%%**********************]  1 of 1 completed\n",
      "[*********************100%%**********************]  1 of 1 completed\n",
      "[*********************100%%**********************]  1 of 1 completed\n",
      "ERROR:yfinance:\n",
      "1 Failed download:\n",
      "ERROR:yfinance:['ADS']: YFTzMissingError('$%ticker%: possibly delisted; No timezone found')\n",
      "ERROR:root:Error stock data received. Aborting further operations.\n",
      "[*********************100%%**********************]  1 of 1 completed\n"
     ]
    },
    {
     "name": "stdout",
     "output_type": "stream",
     "text": [
      "Failed to retrieve data for ADS\n"
     ]
    },
    {
     "name": "stderr",
     "output_type": "stream",
     "text": [
      "[*********************100%%**********************]  1 of 1 completed\n",
      "[*********************100%%**********************]  1 of 1 completed\n",
      "[*********************100%%**********************]  1 of 1 completed\n",
      "ERROR:yfinance:\n",
      "1 Failed download:\n",
      "ERROR:yfinance:['AEC']: YFPricesMissingError('$%ticker%: possibly delisted; No price data found  (1d 2010-01-01 00:00:00 -> 2024-07-01 00:00:00)')\n",
      "ERROR:root:Error stock data received. Aborting further operations.\n",
      "[*********************100%%**********************]  1 of 1 completed\n",
      "ERROR:yfinance:\n",
      "1 Failed download:\n",
      "ERROR:yfinance:['AED']: YFPricesMissingError('$%ticker%: possibly delisted; No price data found  (1d 2010-01-01 00:00:00 -> 2024-07-01 00:00:00)')\n",
      "ERROR:root:Error stock data received. Aborting further operations.\n"
     ]
    },
    {
     "name": "stdout",
     "output_type": "stream",
     "text": [
      "$AEC: possibly delisted; No price data found  (1d 2010-01-01 00:00:00 -> 2024-07-01 00:00:00)\n",
      "Failed to retrieve data for AEC\n",
      "$AED: possibly delisted; No price data found  (1d 2010-01-01 00:00:00 -> 2024-07-01 00:00:00)\n",
      "Failed to retrieve data for AED\n"
     ]
    },
    {
     "name": "stderr",
     "output_type": "stream",
     "text": [
      "[*********************100%%**********************]  1 of 1 completed\n",
      "[*********************100%%**********************]  1 of 1 completed\n",
      "[*********************100%%**********************]  1 of 1 completed\n",
      "[*********************100%%**********************]  1 of 1 completed\n",
      "ERROR:yfinance:\n",
      "1 Failed download:\n",
      "ERROR:yfinance:['AEH']: YFPricesMissingError('$%ticker%: possibly delisted; No price data found  (1d 2010-01-01 00:00:00 -> 2024-07-01 00:00:00)')\n",
      "ERROR:root:Error stock data received. Aborting further operations.\n"
     ]
    },
    {
     "name": "stdout",
     "output_type": "stream",
     "text": [
      "$AEH: possibly delisted; No price data found  (1d 2010-01-01 00:00:00 -> 2024-07-01 00:00:00)\n",
      "Failed to retrieve data for AEH\n"
     ]
    },
    {
     "name": "stderr",
     "output_type": "stream",
     "text": [
      "[*********************100%%**********************]  1 of 1 completed\n",
      "ERROR:yfinance:\n",
      "1 Failed download:\n",
      "ERROR:yfinance:['AEK']: YFTzMissingError('$%ticker%: possibly delisted; No timezone found')\n",
      "ERROR:root:Error stock data received. Aborting further operations.\n"
     ]
    },
    {
     "name": "stdout",
     "output_type": "stream",
     "text": [
      "Failed to retrieve data for AEK\n"
     ]
    },
    {
     "name": "stderr",
     "output_type": "stream",
     "text": [
      "[*********************100%%**********************]  1 of 1 completed\n",
      "ERROR:yfinance:\n",
      "1 Failed download:\n",
      "ERROR:yfinance:['AEL']: YFTzMissingError('$%ticker%: possibly delisted; No timezone found')\n",
      "ERROR:root:Error stock data received. Aborting further operations.\n"
     ]
    },
    {
     "name": "stdout",
     "output_type": "stream",
     "text": [
      "Failed to retrieve data for AEL\n"
     ]
    },
    {
     "name": "stderr",
     "output_type": "stream",
     "text": [
      "[*********************100%%**********************]  1 of 1 completed\n",
      "[*********************100%%**********************]  1 of 1 completed\n",
      "[*********************100%%**********************]  1 of 1 completed\n",
      "[*********************100%%**********************]  1 of 1 completed\n",
      "[*********************100%%**********************]  1 of 1 completed\n",
      "ERROR:yfinance:\n",
      "1 Failed download:\n",
      "ERROR:yfinance:['AES-PC']: YFPricesMissingError('$%ticker%: possibly delisted; No price data found  (1d 2010-01-01 00:00:00 -> 2024-07-01 00:00:00)')\n",
      "ERROR:root:Error stock data received. Aborting further operations.\n"
     ]
    },
    {
     "name": "stdout",
     "output_type": "stream",
     "text": [
      "$AES-PC: possibly delisted; No price data found  (1d 2010-01-01 00:00:00 -> 2024-07-01 00:00:00)\n",
      "Failed to retrieve data for AES-PC\n"
     ]
    },
    {
     "name": "stderr",
     "output_type": "stream",
     "text": [
      "[*********************100%%**********************]  1 of 1 completed\n",
      "[*********************100%%**********************]  1 of 1 completed\n",
      "ERROR:yfinance:\n",
      "1 Failed download:\n",
      "ERROR:yfinance:['AEV']: YFPricesMissingError('$%ticker%: possibly delisted; No price data found  (1d 2010-01-01 00:00:00 -> 2024-07-01 00:00:00)')\n",
      "ERROR:root:Error stock data received. Aborting further operations.\n",
      "[*********************100%%**********************]  1 of 1 completed\n",
      "ERROR:yfinance:\n",
      "1 Failed download:\n",
      "ERROR:yfinance:['AF']: YFPricesMissingError('$%ticker%: possibly delisted; No price data found  (1d 2010-01-01 00:00:00 -> 2024-07-01 00:00:00)')\n",
      "ERROR:root:Error stock data received. Aborting further operations.\n"
     ]
    },
    {
     "name": "stdout",
     "output_type": "stream",
     "text": [
      "$AEV: possibly delisted; No price data found  (1d 2010-01-01 00:00:00 -> 2024-07-01 00:00:00)\n",
      "Failed to retrieve data for AEV\n",
      "$AF: possibly delisted; No price data found  (1d 2010-01-01 00:00:00 -> 2024-07-01 00:00:00)\n",
      "Failed to retrieve data for AF\n"
     ]
    },
    {
     "name": "stderr",
     "output_type": "stream",
     "text": [
      "[*********************100%%**********************]  1 of 1 completed\n",
      "ERROR:yfinance:\n",
      "1 Failed download:\n",
      "ERROR:yfinance:['AFA']: YFTzMissingError('$%ticker%: possibly delisted; No timezone found')\n",
      "ERROR:root:Error stock data received. Aborting further operations.\n"
     ]
    },
    {
     "name": "stdout",
     "output_type": "stream",
     "text": [
      "Failed to retrieve data for AFA\n"
     ]
    },
    {
     "name": "stderr",
     "output_type": "stream",
     "text": [
      "[*********************100%%**********************]  1 of 1 completed\n",
      "[*********************100%%**********************]  1 of 1 completed\n",
      "ERROR:yfinance:\n",
      "1 Failed download:\n",
      "ERROR:yfinance:['AFC']: YFTzMissingError('$%ticker%: possibly delisted; No timezone found')\n",
      "ERROR:root:Error stock data received. Aborting further operations.\n"
     ]
    },
    {
     "name": "stdout",
     "output_type": "stream",
     "text": [
      "Failed to retrieve data for AFC\n"
     ]
    },
    {
     "name": "stderr",
     "output_type": "stream",
     "text": [
      "[*********************100%%**********************]  1 of 1 completed\n",
      "[*********************100%%**********************]  1 of 1 completed\n",
      "[*********************100%%**********************]  1 of 1 completed\n",
      "ERROR:yfinance:\n",
      "1 Failed download:\n",
      "ERROR:yfinance:['AFM']: YFPricesMissingError('$%ticker%: possibly delisted; No price data found  (1d 2010-01-01 00:00:00 -> 2024-07-01 00:00:00)')\n",
      "ERROR:root:Error stock data received. Aborting further operations.\n"
     ]
    },
    {
     "name": "stdout",
     "output_type": "stream",
     "text": [
      "$AFM: possibly delisted; No price data found  (1d 2010-01-01 00:00:00 -> 2024-07-01 00:00:00)\n",
      "Failed to retrieve data for AFM\n"
     ]
    },
    {
     "name": "stderr",
     "output_type": "stream",
     "text": [
      "[*********************100%%**********************]  1 of 1 completed\n",
      "ERROR:yfinance:\n",
      "1 Failed download:\n",
      "ERROR:yfinance:['AFQ']: YFTzMissingError('$%ticker%: possibly delisted; No timezone found')\n",
      "ERROR:root:Error stock data received. Aborting further operations.\n"
     ]
    },
    {
     "name": "stdout",
     "output_type": "stream",
     "text": [
      "Failed to retrieve data for AFQ\n"
     ]
    },
    {
     "name": "stderr",
     "output_type": "stream",
     "text": [
      "[*********************100%%**********************]  1 of 1 completed\n",
      "ERROR:yfinance:\n",
      "1 Failed download:\n",
      "ERROR:yfinance:['AFSD']: YFTzMissingError('$%ticker%: possibly delisted; No timezone found')\n",
      "ERROR:root:Error stock data received. Aborting further operations.\n"
     ]
    },
    {
     "name": "stdout",
     "output_type": "stream",
     "text": [
      "Failed to retrieve data for AFSD\n"
     ]
    },
    {
     "name": "stderr",
     "output_type": "stream",
     "text": [
      "[*********************100%%**********************]  1 of 1 completed\n",
      "[*********************100%%**********************]  1 of 1 completed\n",
      "ERROR:yfinance:\n",
      "1 Failed download:\n",
      "ERROR:yfinance:['AFW']: YFTzMissingError('$%ticker%: possibly delisted; No timezone found')\n",
      "ERROR:root:Error stock data received. Aborting further operations.\n"
     ]
    },
    {
     "name": "stdout",
     "output_type": "stream",
     "text": [
      "Failed to retrieve data for AFW\n"
     ]
    },
    {
     "name": "stderr",
     "output_type": "stream",
     "text": [
      "[*********************100%%**********************]  1 of 1 completed\n",
      "ERROR:yfinance:\n",
      "1 Failed download:\n",
      "ERROR:yfinance:['AGC']: YFTzMissingError('$%ticker%: possibly delisted; No timezone found')\n",
      "ERROR:root:Error stock data received. Aborting further operations.\n"
     ]
    },
    {
     "name": "stdout",
     "output_type": "stream",
     "text": [
      "Failed to retrieve data for AGC\n"
     ]
    },
    {
     "name": "stderr",
     "output_type": "stream",
     "text": [
      "[*********************100%%**********************]  1 of 1 completed\n",
      "[*********************100%%**********************]  1 of 1 completed\n",
      "[*********************100%%**********************]  1 of 1 completed\n",
      "[*********************100%%**********************]  1 of 1 completed\n",
      "ERROR:yfinance:\n",
      "1 Failed download:\n",
      "ERROR:yfinance:['AGN']: YFTzMissingError('$%ticker%: possibly delisted; No timezone found')\n",
      "ERROR:root:Error stock data received. Aborting further operations.\n"
     ]
    },
    {
     "name": "stdout",
     "output_type": "stream",
     "text": [
      "Failed to retrieve data for AGN\n"
     ]
    },
    {
     "name": "stderr",
     "output_type": "stream",
     "text": [
      "[*********************100%%**********************]  1 of 1 completed\n",
      "[*********************100%%**********************]  1 of 1 completed\n",
      "ERROR:yfinance:\n",
      "1 Failed download:\n",
      "ERROR:yfinance:['AGO-PF']: YFTzMissingError('$%ticker%: possibly delisted; No timezone found')\n",
      "ERROR:root:Error stock data received. Aborting further operations.\n"
     ]
    },
    {
     "name": "stdout",
     "output_type": "stream",
     "text": [
      "Failed to retrieve data for AGO-PF\n"
     ]
    },
    {
     "name": "stderr",
     "output_type": "stream",
     "text": [
      "[*********************100%%**********************]  1 of 1 completed\n",
      "ERROR:yfinance:\n",
      "1 Failed download:\n",
      "ERROR:yfinance:['AGO-E']: YFTzMissingError('$%ticker%: possibly delisted; No timezone found')\n",
      "ERROR:root:Error stock data received. Aborting further operations.\n"
     ]
    },
    {
     "name": "stdout",
     "output_type": "stream",
     "text": [
      "Failed to retrieve data for AGO-E\n"
     ]
    },
    {
     "name": "stderr",
     "output_type": "stream",
     "text": [
      "[*********************100%%**********************]  1 of 1 completed\n",
      "ERROR:yfinance:\n",
      "1 Failed download:\n",
      "ERROR:yfinance:['AGO-F']: YFTzMissingError('$%ticker%: possibly delisted; No timezone found')\n",
      "ERROR:root:Error stock data received. Aborting further operations.\n"
     ]
    },
    {
     "name": "stdout",
     "output_type": "stream",
     "text": [
      "Failed to retrieve data for AGO-F\n"
     ]
    },
    {
     "name": "stderr",
     "output_type": "stream",
     "text": [
      "[*********************100%%**********************]  1 of 1 completed\n",
      "[*********************100%%**********************]  1 of 1 completed\n",
      "ERROR:yfinance:\n",
      "1 Failed download:\n",
      "ERROR:yfinance:['AGU']: YFPricesMissingError('$%ticker%: possibly delisted; No price data found  (1d 2010-01-01 00:00:00 -> 2024-07-01 00:00:00)')\n",
      "ERROR:root:Error stock data received. Aborting further operations.\n",
      "[*********************100%%**********************]  1 of 1 completed\n",
      "ERROR:yfinance:\n",
      "1 Failed download:\n",
      "ERROR:yfinance:['AH']: YFPricesMissingError('$%ticker%: possibly delisted; No price data found  (1d 2010-01-01 00:00:00 -> 2024-07-01 00:00:00)')\n",
      "ERROR:root:Error stock data received. Aborting further operations.\n"
     ]
    },
    {
     "name": "stdout",
     "output_type": "stream",
     "text": [
      "$AGU: possibly delisted; No price data found  (1d 2010-01-01 00:00:00 -> 2024-07-01 00:00:00)\n",
      "Failed to retrieve data for AGU\n",
      "$AH: possibly delisted; No price data found  (1d 2010-01-01 00:00:00 -> 2024-07-01 00:00:00)\n",
      "Failed to retrieve data for AH\n"
     ]
    },
    {
     "name": "stderr",
     "output_type": "stream",
     "text": [
      "[*********************100%%**********************]  1 of 1 completed\n",
      "ERROR:yfinance:\n",
      "1 Failed download:\n",
      "ERROR:yfinance:['AHC']: YFTzMissingError('$%ticker%: possibly delisted; No timezone found')\n",
      "ERROR:root:Error stock data received. Aborting further operations.\n"
     ]
    },
    {
     "name": "stdout",
     "output_type": "stream",
     "text": [
      "Failed to retrieve data for AHC\n"
     ]
    },
    {
     "name": "stderr",
     "output_type": "stream",
     "text": [
      "[*********************100%%**********************]  1 of 1 completed\n",
      "[*********************100%%**********************]  1 of 1 completed\n",
      "[*********************100%%**********************]  1 of 1 completed\n",
      "ERROR:yfinance:\n",
      "1 Failed download:\n",
      "ERROR:yfinance:['AHL-PA']: YFTzMissingError('$%ticker%: possibly delisted; No timezone found')\n",
      "ERROR:root:Error stock data received. Aborting further operations.\n"
     ]
    },
    {
     "name": "stdout",
     "output_type": "stream",
     "text": [
      "Failed to retrieve data for AHL-PA\n"
     ]
    },
    {
     "name": "stderr",
     "output_type": "stream",
     "text": [
      "[*********************100%%**********************]  1 of 1 completed\n",
      "[*********************100%%**********************]  1 of 1 completed\n",
      "ERROR:yfinance:\n",
      "1 Failed download:\n",
      "ERROR:yfinance:['AHL-C']: YFTzMissingError('$%ticker%: possibly delisted; No timezone found')\n",
      "ERROR:root:Error stock data received. Aborting further operations.\n",
      "[*********************100%%**********************]  1 of 1 completed\n",
      "ERROR:yfinance:\n",
      "1 Failed download:\n",
      "ERROR:yfinance:['AHS']: YFPricesMissingError('$%ticker%: possibly delisted; No price data found  (1d 2010-01-01 00:00:00 -> 2024-07-01 00:00:00)')\n",
      "ERROR:root:Error stock data received. Aborting further operations.\n"
     ]
    },
    {
     "name": "stdout",
     "output_type": "stream",
     "text": [
      "Failed to retrieve data for AHL-C\n",
      "$AHS: possibly delisted; No price data found  (1d 2010-01-01 00:00:00 -> 2024-07-01 00:00:00)\n",
      "Failed to retrieve data for AHS\n"
     ]
    },
    {
     "name": "stderr",
     "output_type": "stream",
     "text": [
      "[*********************100%%**********************]  1 of 1 completed\n",
      "[*********************100%%**********************]  1 of 1 completed\n",
      "ERROR:yfinance:\n",
      "1 Failed download:\n",
      "ERROR:yfinance:['AHT-PA']: YFPricesMissingError('$%ticker%: possibly delisted; No price data found  (1d 2010-01-01 00:00:00 -> 2024-07-01 00:00:00)')\n",
      "ERROR:root:Error stock data received. Aborting further operations.\n"
     ]
    },
    {
     "name": "stdout",
     "output_type": "stream",
     "text": [
      "$AHT-PA: possibly delisted; No price data found  (1d 2010-01-01 00:00:00 -> 2024-07-01 00:00:00)\n",
      "Failed to retrieve data for AHT-PA\n"
     ]
    },
    {
     "name": "stderr",
     "output_type": "stream",
     "text": [
      "[*********************100%%**********************]  1 of 1 completed\n",
      "[*********************100%%**********************]  1 of 1 completed\n",
      "[*********************100%%**********************]  1 of 1 completed\n",
      "[*********************100%%**********************]  1 of 1 completed\n",
      "[*********************100%%**********************]  1 of 1 completed\n",
      "[*********************100%%**********************]  1 of 1 completed\n",
      "ERROR:yfinance:\n",
      "1 Failed download:\n",
      "ERROR:yfinance:['AIG-WT']: YFTzMissingError('$%ticker%: possibly delisted; No timezone found')\n",
      "ERROR:root:Error stock data received. Aborting further operations.\n"
     ]
    },
    {
     "name": "stdout",
     "output_type": "stream",
     "text": [
      "Failed to retrieve data for AIG-WT\n"
     ]
    },
    {
     "name": "stderr",
     "output_type": "stream",
     "text": [
      "[*********************100%%**********************]  1 of 1 completed\n",
      "[*********************100%%**********************]  1 of 1 completed\n",
      "[*********************100%%**********************]  1 of 1 completed\n",
      "[*********************100%%**********************]  1 of 1 completed\n",
      "[*********************100%%**********************]  1 of 1 completed\n",
      "ERROR:yfinance:\n",
      "1 Failed download:\n",
      "ERROR:yfinance:['AIV-Z']: YFTzMissingError('$%ticker%: possibly delisted; No timezone found')\n",
      "ERROR:root:Error stock data received. Aborting further operations.\n"
     ]
    },
    {
     "name": "stdout",
     "output_type": "stream",
     "text": [
      "Failed to retrieve data for AIV-Z\n"
     ]
    },
    {
     "name": "stderr",
     "output_type": "stream",
     "text": [
      "[*********************100%%**********************]  1 of 1 completed\n",
      "ERROR:yfinance:\n",
      "1 Failed download:\n",
      "ERROR:yfinance:['AIW']: YFTzMissingError('$%ticker%: possibly delisted; No timezone found')\n",
      "ERROR:root:Error stock data received. Aborting further operations.\n"
     ]
    },
    {
     "name": "stdout",
     "output_type": "stream",
     "text": [
      "Failed to retrieve data for AIW\n"
     ]
    },
    {
     "name": "stderr",
     "output_type": "stream",
     "text": [
      "[*********************100%%**********************]  1 of 1 completed\n",
      "ERROR:yfinance:\n",
      "1 Failed download:\n",
      "ERROR:yfinance:['AIY']: YFTzMissingError('$%ticker%: possibly delisted; No timezone found')\n",
      "ERROR:root:Error stock data received. Aborting further operations.\n"
     ]
    },
    {
     "name": "stdout",
     "output_type": "stream",
     "text": [
      "Failed to retrieve data for AIY\n"
     ]
    },
    {
     "name": "stderr",
     "output_type": "stream",
     "text": [
      "[*********************100%%**********************]  1 of 1 completed\n",
      "[*********************100%%**********************]  1 of 1 completed\n",
      "[*********************100%%**********************]  1 of 1 completed\n",
      "ERROR:yfinance:\n",
      "1 Failed download:\n",
      "ERROR:yfinance:['AKP']: YFTzMissingError('$%ticker%: possibly delisted; No timezone found')\n",
      "ERROR:root:Error stock data received. Aborting further operations.\n"
     ]
    },
    {
     "name": "stdout",
     "output_type": "stream",
     "text": [
      "Failed to retrieve data for AKP\n"
     ]
    },
    {
     "name": "stderr",
     "output_type": "stream",
     "text": [
      "[*********************100%%**********************]  1 of 1 completed\n",
      "[*********************100%%**********************]  1 of 1 completed\n",
      "ERROR:yfinance:\n",
      "1 Failed download:\n",
      "ERROR:yfinance:['AKS']: YFTzMissingError('$%ticker%: possibly delisted; No timezone found')\n",
      "ERROR:root:Error stock data received. Aborting further operations.\n"
     ]
    },
    {
     "name": "stdout",
     "output_type": "stream",
     "text": [
      "Failed to retrieve data for AKS\n"
     ]
    },
    {
     "name": "stderr",
     "output_type": "stream",
     "text": [
      "[*********************100%%**********************]  1 of 1 completed\n",
      "[*********************100%%**********************]  1 of 1 completed\n",
      "[*********************100%%**********************]  1 of 1 completed\n",
      "ERROR:yfinance:\n",
      "1 Failed download:\n",
      "ERROR:yfinance:['ALDW']: YFPricesMissingError('$%ticker%: possibly delisted; No price data found  (1d 2010-01-01 00:00:00 -> 2024-07-01 00:00:00)')\n",
      "ERROR:root:Error stock data received. Aborting further operations.\n"
     ]
    },
    {
     "name": "stdout",
     "output_type": "stream",
     "text": [
      "$ALDW: possibly delisted; No price data found  (1d 2010-01-01 00:00:00 -> 2024-07-01 00:00:00)\n",
      "Failed to retrieve data for ALDW\n"
     ]
    },
    {
     "name": "stderr",
     "output_type": "stream",
     "text": [
      "[*********************100%%**********************]  1 of 1 completed\n",
      "[*********************100%%**********************]  1 of 1 completed\n",
      "[*********************100%%**********************]  1 of 1 completed\n",
      "[*********************100%%**********************]  1 of 1 completed\n",
      "ERROR:yfinance:\n",
      "1 Failed download:\n",
      "ERROR:yfinance:['ALJ']: YFPricesMissingError('$%ticker%: possibly delisted; No price data found  (1d 2010-01-01 00:00:00 -> 2024-07-01 00:00:00)')\n",
      "ERROR:root:Error stock data received. Aborting further operations.\n"
     ]
    },
    {
     "name": "stdout",
     "output_type": "stream",
     "text": [
      "$ALJ: possibly delisted; No price data found  (1d 2010-01-01 00:00:00 -> 2024-07-01 00:00:00)\n",
      "Failed to retrieve data for ALJ\n"
     ]
    },
    {
     "name": "stderr",
     "output_type": "stream",
     "text": [
      "[*********************100%%**********************]  1 of 1 completed\n",
      "[*********************100%%**********************]  1 of 1 completed\n",
      "[*********************100%%**********************]  1 of 1 completed\n",
      "ERROR:yfinance:\n",
      "1 Failed download:\n",
      "ERROR:yfinance:['ALL-B']: YFTzMissingError('$%ticker%: possibly delisted; No timezone found')\n",
      "ERROR:root:Error stock data received. Aborting further operations.\n"
     ]
    },
    {
     "name": "stdout",
     "output_type": "stream",
     "text": [
      "Failed to retrieve data for ALL-B\n"
     ]
    },
    {
     "name": "stderr",
     "output_type": "stream",
     "text": [
      "[*********************100%%**********************]  1 of 1 completed\n",
      "ERROR:yfinance:\n",
      "1 Failed download:\n",
      "ERROR:yfinance:['ALP-N']: YFTzMissingError('$%ticker%: possibly delisted; No timezone found')\n",
      "ERROR:root:Error stock data received. Aborting further operations.\n"
     ]
    },
    {
     "name": "stdout",
     "output_type": "stream",
     "text": [
      "Failed to retrieve data for ALP-N\n"
     ]
    },
    {
     "name": "stderr",
     "output_type": "stream",
     "text": [
      "[*********************100%%**********************]  1 of 1 completed\n",
      "ERROR:yfinance:\n",
      "1 Failed download:\n",
      "ERROR:yfinance:['ALP-O']: YFTzMissingError('$%ticker%: possibly delisted; No timezone found')\n",
      "ERROR:root:Error stock data received. Aborting further operations.\n"
     ]
    },
    {
     "name": "stdout",
     "output_type": "stream",
     "text": [
      "Failed to retrieve data for ALP-O\n"
     ]
    },
    {
     "name": "stderr",
     "output_type": "stream",
     "text": [
      "[*********************100%%**********************]  1 of 1 completed\n",
      "ERROR:yfinance:\n",
      "1 Failed download:\n",
      "ERROR:yfinance:['ALP-P']: YFTzMissingError('$%ticker%: possibly delisted; No timezone found')\n",
      "ERROR:root:Error stock data received. Aborting further operations.\n"
     ]
    },
    {
     "name": "stdout",
     "output_type": "stream",
     "text": [
      "Failed to retrieve data for ALP-P\n"
     ]
    },
    {
     "name": "stderr",
     "output_type": "stream",
     "text": [
      "[*********************100%%**********************]  1 of 1 completed\n",
      "ERROR:yfinance:\n",
      "1 Failed download:\n",
      "ERROR:yfinance:['ALR']: YFTzMissingError('$%ticker%: possibly delisted; No timezone found')\n",
      "ERROR:root:Error stock data received. Aborting further operations.\n"
     ]
    },
    {
     "name": "stdout",
     "output_type": "stream",
     "text": [
      "Failed to retrieve data for ALR\n"
     ]
    },
    {
     "name": "stderr",
     "output_type": "stream",
     "text": [
      "[*********************100%%**********************]  1 of 1 completed\n",
      "ERROR:yfinance:\n",
      "1 Failed download:\n",
      "ERROR:yfinance:['ALR-B']: YFTzMissingError('$%ticker%: possibly delisted; No timezone found')\n",
      "ERROR:root:Error stock data received. Aborting further operations.\n"
     ]
    },
    {
     "name": "stdout",
     "output_type": "stream",
     "text": [
      "Failed to retrieve data for ALR-B\n"
     ]
    },
    {
     "name": "stderr",
     "output_type": "stream",
     "text": [
      "[*********************100%%**********************]  1 of 1 completed\n",
      "[*********************100%%**********************]  1 of 1 completed\n",
      "ERROR:yfinance:\n",
      "1 Failed download:\n",
      "ERROR:yfinance:['ALU']: YFPricesMissingError('$%ticker%: possibly delisted; No price data found  (1d 2010-01-01 00:00:00 -> 2024-07-01 00:00:00)')\n",
      "ERROR:root:Error stock data received. Aborting further operations.\n"
     ]
    },
    {
     "name": "stdout",
     "output_type": "stream",
     "text": [
      "$ALU: possibly delisted; No price data found  (1d 2010-01-01 00:00:00 -> 2024-07-01 00:00:00)\n",
      "Failed to retrieve data for ALU\n"
     ]
    },
    {
     "name": "stderr",
     "output_type": "stream",
     "text": [
      "[*********************100%%**********************]  1 of 1 completed\n",
      "[*********************100%%**********************]  1 of 1 completed\n",
      "[*********************100%%**********************]  1 of 1 completed\n",
      "[*********************100%%**********************]  1 of 1 completed\n",
      "[*********************100%%**********************]  1 of 1 completed\n",
      "[*********************100%%**********************]  1 of 1 completed\n",
      "[*********************100%%**********************]  1 of 1 completed\n",
      "[*********************100%%**********************]  1 of 1 completed\n",
      "[*********************100%%**********************]  1 of 1 completed\n",
      "[*********************100%%**********************]  1 of 1 completed\n",
      "ERROR:yfinance:\n",
      "1 Failed download:\n",
      "ERROR:yfinance:['AMP-A']: YFTzMissingError('$%ticker%: possibly delisted; No timezone found')\n",
      "ERROR:root:Error stock data received. Aborting further operations.\n"
     ]
    },
    {
     "name": "stdout",
     "output_type": "stream",
     "text": [
      "Failed to retrieve data for AMP-A\n"
     ]
    },
    {
     "name": "stderr",
     "output_type": "stream",
     "text": [
      "[*********************100%%**********************]  1 of 1 completed\n",
      "[*********************100%%**********************]  1 of 1 completed\n",
      "ERROR:yfinance:\n",
      "1 Failed download:\n",
      "ERROR:yfinance:['AMRE']: YFPricesMissingError('$%ticker%: possibly delisted; No price data found  (1d 2010-01-01 00:00:00 -> 2024-07-01 00:00:00)')\n",
      "ERROR:root:Error stock data received. Aborting further operations.\n"
     ]
    },
    {
     "name": "stdout",
     "output_type": "stream",
     "text": [
      "$AMRE: possibly delisted; No price data found  (1d 2010-01-01 00:00:00 -> 2024-07-01 00:00:00)\n",
      "Failed to retrieve data for AMRE\n"
     ]
    },
    {
     "name": "stderr",
     "output_type": "stream",
     "text": [
      "[*********************100%%**********************]  1 of 1 completed\n",
      "[*********************100%%**********************]  1 of 1 completed\n",
      "ERROR:yfinance:\n",
      "1 Failed download:\n",
      "ERROR:yfinance:['AMT-A']: YFTzMissingError('$%ticker%: possibly delisted; No timezone found')\n",
      "ERROR:root:Error stock data received. Aborting further operations.\n",
      "[*********************100%%**********************]  1 of 1 completed\n",
      "ERROR:yfinance:\n",
      "1 Failed download:\n",
      "ERROR:yfinance:['AMTG']: YFPricesMissingError('$%ticker%: possibly delisted; No price data found  (1d 2010-01-01 00:00:00 -> 2024-07-01 00:00:00)')\n",
      "ERROR:root:Error stock data received. Aborting further operations.\n"
     ]
    },
    {
     "name": "stdout",
     "output_type": "stream",
     "text": [
      "Failed to retrieve data for AMT-A\n",
      "$AMTG: possibly delisted; No price data found  (1d 2010-01-01 00:00:00 -> 2024-07-01 00:00:00)\n",
      "Failed to retrieve data for AMTG\n"
     ]
    },
    {
     "name": "stderr",
     "output_type": "stream",
     "text": [
      "[*********************100%%**********************]  1 of 1 completed\n",
      "[*********************100%%**********************]  1 of 1 completed\n",
      "[*********************100%%**********************]  1 of 1 completed\n",
      "[*********************100%%**********************]  1 of 1 completed\n",
      "ERROR:yfinance:\n",
      "1 Failed download:\n",
      "ERROR:yfinance:['ANFI']: YFTzMissingError('$%ticker%: possibly delisted; No timezone found')\n",
      "ERROR:root:Error stock data received. Aborting further operations.\n"
     ]
    },
    {
     "name": "stdout",
     "output_type": "stream",
     "text": [
      "Failed to retrieve data for ANFI\n"
     ]
    },
    {
     "name": "stderr",
     "output_type": "stream",
     "text": [
      "[*********************100%%**********************]  1 of 1 completed\n",
      "ERROR:yfinance:\n",
      "1 Failed download:\n",
      "ERROR:yfinance:['ANH']: YFTzMissingError('$%ticker%: possibly delisted; No timezone found')\n",
      "ERROR:root:Error stock data received. Aborting further operations.\n"
     ]
    },
    {
     "name": "stdout",
     "output_type": "stream",
     "text": [
      "Failed to retrieve data for ANH\n"
     ]
    },
    {
     "name": "stderr",
     "output_type": "stream",
     "text": [
      "[*********************100%%**********************]  1 of 1 completed\n",
      "ERROR:yfinance:\n",
      "1 Failed download:\n",
      "ERROR:yfinance:['ANH-A']: YFTzMissingError('$%ticker%: possibly delisted; No timezone found')\n",
      "ERROR:root:Error stock data received. Aborting further operations.\n"
     ]
    },
    {
     "name": "stdout",
     "output_type": "stream",
     "text": [
      "Failed to retrieve data for ANH-A\n"
     ]
    },
    {
     "name": "stderr",
     "output_type": "stream",
     "text": [
      "[*********************100%%**********************]  1 of 1 completed\n",
      "ERROR:yfinance:\n",
      "1 Failed download:\n",
      "ERROR:yfinance:['ANH-B']: YFTzMissingError('$%ticker%: possibly delisted; No timezone found')\n",
      "ERROR:root:Error stock data received. Aborting further operations.\n",
      "[*********************100%%**********************]  1 of 1 completed\n",
      "ERROR:yfinance:\n",
      "1 Failed download:\n",
      "ERROR:yfinance:['ANN']: YFPricesMissingError('$%ticker%: possibly delisted; No price data found  (1d 2010-01-01 00:00:00 -> 2024-07-01 00:00:00)')\n",
      "ERROR:root:Error stock data received. Aborting further operations.\n",
      "[*********************100%%**********************]  1 of 1 completed\n",
      "ERROR:yfinance:\n",
      "1 Failed download:\n",
      "ERROR:yfinance:['ANR']: YFPricesMissingError('$%ticker%: possibly delisted; No price data found  (1d 2010-01-01 00:00:00 -> 2024-07-01 00:00:00)')\n",
      "ERROR:root:Error stock data received. Aborting further operations.\n"
     ]
    },
    {
     "name": "stdout",
     "output_type": "stream",
     "text": [
      "Failed to retrieve data for ANH-B\n",
      "$ANN: possibly delisted; No price data found  (1d 2010-01-01 00:00:00 -> 2024-07-01 00:00:00)\n",
      "Failed to retrieve data for ANN\n",
      "$ANR: possibly delisted; No price data found  (1d 2010-01-01 00:00:00 -> 2024-07-01 00:00:00)\n",
      "Failed to retrieve data for ANR\n"
     ]
    },
    {
     "name": "stderr",
     "output_type": "stream",
     "text": [
      "[*********************100%%**********************]  1 of 1 completed\n",
      "ERROR:yfinance:\n",
      "1 Failed download:\n",
      "ERROR:yfinance:['ANW']: YFPricesMissingError('$%ticker%: possibly delisted; No price data found  (1d 2010-01-01 00:00:00 -> 2024-07-01 00:00:00)')\n",
      "ERROR:root:Error stock data received. Aborting further operations.\n"
     ]
    },
    {
     "name": "stdout",
     "output_type": "stream",
     "text": [
      "$ANW: possibly delisted; No price data found  (1d 2010-01-01 00:00:00 -> 2024-07-01 00:00:00)\n",
      "Failed to retrieve data for ANW\n"
     ]
    },
    {
     "name": "stderr",
     "output_type": "stream",
     "text": [
      "[*********************100%%**********************]  1 of 1 completed\n",
      "[*********************100%%**********************]  1 of 1 completed\n",
      "ERROR:yfinance:\n",
      "1 Failed download:\n",
      "ERROR:yfinance:['AOI']: YFPricesMissingError('$%ticker%: possibly delisted; No price data found  (1d 2010-01-01 00:00:00 -> 2024-07-01 00:00:00)')\n",
      "ERROR:root:Error stock data received. Aborting further operations.\n",
      "[*********************100%%**********************]  1 of 1 completed\n",
      "ERROR:yfinance:\n",
      "1 Failed download:\n",
      "ERROR:yfinance:['AOL']: YFPricesMissingError('$%ticker%: possibly delisted; No price data found  (1d 2010-01-01 00:00:00 -> 2024-07-01 00:00:00)')\n",
      "ERROR:root:Error stock data received. Aborting further operations.\n"
     ]
    },
    {
     "name": "stdout",
     "output_type": "stream",
     "text": [
      "$AOI: possibly delisted; No price data found  (1d 2010-01-01 00:00:00 -> 2024-07-01 00:00:00)\n",
      "Failed to retrieve data for AOI\n",
      "$AOL: possibly delisted; No price data found  (1d 2010-01-01 00:00:00 -> 2024-07-01 00:00:00)\n",
      "Failed to retrieve data for AOL\n"
     ]
    },
    {
     "name": "stderr",
     "output_type": "stream",
     "text": [
      "[*********************100%%**********************]  1 of 1 completed\n",
      "[*********************100%%**********************]  1 of 1 completed\n",
      "[*********************100%%**********************]  1 of 1 completed\n",
      "[*********************100%%**********************]  1 of 1 completed\n",
      "ERROR:yfinance:\n",
      "1 Failed download:\n",
      "ERROR:yfinance:['APA-D']: YFTzMissingError('$%ticker%: possibly delisted; No timezone found')\n",
      "ERROR:root:Error stock data received. Aborting further operations.\n"
     ]
    },
    {
     "name": "stdout",
     "output_type": "stream",
     "text": [
      "Failed to retrieve data for APA-D\n"
     ]
    },
    {
     "name": "stderr",
     "output_type": "stream",
     "text": [
      "[*********************100%%**********************]  1 of 1 completed\n",
      "[*********************100%%**********************]  1 of 1 completed\n",
      "[*********************100%%**********************]  1 of 1 completed\n",
      "ERROR:yfinance:\n",
      "1 Failed download:\n",
      "ERROR:yfinance:['APC']: YFTzMissingError('$%ticker%: possibly delisted; No timezone found')\n",
      "ERROR:root:Error stock data received. Aborting further operations.\n"
     ]
    },
    {
     "name": "stdout",
     "output_type": "stream",
     "text": [
      "Failed to retrieve data for APC\n"
     ]
    },
    {
     "name": "stderr",
     "output_type": "stream",
     "text": [
      "[*********************100%%**********************]  1 of 1 completed\n",
      "[*********************100%%**********************]  1 of 1 completed\n",
      "[*********************100%%**********************]  1 of 1 completed\n",
      "ERROR:yfinance:\n",
      "1 Failed download:\n",
      "ERROR:yfinance:['APL']: YFPricesMissingError('$%ticker%: possibly delisted; No price data found  (1d 2010-01-01 00:00:00 -> 2024-07-01 00:00:00)')\n",
      "ERROR:root:Error stock data received. Aborting further operations.\n"
     ]
    },
    {
     "name": "stdout",
     "output_type": "stream",
     "text": [
      "$APL: possibly delisted; No price data found  (1d 2010-01-01 00:00:00 -> 2024-07-01 00:00:00)\n",
      "Failed to retrieve data for APL\n"
     ]
    },
    {
     "name": "stderr",
     "output_type": "stream",
     "text": [
      "[*********************100%%**********************]  1 of 1 completed\n",
      "[*********************100%%**********************]  1 of 1 completed\n",
      "ERROR:yfinance:\n",
      "1 Failed download:\n",
      "ERROR:yfinance:['APU']: YFTzMissingError('$%ticker%: possibly delisted; No timezone found')\n",
      "ERROR:root:Error stock data received. Aborting further operations.\n",
      "[*********************100%%**********************]  1 of 1 completed\n"
     ]
    },
    {
     "name": "stdout",
     "output_type": "stream",
     "text": [
      "Failed to retrieve data for APU\n"
     ]
    },
    {
     "name": "stderr",
     "output_type": "stream",
     "text": [
      "[*********************100%%**********************]  1 of 1 completed\n",
      "[*********************100%%**********************]  1 of 1 completed\n",
      "[*********************100%%**********************]  1 of 1 completed\n",
      "[*********************100%%**********************]  1 of 1 completed\n",
      "ERROR:yfinance:\n",
      "1 Failed download:\n",
      "ERROR:yfinance:['ARE-E']: YFTzMissingError('$%ticker%: possibly delisted; No timezone found')\n",
      "ERROR:root:Error stock data received. Aborting further operations.\n",
      "[*********************100%%**********************]  1 of 1 completed\n",
      "ERROR:yfinance:\n",
      "1 Failed download:\n",
      "ERROR:yfinance:['ARG']: YFPricesMissingError('$%ticker%: possibly delisted; No price data found  (1d 2010-01-01 00:00:00 -> 2024-07-01 00:00:00)')\n",
      "ERROR:root:Error stock data received. Aborting further operations.\n"
     ]
    },
    {
     "name": "stdout",
     "output_type": "stream",
     "text": [
      "Failed to retrieve data for ARE-E\n",
      "$ARG: possibly delisted; No price data found  (1d 2010-01-01 00:00:00 -> 2024-07-01 00:00:00)\n",
      "Failed to retrieve data for ARG\n"
     ]
    },
    {
     "name": "stderr",
     "output_type": "stream",
     "text": [
      "[*********************100%%**********************]  1 of 1 completed\n",
      "ERROR:yfinance:\n",
      "1 Failed download:\n",
      "ERROR:yfinance:['ARH-C']: YFTzMissingError('$%ticker%: possibly delisted; No timezone found')\n",
      "ERROR:root:Error stock data received. Aborting further operations.\n"
     ]
    },
    {
     "name": "stdout",
     "output_type": "stream",
     "text": [
      "Failed to retrieve data for ARH-C\n"
     ]
    },
    {
     "name": "stderr",
     "output_type": "stream",
     "text": [
      "[*********************100%%**********************]  1 of 1 completed\n",
      "[*********************100%%**********************]  1 of 1 completed\n",
      "ERROR:yfinance:\n",
      "1 Failed download:\n",
      "ERROR:yfinance:['ARI-A']: YFTzMissingError('$%ticker%: possibly delisted; No timezone found')\n",
      "ERROR:root:Error stock data received. Aborting further operations.\n"
     ]
    },
    {
     "name": "stdout",
     "output_type": "stream",
     "text": [
      "Failed to retrieve data for ARI-A\n"
     ]
    },
    {
     "name": "stderr",
     "output_type": "stream",
     "text": [
      "[*********************100%%**********************]  1 of 1 completed\n",
      "[*********************100%%**********************]  1 of 1 completed\n",
      "ERROR:yfinance:\n",
      "1 Failed download:\n",
      "ERROR:yfinance:['ARN']: YFPricesMissingError('$%ticker%: possibly delisted; No price data found  (1d 2010-01-01 00:00:00 -> 2024-07-01 00:00:00)')\n",
      "ERROR:root:Error stock data received. Aborting further operations.\n",
      "[*********************100%%**********************]  1 of 1 completed\n",
      "ERROR:yfinance:\n",
      "1 Failed download:\n",
      "ERROR:yfinance:['ARO']: YFPricesMissingError('$%ticker%: possibly delisted; No price data found  (1d 2010-01-01 00:00:00 -> 2024-07-01 00:00:00)')\n",
      "ERROR:root:Error stock data received. Aborting further operations.\n",
      "[*********************100%%**********************]  1 of 1 completed"
     ]
    },
    {
     "name": "stdout",
     "output_type": "stream",
     "text": [
      "$ARN: possibly delisted; No price data found  (1d 2010-01-01 00:00:00 -> 2024-07-01 00:00:00)\n",
      "Failed to retrieve data for ARN\n",
      "$ARO: possibly delisted; No price data found  (1d 2010-01-01 00:00:00 -> 2024-07-01 00:00:00)\n",
      "Failed to retrieve data for ARO\n"
     ]
    },
    {
     "name": "stderr",
     "output_type": "stream",
     "text": [
      "\n",
      "[*********************100%%**********************]  1 of 1 completed\n",
      "ERROR:yfinance:\n",
      "1 Failed download:\n",
      "ERROR:yfinance:['ARPI']: YFPricesMissingError('$%ticker%: possibly delisted; No price data found  (1d 2010-01-01 00:00:00 -> 2024-07-01 00:00:00)')\n",
      "ERROR:root:Error stock data received. Aborting further operations.\n"
     ]
    },
    {
     "name": "stdout",
     "output_type": "stream",
     "text": [
      "$ARPI: possibly delisted; No price data found  (1d 2010-01-01 00:00:00 -> 2024-07-01 00:00:00)\n",
      "Failed to retrieve data for ARPI\n"
     ]
    },
    {
     "name": "stderr",
     "output_type": "stream",
     "text": [
      "[*********************100%%**********************]  1 of 1 completed\n",
      "[*********************100%%**********************]  1 of 1 completed\n",
      "ERROR:yfinance:\n",
      "1 Failed download:\n",
      "ERROR:yfinance:['ARR-A']: YFTzMissingError('$%ticker%: possibly delisted; No timezone found')\n",
      "ERROR:root:Error stock data received. Aborting further operations.\n"
     ]
    },
    {
     "name": "stdout",
     "output_type": "stream",
     "text": [
      "Failed to retrieve data for ARR-A\n"
     ]
    },
    {
     "name": "stderr",
     "output_type": "stream",
     "text": [
      "[*********************100%%**********************]  1 of 1 completed\n",
      "ERROR:yfinance:\n",
      "1 Failed download:\n",
      "ERROR:yfinance:['ARR-B']: YFTzMissingError('$%ticker%: possibly delisted; No timezone found')\n",
      "ERROR:root:Error stock data received. Aborting further operations.\n",
      "[*********************100%%**********************]  1 of 1 completed\n",
      "ERROR:yfinance:\n",
      "1 Failed download:\n",
      "ERROR:yfinance:['ARSD']: YFPricesMissingError('$%ticker%: possibly delisted; No price data found  (1d 2010-01-01 00:00:00 -> 2024-07-01 00:00:00)')\n",
      "ERROR:root:Error stock data received. Aborting further operations.\n"
     ]
    },
    {
     "name": "stdout",
     "output_type": "stream",
     "text": [
      "Failed to retrieve data for ARR-B\n",
      "$ARSD: possibly delisted; No price data found  (1d 2010-01-01 00:00:00 -> 2024-07-01 00:00:00)\n",
      "Failed to retrieve data for ARSD\n"
     ]
    },
    {
     "name": "stderr",
     "output_type": "stream",
     "text": [
      "[*********************100%%**********************]  1 of 1 completed\n",
      "ERROR:yfinance:\n",
      "1 Failed download:\n",
      "ERROR:yfinance:['ARU']: YFTzMissingError('$%ticker%: possibly delisted; No timezone found')\n",
      "ERROR:root:Error stock data received. Aborting further operations.\n"
     ]
    },
    {
     "name": "stdout",
     "output_type": "stream",
     "text": [
      "Failed to retrieve data for ARU\n"
     ]
    },
    {
     "name": "stderr",
     "output_type": "stream",
     "text": [
      "[*********************100%%**********************]  1 of 1 completed\n",
      "[*********************100%%**********************]  1 of 1 completed\n",
      "ERROR:yfinance:\n",
      "1 Failed download:\n",
      "ERROR:yfinance:['ARX']: YFPricesMissingError('$%ticker%: possibly delisted; No price data found  (1d 2010-01-01 00:00:00 -> 2024-07-01 00:00:00)')\n",
      "ERROR:root:Error stock data received. Aborting further operations.\n"
     ]
    },
    {
     "name": "stdout",
     "output_type": "stream",
     "text": [
      "$ARX: possibly delisted; No price data found  (1d 2010-01-01 00:00:00 -> 2024-07-01 00:00:00)\n",
      "Failed to retrieve data for ARX\n"
     ]
    },
    {
     "name": "stderr",
     "output_type": "stream",
     "text": [
      "[*********************100%%**********************]  1 of 1 completed\n",
      "ERROR:yfinance:\n",
      "1 Failed download:\n",
      "ERROR:yfinance:['ARY']: YFTzMissingError('$%ticker%: possibly delisted; No timezone found')\n",
      "ERROR:root:Error stock data received. Aborting further operations.\n"
     ]
    },
    {
     "name": "stdout",
     "output_type": "stream",
     "text": [
      "Failed to retrieve data for ARY\n"
     ]
    },
    {
     "name": "stderr",
     "output_type": "stream",
     "text": [
      "[*********************100%%**********************]  1 of 1 completed\n",
      "[*********************100%%**********************]  1 of 1 completed\n",
      "[*********************100%%**********************]  1 of 1 completed\n",
      "[*********************100%%**********************]  1 of 1 completed\n",
      "ERROR:yfinance:\n",
      "1 Failed download:\n",
      "ERROR:yfinance:['ASI']: YFPricesMissingError('$%ticker%: possibly delisted; No price data found  (1d 2010-01-01 00:00:00 -> 2024-07-01 00:00:00)')\n",
      "ERROR:root:Error stock data received. Aborting further operations.\n",
      "[*********************100%%**********************]  1 of 1 completed\n",
      "ERROR:yfinance:\n",
      "1 Failed download:\n",
      "ERROR:yfinance:['ASP']: YFPricesMissingError('$%ticker%: possibly delisted; No price data found  (1d 2010-01-01 00:00:00 -> 2024-07-01 00:00:00)')\n",
      "ERROR:root:Error stock data received. Aborting further operations.\n"
     ]
    },
    {
     "name": "stdout",
     "output_type": "stream",
     "text": [
      "$ASI: possibly delisted; No price data found  (1d 2010-01-01 00:00:00 -> 2024-07-01 00:00:00)\n",
      "Failed to retrieve data for ASI\n",
      "$ASP: possibly delisted; No price data found  (1d 2010-01-01 00:00:00 -> 2024-07-01 00:00:00)\n",
      "Failed to retrieve data for ASP\n"
     ]
    },
    {
     "name": "stderr",
     "output_type": "stream",
     "text": [
      "[*********************100%%**********************]  1 of 1 completed\n",
      "[*********************100%%**********************]  1 of 1 completed\n",
      "ERROR:yfinance:\n",
      "1 Failed download:\n",
      "ERROR:yfinance:['AT']: YFTzMissingError('$%ticker%: possibly delisted; No timezone found')\n",
      "ERROR:root:Error stock data received. Aborting further operations.\n",
      "[*********************100%%**********************]  1 of 1 completed\n",
      "ERROR:yfinance:\n",
      "1 Failed download:\n",
      "ERROR:yfinance:['ATE']: YFPricesMissingError('$%ticker%: possibly delisted; No price data found  (1d 2010-01-01 00:00:00 -> 2024-07-01 00:00:00)')\n",
      "ERROR:root:Error stock data received. Aborting further operations.\n",
      "[*********************100%%**********************]  1 of 1 completed\n",
      "ERROR:yfinance:\n",
      "1 Failed download:\n",
      "ERROR:yfinance:['ATHL']: YFPricesMissingError('$%ticker%: possibly delisted; No price data found  (1d 2010-01-01 00:00:00 -> 2024-07-01 00:00:00)')\n",
      "ERROR:root:Error stock data received. Aborting further operations.\n"
     ]
    },
    {
     "name": "stdout",
     "output_type": "stream",
     "text": [
      "Failed to retrieve data for AT\n",
      "$ATE: possibly delisted; No price data found  (1d 2010-01-01 00:00:00 -> 2024-07-01 00:00:00)\n",
      "Failed to retrieve data for ATE\n",
      "$ATHL: possibly delisted; No price data found  (1d 2010-01-01 00:00:00 -> 2024-07-01 00:00:00)\n",
      "Failed to retrieve data for ATHL\n"
     ]
    },
    {
     "name": "stderr",
     "output_type": "stream",
     "text": [
      "[*********************100%%**********************]  1 of 1 completed\n",
      "[*********************100%%**********************]  1 of 1 completed\n",
      "ERROR:yfinance:\n",
      "1 Failed download:\n",
      "ERROR:yfinance:['ATK']: YFPricesMissingError('$%ticker%: possibly delisted; No price data found  (1d 2010-01-01 00:00:00 -> 2024-07-01 00:00:00)')\n",
      "ERROR:root:Error stock data received. Aborting further operations.\n"
     ]
    },
    {
     "name": "stdout",
     "output_type": "stream",
     "text": [
      "$ATK: possibly delisted; No price data found  (1d 2010-01-01 00:00:00 -> 2024-07-01 00:00:00)\n",
      "Failed to retrieve data for ATK\n"
     ]
    },
    {
     "name": "stderr",
     "output_type": "stream",
     "text": [
      "[*********************100%%**********************]  1 of 1 completed\n",
      "ERROR:yfinance:\n",
      "1 Failed download:\n",
      "ERROR:yfinance:['ATLS']: YFTzMissingError('$%ticker%: possibly delisted; No timezone found')\n",
      "ERROR:root:Error stock data received. Aborting further operations.\n"
     ]
    },
    {
     "name": "stdout",
     "output_type": "stream",
     "text": [
      "Failed to retrieve data for ATLS\n"
     ]
    },
    {
     "name": "stderr",
     "output_type": "stream",
     "text": [
      "[*********************100%%**********************]  1 of 1 completed\n",
      "[*********************100%%**********************]  1 of 1 completed\n",
      "[*********************100%%**********************]  1 of 1 completed\n",
      "ERROR:yfinance:\n",
      "1 Failed download:\n",
      "ERROR:yfinance:['ATU']: YFTzMissingError('$%ticker%: possibly delisted; No timezone found')\n",
      "ERROR:root:Error stock data received. Aborting further operations.\n"
     ]
    },
    {
     "name": "stdout",
     "output_type": "stream",
     "text": [
      "Failed to retrieve data for ATU\n"
     ]
    },
    {
     "name": "stderr",
     "output_type": "stream",
     "text": [
      "[*********************100%%**********************]  1 of 1 completed\n",
      "ERROR:yfinance:\n",
      "1 Failed download:\n",
      "ERROR:yfinance:['ATV']: YFTzMissingError('$%ticker%: possibly delisted; No timezone found')\n",
      "ERROR:root:Error stock data received. Aborting further operations.\n",
      "[*********************100%%**********************]  1 of 1 completed\n",
      "ERROR:yfinance:\n",
      "1 Failed download:\n",
      "ERROR:yfinance:['ATW']: YFPricesMissingError('$%ticker%: possibly delisted; No price data found  (1d 2010-01-01 00:00:00 -> 2024-07-01 00:00:00)')\n",
      "ERROR:root:Error stock data received. Aborting further operations.\n"
     ]
    },
    {
     "name": "stdout",
     "output_type": "stream",
     "text": [
      "Failed to retrieve data for ATV\n",
      "$ATW: possibly delisted; No price data found  (1d 2010-01-01 00:00:00 -> 2024-07-01 00:00:00)\n",
      "Failed to retrieve data for ATW\n"
     ]
    },
    {
     "name": "stderr",
     "output_type": "stream",
     "text": [
      "[*********************100%%**********************]  1 of 1 completed\n",
      "[*********************100%%**********************]  1 of 1 completed\n",
      "ERROR:yfinance:\n",
      "1 Failed download:\n",
      "ERROR:yfinance:['AU-A']: YFTzMissingError('$%ticker%: possibly delisted; No timezone found')\n",
      "ERROR:root:Error stock data received. Aborting further operations.\n"
     ]
    },
    {
     "name": "stdout",
     "output_type": "stream",
     "text": [
      "Failed to retrieve data for AU-A\n"
     ]
    },
    {
     "name": "stderr",
     "output_type": "stream",
     "text": [
      "[*********************100%%**********************]  1 of 1 completed\n",
      "ERROR:yfinance:\n",
      "1 Failed download:\n",
      "ERROR:yfinance:['AUO']: YFTzMissingError('$%ticker%: possibly delisted; No timezone found')\n",
      "ERROR:root:Error stock data received. Aborting further operations.\n",
      "[*********************100%%**********************]  1 of 1 completed\n",
      "ERROR:yfinance:\n",
      "1 Failed download:\n",
      "ERROR:yfinance:['AUQ']: YFPricesMissingError('$%ticker%: possibly delisted; No price data found  (1d 2010-01-01 00:00:00 -> 2024-07-01 00:00:00)')\n",
      "ERROR:root:Error stock data received. Aborting further operations.\n",
      "[*********************100%%**********************]  1 of 1 completed\n",
      "ERROR:yfinance:\n",
      "1 Failed download:\n",
      "ERROR:yfinance:['AV']: YFPricesMissingError('$%ticker%: possibly delisted; No price data found  (1d 2010-01-01 00:00:00 -> 2024-07-01 00:00:00)')\n",
      "ERROR:root:Error stock data received. Aborting further operations.\n"
     ]
    },
    {
     "name": "stdout",
     "output_type": "stream",
     "text": [
      "Failed to retrieve data for AUO\n",
      "$AUQ: possibly delisted; No price data found  (1d 2010-01-01 00:00:00 -> 2024-07-01 00:00:00)\n",
      "Failed to retrieve data for AUQ\n",
      "$AV: possibly delisted; No price data found  (1d 2010-01-01 00:00:00 -> 2024-07-01 00:00:00)\n",
      "Failed to retrieve data for AV\n"
     ]
    },
    {
     "name": "stderr",
     "output_type": "stream",
     "text": [
      "[*********************100%%**********************]  1 of 1 completed\n",
      "[*********************100%%**********************]  1 of 1 completed\n",
      "[*********************100%%**********************]  1 of 1 completed\n",
      "[*********************100%%**********************]  1 of 1 completed\n",
      "ERROR:yfinance:\n",
      "1 Failed download:\n",
      "ERROR:yfinance:['AVG']: YFPricesMissingError('$%ticker%: possibly delisted; No price data found  (1d 2010-01-01 00:00:00 -> 2024-07-01 00:00:00)')\n",
      "ERROR:root:Error stock data received. Aborting further operations.\n",
      "[*********************100%%**********************]  1 of 1 completed"
     ]
    },
    {
     "name": "stdout",
     "output_type": "stream",
     "text": [
      "$AVG: possibly delisted; No price data found  (1d 2010-01-01 00:00:00 -> 2024-07-01 00:00:00)\n",
      "Failed to retrieve data for AVG\n"
     ]
    },
    {
     "name": "stderr",
     "output_type": "stream",
     "text": [
      "\n",
      "[*********************100%%**********************]  1 of 1 completed\n",
      "[*********************100%%**********************]  1 of 1 completed\n",
      "ERROR:yfinance:\n",
      "1 Failed download:\n",
      "ERROR:yfinance:['AVP']: YFTzMissingError('$%ticker%: possibly delisted; No timezone found')\n",
      "ERROR:root:Error stock data received. Aborting further operations.\n"
     ]
    },
    {
     "name": "stdout",
     "output_type": "stream",
     "text": [
      "Failed to retrieve data for AVP\n"
     ]
    },
    {
     "name": "stderr",
     "output_type": "stream",
     "text": [
      "[*********************100%%**********************]  1 of 1 completed\n",
      "[*********************100%%**********************]  1 of 1 completed\n",
      "ERROR:yfinance:\n",
      "1 Failed download:\n",
      "ERROR:yfinance:['AVV']: YFTzMissingError('$%ticker%: possibly delisted; No timezone found')\n",
      "ERROR:root:Error stock data received. Aborting further operations.\n"
     ]
    },
    {
     "name": "stdout",
     "output_type": "stream",
     "text": [
      "Failed to retrieve data for AVV\n"
     ]
    },
    {
     "name": "stderr",
     "output_type": "stream",
     "text": [
      "[*********************100%%**********************]  1 of 1 completed\n",
      "ERROR:yfinance:\n",
      "1 Failed download:\n",
      "ERROR:yfinance:['AVX']: YFTzMissingError('$%ticker%: possibly delisted; No timezone found')\n",
      "ERROR:root:Error stock data received. Aborting further operations.\n"
     ]
    },
    {
     "name": "stdout",
     "output_type": "stream",
     "text": [
      "Failed to retrieve data for AVX\n"
     ]
    },
    {
     "name": "stderr",
     "output_type": "stream",
     "text": [
      "[*********************100%%**********************]  1 of 1 completed\n",
      "[*********************100%%**********************]  1 of 1 completed\n",
      "ERROR:yfinance:\n",
      "1 Failed download:\n",
      "ERROR:yfinance:['AWC']: YFPricesMissingError('$%ticker%: possibly delisted; No price data found  (1d 2010-01-01 00:00:00 -> 2024-07-01 00:00:00)')\n",
      "ERROR:root:Error stock data received. Aborting further operations.\n"
     ]
    },
    {
     "name": "stdout",
     "output_type": "stream",
     "text": [
      "$AWC: possibly delisted; No price data found  (1d 2010-01-01 00:00:00 -> 2024-07-01 00:00:00)\n",
      "Failed to retrieve data for AWC\n"
     ]
    },
    {
     "name": "stderr",
     "output_type": "stream",
     "text": [
      "[*********************100%%**********************]  1 of 1 completed\n",
      "[*********************100%%**********************]  1 of 1 completed\n",
      "[*********************100%%**********************]  1 of 1 completed\n",
      "[*********************100%%**********************]  1 of 1 completed\n",
      "[*********************100%%**********************]  1 of 1 completed\n",
      "[*********************100%%**********************]  1 of 1 completed\n",
      "[*********************100%%**********************]  1 of 1 completed\n",
      "ERROR:yfinance:\n",
      "1 Failed download:\n",
      "ERROR:yfinance:['AXE']: YFTzMissingError('$%ticker%: possibly delisted; No timezone found')\n",
      "ERROR:root:Error stock data received. Aborting further operations.\n"
     ]
    },
    {
     "name": "stdout",
     "output_type": "stream",
     "text": [
      "Failed to retrieve data for AXE\n"
     ]
    },
    {
     "name": "stderr",
     "output_type": "stream",
     "text": [
      "[*********************100%%**********************]  1 of 1 completed\n",
      "[*********************100%%**********************]  1 of 1 completed\n",
      "[*********************100%%**********************]  1 of 1 completed\n",
      "[*********************100%%**********************]  1 of 1 completed\n",
      "[*********************100%%**********************]  1 of 1 completed\n",
      "ERROR:yfinance:\n",
      "1 Failed download:\n",
      "ERROR:yfinance:['AXS-C']: YFTzMissingError('$%ticker%: possibly delisted; No timezone found')\n",
      "ERROR:root:Error stock data received. Aborting further operations.\n"
     ]
    },
    {
     "name": "stdout",
     "output_type": "stream",
     "text": [
      "Failed to retrieve data for AXS-C\n"
     ]
    },
    {
     "name": "stderr",
     "output_type": "stream",
     "text": [
      "[*********************100%%**********************]  1 of 1 completed\n",
      "ERROR:yfinance:\n",
      "1 Failed download:\n",
      "ERROR:yfinance:['AXS-D']: YFTzMissingError('$%ticker%: possibly delisted; No timezone found')\n",
      "ERROR:root:Error stock data received. Aborting further operations.\n"
     ]
    },
    {
     "name": "stdout",
     "output_type": "stream",
     "text": [
      "Failed to retrieve data for AXS-D\n"
     ]
    },
    {
     "name": "stderr",
     "output_type": "stream",
     "text": [
      "[*********************100%%**********************]  1 of 1 completed\n",
      "[*********************100%%**********************]  1 of 1 completed\n",
      "ERROR:yfinance:\n",
      "1 Failed download:\n",
      "ERROR:yfinance:['AYN']: YFPricesMissingError('$%ticker%: possibly delisted; No price data found  (1d 2010-01-01 00:00:00 -> 2024-07-01 00:00:00)')\n",
      "ERROR:root:Error stock data received. Aborting further operations.\n"
     ]
    },
    {
     "name": "stdout",
     "output_type": "stream",
     "text": [
      "$AYN: possibly delisted; No price data found  (1d 2010-01-01 00:00:00 -> 2024-07-01 00:00:00)\n",
      "Failed to retrieve data for AYN\n"
     ]
    },
    {
     "name": "stderr",
     "output_type": "stream",
     "text": [
      "[*********************100%%**********************]  1 of 1 completed\n",
      "ERROR:yfinance:\n",
      "1 Failed download:\n",
      "ERROR:yfinance:['AYR']: YFTzMissingError('$%ticker%: possibly delisted; No timezone found')\n",
      "ERROR:root:Error stock data received. Aborting further operations.\n"
     ]
    },
    {
     "name": "stdout",
     "output_type": "stream",
     "text": [
      "Failed to retrieve data for AYR\n"
     ]
    },
    {
     "name": "stderr",
     "output_type": "stream",
     "text": [
      "[*********************100%%**********************]  1 of 1 completed\n",
      "[*********************100%%**********************]  1 of 1 completed\n",
      "[*********************100%%**********************]  1 of 1 completed\n",
      "[*********************100%%**********************]  1 of 1 completed\n",
      "ERROR:yfinance:\n",
      "1 Failed download:\n",
      "ERROR:yfinance:['BNNY']: YFPricesMissingError('$%ticker%: possibly delisted; No price data found  (1d 2010-01-01 00:00:00 -> 2024-07-01 00:00:00)')\n",
      "ERROR:root:Error stock data received. Aborting further operations.\n",
      "[*********************100%%**********************]  1 of 1 completed\n",
      "ERROR:yfinance:\n",
      "1 Failed download:\n",
      "ERROR:yfinance:['BSI']: YFPricesMissingError('$%ticker%: possibly delisted; No price data found  (1d 2010-01-01 00:00:00 -> 2024-07-01 00:00:00)')\n",
      "ERROR:root:Error stock data received. Aborting further operations.\n",
      "[*********************100%%**********************]  1 of 1 completed\n",
      "ERROR:yfinance:\n",
      "1 Failed download:\n",
      "ERROR:yfinance:['BSP']: YFPricesMissingError('$%ticker%: possibly delisted; No price data found  (1d 2010-01-01 00:00:00 -> 2024-07-01 00:00:00)')\n",
      "ERROR:root:Error stock data received. Aborting further operations.\n"
     ]
    },
    {
     "name": "stdout",
     "output_type": "stream",
     "text": [
      "$BNNY: possibly delisted; No price data found  (1d 2010-01-01 00:00:00 -> 2024-07-01 00:00:00)\n",
      "Failed to retrieve data for BNNY\n",
      "$BSI: possibly delisted; No price data found  (1d 2010-01-01 00:00:00 -> 2024-07-01 00:00:00)\n",
      "Failed to retrieve data for BSI\n",
      "$BSP: possibly delisted; No price data found  (1d 2010-01-01 00:00:00 -> 2024-07-01 00:00:00)\n",
      "Failed to retrieve data for BSP\n"
     ]
    },
    {
     "name": "stderr",
     "output_type": "stream",
     "text": [
      "[*********************100%%**********************]  1 of 1 completed\n",
      "[*********************100%%**********************]  1 of 1 completed\n",
      "ERROR:yfinance:\n",
      "1 Failed download:\n",
      "ERROR:yfinance:['CSP']: YFPricesMissingError('$%ticker%: possibly delisted; No price data found  (1d 2010-01-01 00:00:00 -> 2024-07-01 00:00:00)')\n",
      "ERROR:root:Error stock data received. Aborting further operations.\n"
     ]
    },
    {
     "name": "stdout",
     "output_type": "stream",
     "text": [
      "$CSP: possibly delisted; No price data found  (1d 2010-01-01 00:00:00 -> 2024-07-01 00:00:00)\n",
      "Failed to retrieve data for CSP\n"
     ]
    },
    {
     "name": "stderr",
     "output_type": "stream",
     "text": [
      "[*********************100%%**********************]  1 of 1 completed\n",
      "[*********************100%%**********************]  1 of 1 completed\n",
      "ERROR:yfinance:\n",
      "1 Failed download:\n",
      "ERROR:yfinance:['FAV']: YFPricesMissingError('$%ticker%: possibly delisted; No price data found  (1d 2010-01-01 00:00:00 -> 2024-07-01 00:00:00)')\n",
      "ERROR:root:Error stock data received. Aborting further operations.\n",
      "[*********************100%%**********************]  1 of 1 completed\n",
      "ERROR:yfinance:\n",
      "1 Failed download:\n",
      "ERROR:yfinance:['GAS']: YFPricesMissingError('$%ticker%: possibly delisted; No price data found  (1d 2010-01-01 00:00:00 -> 2024-07-01 00:00:00)')\n",
      "ERROR:root:Error stock data received. Aborting further operations.\n",
      "[*********************100%%**********************]  1 of 1 completed\n",
      "ERROR:yfinance:\n",
      "1 Failed download:\n",
      "ERROR:yfinance:['GRO']: YFPricesMissingError('$%ticker%: possibly delisted; No price data found  (1d 2010-01-01 00:00:00 -> 2024-07-01 00:00:00)')\n",
      "ERROR:root:Error stock data received. Aborting further operations.\n"
     ]
    },
    {
     "name": "stdout",
     "output_type": "stream",
     "text": [
      "$FAV: possibly delisted; No price data found  (1d 2010-01-01 00:00:00 -> 2024-07-01 00:00:00)\n",
      "Failed to retrieve data for FAV\n",
      "$GAS: possibly delisted; No price data found  (1d 2010-01-01 00:00:00 -> 2024-07-01 00:00:00)\n",
      "Failed to retrieve data for GAS\n",
      "$GRO: possibly delisted; No price data found  (1d 2010-01-01 00:00:00 -> 2024-07-01 00:00:00)\n",
      "Failed to retrieve data for GRO\n"
     ]
    },
    {
     "name": "stderr",
     "output_type": "stream",
     "text": [
      "[*********************100%%**********************]  1 of 1 completed\n",
      "[*********************100%%**********************]  1 of 1 completed\n",
      "[*********************100%%**********************]  1 of 1 completed\n",
      "[*********************100%%**********************]  1 of 1 completed\n",
      "[*********************100%%**********************]  1 of 1 completed\n",
      "ERROR:yfinance:\n",
      "1 Failed download:\n",
      "ERROR:yfinance:['MIT-A']: YFTzMissingError('$%ticker%: possibly delisted; No timezone found')\n",
      "ERROR:root:Error stock data received. Aborting further operations.\n"
     ]
    },
    {
     "name": "stdout",
     "output_type": "stream",
     "text": [
      "Failed to retrieve data for MIT-A\n"
     ]
    },
    {
     "name": "stderr",
     "output_type": "stream",
     "text": [
      "[*********************100%%**********************]  1 of 1 completed\n",
      "[*********************100%%**********************]  1 of 1 completed\n",
      "[*********************100%%**********************]  1 of 1 completed\n",
      "ERROR:yfinance:\n",
      "1 Failed download:\n",
      "ERROR:yfinance:['MRF']: YFPricesMissingError('$%ticker%: possibly delisted; No price data found  (1d 2010-01-01 00:00:00 -> 2024-07-01 00:00:00)')\n",
      "ERROR:root:Error stock data received. Aborting further operations.\n"
     ]
    },
    {
     "name": "stdout",
     "output_type": "stream",
     "text": [
      "$MRF: possibly delisted; No price data found  (1d 2010-01-01 00:00:00 -> 2024-07-01 00:00:00)\n",
      "Failed to retrieve data for MRF\n"
     ]
    },
    {
     "name": "stderr",
     "output_type": "stream",
     "text": [
      "[*********************100%%**********************]  1 of 1 completed\n",
      "[*********************100%%**********************]  1 of 1 completed\n",
      "ERROR:yfinance:\n",
      "1 Failed download:\n",
      "ERROR:yfinance:['MTCN']: YFTzMissingError('$%ticker%: possibly delisted; No timezone found')\n",
      "ERROR:root:Error stock data received. Aborting further operations.\n"
     ]
    },
    {
     "name": "stdout",
     "output_type": "stream",
     "text": [
      "Failed to retrieve data for MTCN\n"
     ]
    },
    {
     "name": "stderr",
     "output_type": "stream",
     "text": [
      "[*********************100%%**********************]  1 of 1 completed\n",
      "ERROR:yfinance:\n",
      "1 Failed download:\n",
      "ERROR:yfinance:['MTOR']: YFTzMissingError('$%ticker%: possibly delisted; No timezone found')\n",
      "ERROR:root:Error stock data received. Aborting further operations.\n",
      "[*********************100%%**********************]  1 of 1 completed\n",
      "ERROR:yfinance:\n",
      "1 Failed download:\n",
      "ERROR:yfinance:['NAI']: YFPricesMissingError('$%ticker%: possibly delisted; No price data found  (1d 2010-01-01 00:00:00 -> 2024-07-01 00:00:00)')\n",
      "ERROR:root:Error stock data received. Aborting further operations.\n"
     ]
    },
    {
     "name": "stdout",
     "output_type": "stream",
     "text": [
      "Failed to retrieve data for MTOR\n",
      "$NAI: possibly delisted; No price data found  (1d 2010-01-01 00:00:00 -> 2024-07-01 00:00:00)\n",
      "Failed to retrieve data for NAI\n"
     ]
    },
    {
     "name": "stderr",
     "output_type": "stream",
     "text": [
      "[*********************100%%**********************]  1 of 1 completed\n",
      "[*********************100%%**********************]  1 of 1 completed\n",
      "[*********************100%%**********************]  1 of 1 completed\n",
      "ERROR:yfinance:\n",
      "1 Failed download:\n",
      "ERROR:yfinance:['NGZ']: YFPricesMissingError('$%ticker%: possibly delisted; No price data found  (1d 2010-01-01 00:00:00 -> 2024-07-01 00:00:00)')\n",
      "ERROR:root:Error stock data received. Aborting further operations.\n"
     ]
    },
    {
     "name": "stdout",
     "output_type": "stream",
     "text": [
      "$NGZ: possibly delisted; No price data found  (1d 2010-01-01 00:00:00 -> 2024-07-01 00:00:00)\n",
      "Failed to retrieve data for NGZ\n"
     ]
    },
    {
     "name": "stderr",
     "output_type": "stream",
     "text": [
      "[*********************100%%**********************]  1 of 1 completed\n",
      "[*********************100%%**********************]  1 of 1 completed\n",
      "[*********************100%%**********************]  1 of 1 completed\n",
      "ERROR:yfinance:\n",
      "1 Failed download:\n",
      "ERROR:yfinance:['NLY-A']: YFTzMissingError('$%ticker%: possibly delisted; No timezone found')\n",
      "ERROR:root:Error stock data received. Aborting further operations.\n"
     ]
    },
    {
     "name": "stdout",
     "output_type": "stream",
     "text": [
      "Failed to retrieve data for NLY-A\n"
     ]
    },
    {
     "name": "stderr",
     "output_type": "stream",
     "text": [
      "[*********************100%%**********************]  1 of 1 completed\n",
      "ERROR:yfinance:\n",
      "1 Failed download:\n",
      "ERROR:yfinance:['NLY-C']: YFTzMissingError('$%ticker%: possibly delisted; No timezone found')\n",
      "ERROR:root:Error stock data received. Aborting further operations.\n"
     ]
    },
    {
     "name": "stdout",
     "output_type": "stream",
     "text": [
      "Failed to retrieve data for NLY-C\n"
     ]
    },
    {
     "name": "stderr",
     "output_type": "stream",
     "text": [
      "[*********************100%%**********************]  1 of 1 completed\n",
      "ERROR:yfinance:\n",
      "1 Failed download:\n",
      "ERROR:yfinance:['NLY-D']: YFTzMissingError('$%ticker%: possibly delisted; No timezone found')\n",
      "ERROR:root:Error stock data received. Aborting further operations.\n",
      "[*********************100%%**********************]  1 of 1 completed\n",
      "ERROR:yfinance:\n",
      "1 Failed download:\n",
      "ERROR:yfinance:['PVD']: YFPricesMissingError('$%ticker%: possibly delisted; No price data found  (1d 2010-01-01 00:00:00 -> 2024-07-01 00:00:00)')\n",
      "ERROR:root:Error stock data received. Aborting further operations.\n",
      "[*********************100%%**********************]  1 of 1 completed\n"
     ]
    },
    {
     "name": "stdout",
     "output_type": "stream",
     "text": [
      "Failed to retrieve data for NLY-D\n",
      "$PVD: possibly delisted; No price data found  (1d 2010-01-01 00:00:00 -> 2024-07-01 00:00:00)\n",
      "Failed to retrieve data for PVD\n"
     ]
    },
    {
     "name": "stderr",
     "output_type": "stream",
     "text": [
      "[*********************100%%**********************]  1 of 1 completed\n",
      "ERROR:yfinance:\n",
      "1 Failed download:\n",
      "ERROR:yfinance:['SLA']: YFPricesMissingError('$%ticker%: possibly delisted; No price data found  (1d 2010-01-01 00:00:00 -> 2024-07-01 00:00:00)')\n",
      "ERROR:root:Error stock data received. Aborting further operations.\n"
     ]
    },
    {
     "name": "stdout",
     "output_type": "stream",
     "text": [
      "$SLA: possibly delisted; No price data found  (1d 2010-01-01 00:00:00 -> 2024-07-01 00:00:00)\n",
      "Failed to retrieve data for SLA\n"
     ]
    },
    {
     "name": "stderr",
     "output_type": "stream",
     "text": [
      "[*********************100%%**********************]  1 of 1 completed\n",
      "[*********************100%%**********************]  1 of 1 completed\n",
      "ERROR:yfinance:\n",
      "1 Failed download:\n",
      "ERROR:yfinance:['XAA']: YFPricesMissingError('$%ticker%: possibly delisted; No price data found  (1d 2010-01-01 00:00:00 -> 2024-07-01 00:00:00)')\n",
      "ERROR:root:Error stock data received. Aborting further operations.\n"
     ]
    },
    {
     "name": "stdout",
     "output_type": "stream",
     "text": [
      "$XAA: possibly delisted; No price data found  (1d 2010-01-01 00:00:00 -> 2024-07-01 00:00:00)\n",
      "Failed to retrieve data for XAA\n"
     ]
    },
    {
     "name": "stderr",
     "output_type": "stream",
     "text": [
      "[*********************100%%**********************]  1 of 1 completed\n",
      "ERROR:yfinance:\n",
      "1 Failed download:\n",
      "ERROR:yfinance:['Y']: %ticker%FTzMissingError('$%ticker%: possibly delisted; No timezone found')\n",
      "ERROR:root:Error stock data received. Aborting further operations.\n",
      "[*********************100%%**********************]  1 of 1 completed\n",
      "ERROR:yfinance:\n",
      "1 Failed download:\n",
      "ERROR:yfinance:['AAIT']: YFPricesMissingError('$%ticker%: possibly delisted; No price data found  (1d 2010-01-01 00:00:00 -> 2024-07-01 00:00:00)')\n",
      "ERROR:root:Error stock data received. Aborting further operations.\n"
     ]
    },
    {
     "name": "stdout",
     "output_type": "stream",
     "text": [
      "Failed to retrieve data for Y\n",
      "$AAIT: possibly delisted; No price data found  (1d 2010-01-01 00:00:00 -> 2024-07-01 00:00:00)\n",
      "Failed to retrieve data for AAIT\n"
     ]
    },
    {
     "name": "stderr",
     "output_type": "stream",
     "text": [
      "[*********************100%%**********************]  1 of 1 completed\n",
      "[*********************100%%**********************]  1 of 1 completed\n",
      "[*********************100%%**********************]  1 of 1 completed\n",
      "[*********************100%%**********************]  1 of 1 completed\n",
      "ERROR:yfinance:\n",
      "1 Failed download:\n",
      "ERROR:yfinance:['AAWW']: YFTzMissingError('$%ticker%: possibly delisted; No timezone found')\n",
      "ERROR:root:Error stock data received. Aborting further operations.\n"
     ]
    },
    {
     "name": "stdout",
     "output_type": "stream",
     "text": [
      "Failed to retrieve data for AAWW\n"
     ]
    },
    {
     "name": "stderr",
     "output_type": "stream",
     "text": [
      "[*********************100%%**********************]  1 of 1 completed\n",
      "[*********************100%%**********************]  1 of 1 completed\n",
      "[*********************100%%**********************]  1 of 1 completed\n",
      "[*********************100%%**********************]  1 of 1 completed\n",
      "ERROR:yfinance:\n",
      "1 Failed download:\n",
      "ERROR:yfinance:['ABFS']: YFPricesMissingError('$%ticker%: possibly delisted; No price data found  (1d 2010-01-01 00:00:00 -> 2024-07-01 00:00:00)')\n",
      "ERROR:root:Error stock data received. Aborting further operations.\n"
     ]
    },
    {
     "name": "stdout",
     "output_type": "stream",
     "text": [
      "$ABFS: possibly delisted; No price data found  (1d 2010-01-01 00:00:00 -> 2024-07-01 00:00:00)\n",
      "Failed to retrieve data for ABFS\n"
     ]
    },
    {
     "name": "stderr",
     "output_type": "stream",
     "text": [
      "[*********************100%%**********************]  1 of 1 completed\n",
      "[*********************100%%**********************]  1 of 1 completed\n",
      "[*********************100%%**********************]  1 of 1 completed\n",
      "ERROR:yfinance:\n",
      "1 Failed download:\n",
      "ERROR:yfinance:['ABTL']: YFPricesMissingError('$%ticker%: possibly delisted; No price data found  (1d 2010-01-01 00:00:00 -> 2024-07-01 00:00:00)')\n",
      "ERROR:root:Error stock data received. Aborting further operations.\n"
     ]
    },
    {
     "name": "stdout",
     "output_type": "stream",
     "text": [
      "$ABTL: possibly delisted; No price data found  (1d 2010-01-01 00:00:00 -> 2024-07-01 00:00:00)\n",
      "Failed to retrieve data for ABTL\n"
     ]
    },
    {
     "name": "stderr",
     "output_type": "stream",
     "text": [
      "[*********************100%%**********************]  1 of 1 completed\n",
      "[*********************100%%**********************]  1 of 1 completed\n",
      "ERROR:yfinance:\n",
      "1 Failed download:\n",
      "ERROR:yfinance:['ACAS']: YFPricesMissingError('$%ticker%: possibly delisted; No price data found  (1d 2010-01-01 00:00:00 -> 2024-07-01 00:00:00)')\n",
      "ERROR:root:Error stock data received. Aborting further operations.\n",
      "[*********************100%%**********************]  1 of 1 completed\n",
      "ERROR:yfinance:\n",
      "1 Failed download:\n",
      "ERROR:yfinance:['ACAT']: YFPricesMissingError('$%ticker%: possibly delisted; No price data found  (1d 2010-01-01 00:00:00 -> 2024-07-01 00:00:00)')\n",
      "ERROR:root:Error stock data received. Aborting further operations.\n",
      "[*********************100%%**********************]  1 of 1 completed\n",
      "ERROR:yfinance:\n",
      "1 Failed download:\n",
      "ERROR:yfinance:['ACCL']: YFPricesMissingError('$%ticker%: possibly delisted; No price data found  (1d 2010-01-01 00:00:00 -> 2024-07-01 00:00:00)')\n",
      "ERROR:root:Error stock data received. Aborting further operations.\n"
     ]
    },
    {
     "name": "stdout",
     "output_type": "stream",
     "text": [
      "$ACAS: possibly delisted; No price data found  (1d 2010-01-01 00:00:00 -> 2024-07-01 00:00:00)\n",
      "Failed to retrieve data for ACAS\n",
      "$ACAT: possibly delisted; No price data found  (1d 2010-01-01 00:00:00 -> 2024-07-01 00:00:00)\n",
      "Failed to retrieve data for ACAT\n",
      "$ACCL: possibly delisted; No price data found  (1d 2010-01-01 00:00:00 -> 2024-07-01 00:00:00)\n",
      "Failed to retrieve data for ACCL\n"
     ]
    },
    {
     "name": "stderr",
     "output_type": "stream",
     "text": [
      "[*********************100%%**********************]  1 of 1 completed\n",
      "[*********************100%%**********************]  1 of 1 completed\n",
      "[*********************100%%**********************]  1 of 1 completed\n",
      "[*********************100%%**********************]  1 of 1 completed\n",
      "[*********************100%%**********************]  1 of 1 completed\n",
      "[*********************100%%**********************]  1 of 1 completed\n",
      "ERROR:yfinance:\n",
      "1 Failed download:\n",
      "ERROR:yfinance:['ACHN']: YFTzMissingError('$%ticker%: possibly delisted; No timezone found')\n",
      "ERROR:root:Error stock data received. Aborting further operations.\n"
     ]
    },
    {
     "name": "stdout",
     "output_type": "stream",
     "text": [
      "Failed to retrieve data for ACHN\n"
     ]
    },
    {
     "name": "stderr",
     "output_type": "stream",
     "text": [
      "[*********************100%%**********************]  1 of 1 completed\n",
      "[*********************100%%**********************]  1 of 1 completed\n",
      "[*********************100%%**********************]  1 of 1 completed\n",
      "[*********************100%%**********************]  1 of 1 completed\n",
      "ERROR:yfinance:\n",
      "1 Failed download:\n",
      "ERROR:yfinance:['ACOR']: YFTzMissingError('$%ticker%: possibly delisted; No timezone found')\n",
      "ERROR:root:Error stock data received. Aborting further operations.\n",
      "[*********************100%%**********************]  1 of 1 completed\n",
      "ERROR:yfinance:\n",
      "1 Failed download:\n",
      "ERROR:yfinance:['ACPW']: YFPricesMissingError('$%ticker%: possibly delisted; No price data found  (1d 2010-01-01 00:00:00 -> 2024-07-01 00:00:00)')\n",
      "ERROR:root:Error stock data received. Aborting further operations.\n"
     ]
    },
    {
     "name": "stdout",
     "output_type": "stream",
     "text": [
      "Failed to retrieve data for ACOR\n",
      "$ACPW: possibly delisted; No price data found  (1d 2010-01-01 00:00:00 -> 2024-07-01 00:00:00)\n",
      "Failed to retrieve data for ACPW\n"
     ]
    },
    {
     "name": "stderr",
     "output_type": "stream",
     "text": [
      "[*********************100%%**********************]  1 of 1 completed\n",
      "ERROR:yfinance:\n",
      "1 Failed download:\n",
      "ERROR:yfinance:['ACRX']: YFTzMissingError('$%ticker%: possibly delisted; No timezone found')\n",
      "ERROR:root:Error stock data received. Aborting further operations.\n"
     ]
    },
    {
     "name": "stdout",
     "output_type": "stream",
     "text": [
      "Failed to retrieve data for ACRX\n"
     ]
    },
    {
     "name": "stderr",
     "output_type": "stream",
     "text": [
      "[*********************100%%**********************]  1 of 1 completed\n",
      "[*********************100%%**********************]  1 of 1 completed\n",
      "[*********************100%%**********************]  1 of 1 completed\n",
      "ERROR:yfinance:\n",
      "1 Failed download:\n",
      "ERROR:yfinance:['ACTS']: YFPricesMissingError('$%ticker%: possibly delisted; No price data found  (1d 2010-01-01 00:00:00 -> 2024-07-01 00:00:00)')\n",
      "ERROR:root:Error stock data received. Aborting further operations.\n"
     ]
    },
    {
     "name": "stdout",
     "output_type": "stream",
     "text": [
      "$ACTS: possibly delisted; No price data found  (1d 2010-01-01 00:00:00 -> 2024-07-01 00:00:00)\n",
      "Failed to retrieve data for ACTS\n"
     ]
    },
    {
     "name": "stderr",
     "output_type": "stream",
     "text": [
      "[*********************100%%**********************]  1 of 1 completed\n"
     ]
    },
    {
     "name": "stdout",
     "output_type": "stream",
     "text": [
      "An error occurred while inserting data: (psycopg2.errors.NumericValueOutOfRange) numeric field overflow\n",
      "DETAIL:  A field with precision 5, scale 2 must round to an absolute value less than 10^3.\n",
      "\n",
      "[SQL: \n",
      "                    INSERT INTO daily_stock_prices (\"Date\", \"Open\", \"Close\", daily_change, percent_change, stock_symbol)\n",
      "                    VALUES (%(Date)s, %(Open)s, %(Close)s, %(daily_change)s, %(percent_change)s, %(stock_symbol)s)\n",
      "                    ON CONFLICT (stock_symbol, \"Date\") DO NOTHING\n",
      "                ]\n",
      "[parameters: {'Date': Timestamp('2022-07-28 00:00:00'), 'Open': 0.003000000026077032, 'Close': 0.10999999940395355, 'daily_change': 0.10699999937787652, 'percent_change': 3566.666614926524, 'stock_symbol': 'ACUR'}]\n",
      "(Background on this error at: https://sqlalche.me/e/20/9h9h)\n"
     ]
    },
    {
     "name": "stderr",
     "output_type": "stream",
     "text": [
      "[*********************100%%**********************]  1 of 1 completed\n",
      "[*********************100%%**********************]  1 of 1 completed\n",
      "[*********************100%%**********************]  1 of 1 completed\n",
      "ERROR:yfinance:\n",
      "1 Failed download:\n",
      "ERROR:yfinance:['ACXM']: YFPricesMissingError('$%ticker%: possibly delisted; No price data found  (1d 2010-01-01 00:00:00 -> 2024-07-01 00:00:00)')\n",
      "ERROR:root:Error stock data received. Aborting further operations.\n",
      "[*********************100%%**********************]  1 of 1 completed\n",
      "ERROR:yfinance:\n",
      "1 Failed download:\n",
      "ERROR:yfinance:['ADAT']: YFPricesMissingError('$%ticker%: possibly delisted; No price data found  (1d 2010-01-01 00:00:00 -> 2024-07-01 00:00:00)')\n",
      "ERROR:root:Error stock data received. Aborting further operations.\n"
     ]
    },
    {
     "name": "stdout",
     "output_type": "stream",
     "text": [
      "$ACXM: possibly delisted; No price data found  (1d 2010-01-01 00:00:00 -> 2024-07-01 00:00:00)\n",
      "Failed to retrieve data for ACXM\n",
      "$ADAT: possibly delisted; No price data found  (1d 2010-01-01 00:00:00 -> 2024-07-01 00:00:00)\n",
      "Failed to retrieve data for ADAT\n"
     ]
    },
    {
     "name": "stderr",
     "output_type": "stream",
     "text": [
      "[*********************100%%**********************]  1 of 1 completed\n",
      "[*********************100%%**********************]  1 of 1 completed\n",
      "ERROR:yfinance:\n",
      "1 Failed download:\n",
      "ERROR:yfinance:['ADEP']: YFPricesMissingError('$%ticker%: possibly delisted; No price data found  (1d 2010-01-01 00:00:00 -> 2024-07-01 00:00:00)')\n",
      "ERROR:root:Error stock data received. Aborting further operations.\n"
     ]
    },
    {
     "name": "stdout",
     "output_type": "stream",
     "text": [
      "$ADEP: possibly delisted; No price data found  (1d 2010-01-01 00:00:00 -> 2024-07-01 00:00:00)\n",
      "Failed to retrieve data for ADEP\n"
     ]
    },
    {
     "name": "stderr",
     "output_type": "stream",
     "text": [
      "[*********************100%%**********************]  1 of 1 completed\n",
      "ERROR:yfinance:\n",
      "1 Failed download:\n",
      "ERROR:yfinance:['ADES']: YFTzMissingError('$%ticker%: possibly delisted; No timezone found')\n",
      "ERROR:root:Error stock data received. Aborting further operations.\n",
      "[*********************100%%**********************]  1 of 1 completed\n",
      "ERROR:yfinance:\n",
      "1 Failed download:\n",
      "ERROR:yfinance:['ADHD']: YFPricesMissingError('$%ticker%: possibly delisted; No price data found  (1d 2010-01-01 00:00:00 -> 2024-07-01 00:00:00)')\n",
      "ERROR:root:Error stock data received. Aborting further operations.\n"
     ]
    },
    {
     "name": "stdout",
     "output_type": "stream",
     "text": [
      "Failed to retrieve data for ADES\n",
      "$ADHD: possibly delisted; No price data found  (1d 2010-01-01 00:00:00 -> 2024-07-01 00:00:00)\n",
      "Failed to retrieve data for ADHD\n"
     ]
    },
    {
     "name": "stderr",
     "output_type": "stream",
     "text": [
      "[*********************100%%**********************]  1 of 1 completed\n",
      "[*********************100%%**********************]  1 of 1 completed\n",
      "ERROR:yfinance:\n",
      "1 Failed download:\n",
      "ERROR:yfinance:['ADNC']: YFPricesMissingError('$%ticker%: possibly delisted; No price data found  (1d 2010-01-01 00:00:00 -> 2024-07-01 00:00:00)')\n",
      "ERROR:root:Error stock data received. Aborting further operations.\n"
     ]
    },
    {
     "name": "stdout",
     "output_type": "stream",
     "text": [
      "$ADNC: possibly delisted; No price data found  (1d 2010-01-01 00:00:00 -> 2024-07-01 00:00:00)\n",
      "Failed to retrieve data for ADNC\n"
     ]
    },
    {
     "name": "stderr",
     "output_type": "stream",
     "text": [
      "[*********************100%%**********************]  1 of 1 completed\n",
      "[*********************100%%**********************]  1 of 1 completed\n",
      "ERROR:yfinance:\n",
      "1 Failed download:\n",
      "ERROR:yfinance:['ADRA']: YFTzMissingError('$%ticker%: possibly delisted; No timezone found')\n",
      "ERROR:root:Error stock data received. Aborting further operations.\n"
     ]
    },
    {
     "name": "stdout",
     "output_type": "stream",
     "text": [
      "Failed to retrieve data for ADRA\n"
     ]
    },
    {
     "name": "stderr",
     "output_type": "stream",
     "text": [
      "[*********************100%%**********************]  1 of 1 completed\n",
      "[*********************100%%**********************]  1 of 1 completed\n",
      "[*********************100%%**********************]  1 of 1 completed\n",
      "[*********************100%%**********************]  1 of 1 completed\n",
      "ERROR:yfinance:\n",
      "1 Failed download:\n",
      "ERROR:yfinance:['ADVS']: YFPricesMissingError('$%ticker%: possibly delisted; No price data found  (1d 2010-01-01 00:00:00 -> 2024-07-01 00:00:00)')\n",
      "ERROR:root:Error stock data received. Aborting further operations.\n"
     ]
    },
    {
     "name": "stdout",
     "output_type": "stream",
     "text": [
      "$ADVS: possibly delisted; No price data found  (1d 2010-01-01 00:00:00 -> 2024-07-01 00:00:00)\n",
      "Failed to retrieve data for ADVS\n"
     ]
    },
    {
     "name": "stderr",
     "output_type": "stream",
     "text": [
      "[*********************100%%**********************]  1 of 1 completed\n",
      "ERROR:yfinance:\n",
      "1 Failed download:\n",
      "ERROR:yfinance:['AEGN']: YFTzMissingError('$%ticker%: possibly delisted; No timezone found')\n",
      "ERROR:root:Error stock data received. Aborting further operations.\n",
      "[*********************100%%**********************]  1 of 1 completed\n",
      "ERROR:yfinance:\n",
      "1 Failed download:\n",
      "ERROR:yfinance:['AEGR']: YFPricesMissingError('$%ticker%: possibly delisted; No price data found  (1d 2010-01-01 00:00:00 -> 2024-07-01 00:00:00)')\n",
      "ERROR:root:Error stock data received. Aborting further operations.\n"
     ]
    },
    {
     "name": "stdout",
     "output_type": "stream",
     "text": [
      "Failed to retrieve data for AEGN\n",
      "$AEGR: possibly delisted; No price data found  (1d 2010-01-01 00:00:00 -> 2024-07-01 00:00:00)\n",
      "Failed to retrieve data for AEGR\n"
     ]
    },
    {
     "name": "stderr",
     "output_type": "stream",
     "text": [
      "[*********************100%%**********************]  1 of 1 completed\n",
      "[*********************100%%**********************]  1 of 1 completed\n",
      "[*********************100%%**********************]  1 of 1 completed\n",
      "ERROR:yfinance:\n",
      "1 Failed download:\n",
      "ERROR:yfinance:['AEPI']: YFPricesMissingError('$%ticker%: possibly delisted; No price data found  (1d 2010-01-01 00:00:00 -> 2024-07-01 00:00:00)')\n",
      "ERROR:root:Error stock data received. Aborting further operations.\n",
      "[*********************100%%**********************]  1 of 1 completed\n",
      "ERROR:yfinance:\n",
      "1 Failed download:\n",
      "ERROR:yfinance:['AERL']: YFPricesMissingError('$%ticker%: possibly delisted; No price data found  (1d 2010-01-01 00:00:00 -> 2024-07-01 00:00:00)')\n",
      "ERROR:root:Error stock data received. Aborting further operations.\n"
     ]
    },
    {
     "name": "stdout",
     "output_type": "stream",
     "text": [
      "$AEPI: possibly delisted; No price data found  (1d 2010-01-01 00:00:00 -> 2024-07-01 00:00:00)\n",
      "Failed to retrieve data for AEPI\n",
      "$AERL: possibly delisted; No price data found  (1d 2010-01-01 00:00:00 -> 2024-07-01 00:00:00)\n",
      "Failed to retrieve data for AERL\n"
     ]
    },
    {
     "name": "stderr",
     "output_type": "stream",
     "text": [
      "[*********************100%%**********************]  1 of 1 completed\n",
      "ERROR:yfinance:\n",
      "1 Failed download:\n",
      "ERROR:yfinance:['AETI']: YFTzMissingError('$%ticker%: possibly delisted; No timezone found')\n",
      "ERROR:root:Error stock data received. Aborting further operations.\n"
     ]
    },
    {
     "name": "stdout",
     "output_type": "stream",
     "text": [
      "Failed to retrieve data for AETI\n"
     ]
    },
    {
     "name": "stderr",
     "output_type": "stream",
     "text": [
      "[*********************100%%**********************]  1 of 1 completed\n",
      "ERROR:yfinance:\n",
      "1 Failed download:\n",
      "ERROR:yfinance:['AEY']: YFTzMissingError('$%ticker%: possibly delisted; No timezone found')\n",
      "ERROR:root:Error stock data received. Aborting further operations.\n"
     ]
    },
    {
     "name": "stdout",
     "output_type": "stream",
     "text": [
      "Failed to retrieve data for AEY\n"
     ]
    },
    {
     "name": "stderr",
     "output_type": "stream",
     "text": [
      "[*********************100%%**********************]  1 of 1 completed\n",
      "[*********************100%%**********************]  1 of 1 completed\n",
      "[*********************100%%**********************]  1 of 1 completed\n",
      "[*********************100%%**********************]  1 of 1 completed\n",
      "ERROR:yfinance:\n",
      "1 Failed download:\n",
      "ERROR:yfinance:['AFCE']: YFPricesMissingError('$%ticker%: possibly delisted; No price data found  (1d 2010-01-01 00:00:00 -> 2024-07-01 00:00:00)')\n",
      "ERROR:root:Error stock data received. Aborting further operations.\n",
      "[*********************100%%**********************]  1 of 1 completed\n",
      "ERROR:yfinance:\n",
      "1 Failed download:\n",
      "ERROR:yfinance:['AFFX']: YFPricesMissingError('$%ticker%: possibly delisted; No price data found  (1d 2010-01-01 00:00:00 -> 2024-07-01 00:00:00)')\n",
      "ERROR:root:Error stock data received. Aborting further operations.\n"
     ]
    },
    {
     "name": "stdout",
     "output_type": "stream",
     "text": [
      "$AFCE: possibly delisted; No price data found  (1d 2010-01-01 00:00:00 -> 2024-07-01 00:00:00)\n",
      "Failed to retrieve data for AFCE\n",
      "$AFFX: possibly delisted; No price data found  (1d 2010-01-01 00:00:00 -> 2024-07-01 00:00:00)\n",
      "Failed to retrieve data for AFFX\n"
     ]
    },
    {
     "name": "stderr",
     "output_type": "stream",
     "text": [
      "[*********************100%%**********************]  1 of 1 completed\n",
      "ERROR:yfinance:\n",
      "1 Failed download:\n",
      "ERROR:yfinance:['AFH']: YFTzMissingError('$%ticker%: possibly delisted; No timezone found')\n",
      "ERROR:root:Error stock data received. Aborting further operations.\n",
      "[*********************100%%**********************]  1 of 1 completed\n",
      "ERROR:yfinance:\n",
      "1 Failed download:\n",
      "ERROR:yfinance:['AFOP']: YFPricesMissingError('$%ticker%: possibly delisted; No price data found  (1d 2010-01-01 00:00:00 -> 2024-07-01 00:00:00)')\n",
      "ERROR:root:Error stock data received. Aborting further operations.\n"
     ]
    },
    {
     "name": "stdout",
     "output_type": "stream",
     "text": [
      "Failed to retrieve data for AFH\n",
      "$AFOP: possibly delisted; No price data found  (1d 2010-01-01 00:00:00 -> 2024-07-01 00:00:00)\n",
      "Failed to retrieve data for AFOP\n"
     ]
    },
    {
     "name": "stderr",
     "output_type": "stream",
     "text": [
      "[*********************100%%**********************]  1 of 1 completed\n",
      "[*********************100%%**********************]  1 of 1 completed\n",
      "[*********************100%%**********************]  1 of 1 completed\n",
      "ERROR:yfinance:\n",
      "1 Failed download:\n",
      "ERROR:yfinance:['AGII']: YFPricesMissingError('$%ticker%: possibly delisted; No price data found  (1d 2010-01-01 00:00:00 -> 2024-07-01 00:00:00)')\n",
      "ERROR:root:Error stock data received. Aborting further operations.\n"
     ]
    },
    {
     "name": "stdout",
     "output_type": "stream",
     "text": [
      "$AGII: possibly delisted; No price data found  (1d 2010-01-01 00:00:00 -> 2024-07-01 00:00:00)\n",
      "Failed to retrieve data for AGII\n"
     ]
    },
    {
     "name": "stderr",
     "output_type": "stream",
     "text": [
      "[*********************100%%**********************]  1 of 1 completed\n",
      "ERROR:yfinance:\n",
      "1 Failed download:\n",
      "ERROR:yfinance:['AGIIL']: YFTzMissingError('$%ticker%: possibly delisted; No timezone found')\n",
      "ERROR:root:Error stock data received. Aborting further operations.\n"
     ]
    },
    {
     "name": "stdout",
     "output_type": "stream",
     "text": [
      "Failed to retrieve data for AGIIL\n"
     ]
    },
    {
     "name": "stderr",
     "output_type": "stream",
     "text": [
      "[*********************100%%**********************]  1 of 1 completed\n",
      "[*********************100%%**********************]  1 of 1 completed\n",
      "[*********************100%%**********************]  1 of 1 completed\n",
      "[*********************100%%**********************]  1 of 1 completed\n",
      "[*********************100%%**********************]  1 of 1 completed\n",
      "[*********************100%%**********************]  1 of 1 completed\n",
      "ERROR:yfinance:\n",
      "1 Failed download:\n",
      "ERROR:yfinance:['AHPI']: YFInvalidPeriodError(\"%ticker%: Period 'max' is invalid, must be one of ['1d', '5d']\")\n",
      "ERROR:root:Error stock data received. Aborting further operations.\n"
     ]
    },
    {
     "name": "stdout",
     "output_type": "stream",
     "text": [
      "Failed to retrieve data for AHPI\n"
     ]
    },
    {
     "name": "stderr",
     "output_type": "stream",
     "text": [
      "[*********************100%%**********************]  1 of 1 completed\n",
      "ERROR:yfinance:\n",
      "1 Failed download:\n",
      "ERROR:yfinance:['AIMC']: YFTzMissingError('$%ticker%: possibly delisted; No timezone found')\n",
      "ERROR:root:Error stock data received. Aborting further operations.\n"
     ]
    },
    {
     "name": "stdout",
     "output_type": "stream",
     "text": [
      "Failed to retrieve data for AIMC\n"
     ]
    },
    {
     "name": "stderr",
     "output_type": "stream",
     "text": [
      "[*********************100%%**********************]  1 of 1 completed\n",
      "ERROR:yfinance:\n",
      "1 Failed download:\n",
      "ERROR:yfinance:['AINV']: YFTzMissingError('$%ticker%: possibly delisted; No timezone found')\n",
      "ERROR:root:Error stock data received. Aborting further operations.\n",
      "[*********************100%%**********************]  1 of 1 completed\n"
     ]
    },
    {
     "name": "stdout",
     "output_type": "stream",
     "text": [
      "Failed to retrieve data for AINV\n"
     ]
    },
    {
     "name": "stderr",
     "output_type": "stream",
     "text": [
      "[*********************100%%**********************]  1 of 1 completed\n",
      "ERROR:yfinance:\n",
      "1 Failed download:\n",
      "ERROR:yfinance:['AIRM']: YFPricesMissingError('$%ticker%: possibly delisted; No price data found  (1d 2010-01-01 00:00:00 -> 2024-07-01 00:00:00)')\n",
      "ERROR:root:Error stock data received. Aborting further operations.\n"
     ]
    },
    {
     "name": "stdout",
     "output_type": "stream",
     "text": [
      "$AIRM: possibly delisted; No price data found  (1d 2010-01-01 00:00:00 -> 2024-07-01 00:00:00)\n",
      "Failed to retrieve data for AIRM\n"
     ]
    },
    {
     "name": "stderr",
     "output_type": "stream",
     "text": [
      "[*********************100%%**********************]  1 of 1 completed\n",
      "[*********************100%%**********************]  1 of 1 completed\n",
      "ERROR:yfinance:\n",
      "1 Failed download:\n",
      "ERROR:yfinance:['AIXG']: YFPricesMissingError('$%ticker%: possibly delisted; No price data found  (1d 2010-01-01 00:00:00 -> 2024-07-01 00:00:00)')\n",
      "ERROR:root:Error stock data received. Aborting further operations.\n"
     ]
    },
    {
     "name": "stdout",
     "output_type": "stream",
     "text": [
      "$AIXG: possibly delisted; No price data found  (1d 2010-01-01 00:00:00 -> 2024-07-01 00:00:00)\n",
      "Failed to retrieve data for AIXG\n"
     ]
    },
    {
     "name": "stderr",
     "output_type": "stream",
     "text": [
      "[*********************100%%**********************]  1 of 1 completed\n",
      "[*********************100%%**********************]  1 of 1 completed\n",
      "ERROR:yfinance:\n",
      "1 Failed download:\n",
      "ERROR:yfinance:['AKRX']: YFTzMissingError('$%ticker%: possibly delisted; No timezone found')\n",
      "ERROR:root:Error stock data received. Aborting further operations.\n"
     ]
    },
    {
     "name": "stdout",
     "output_type": "stream",
     "text": [
      "Failed to retrieve data for AKRX\n"
     ]
    },
    {
     "name": "stderr",
     "output_type": "stream",
     "text": [
      "[*********************100%%**********************]  1 of 1 completed\n",
      "[*********************100%%**********************]  1 of 1 completed\n",
      "ERROR:yfinance:\n",
      "1 Failed download:\n",
      "ERROR:yfinance:['ALCS']: YFPricesMissingError('$%ticker%: possibly delisted; No price data found  (1d 2010-01-01 00:00:00 -> 2024-07-01 00:00:00)')\n",
      "ERROR:root:Error stock data received. Aborting further operations.\n"
     ]
    },
    {
     "name": "stdout",
     "output_type": "stream",
     "text": [
      "$ALCS: possibly delisted; No price data found  (1d 2010-01-01 00:00:00 -> 2024-07-01 00:00:00)\n",
      "Failed to retrieve data for ALCS\n"
     ]
    },
    {
     "name": "stderr",
     "output_type": "stream",
     "text": [
      "[*********************100%%**********************]  1 of 1 completed\n",
      "[*********************100%%**********************]  1 of 1 completed\n",
      "[*********************100%%**********************]  1 of 1 completed\n",
      "[*********************100%%**********************]  1 of 1 completed\n",
      "[*********************100%%**********************]  1 of 1 completed\n",
      "ERROR:yfinance:\n",
      "1 Failed download:\n",
      "ERROR:yfinance:['ALLB']: YFPricesMissingError('$%ticker%: possibly delisted; No price data found  (1d 2010-01-01 00:00:00 -> 2024-07-01 00:00:00)')\n",
      "ERROR:root:Error stock data received. Aborting further operations.\n"
     ]
    },
    {
     "name": "stdout",
     "output_type": "stream",
     "text": [
      "$ALLB: possibly delisted; No price data found  (1d 2010-01-01 00:00:00 -> 2024-07-01 00:00:00)\n",
      "Failed to retrieve data for ALLB\n"
     ]
    },
    {
     "name": "stderr",
     "output_type": "stream",
     "text": [
      "[*********************100%%**********************]  1 of 1 completed\n",
      "[*********************100%%**********************]  1 of 1 completed\n",
      "[*********************100%%**********************]  1 of 1 completed\n",
      "[*********************100%%**********************]  1 of 1 completed\n",
      "[*********************100%%**********************]  1 of 1 completed\n",
      "ERROR:yfinance:\n",
      "1 Failed download:\n",
      "ERROR:yfinance:['ALSK']: YFTzMissingError('$%ticker%: possibly delisted; No timezone found')\n",
      "ERROR:root:Error stock data received. Aborting further operations.\n",
      "[*********************100%%**********************]  1 of 1 completed\n"
     ]
    },
    {
     "name": "stdout",
     "output_type": "stream",
     "text": [
      "Failed to retrieve data for ALSK\n"
     ]
    },
    {
     "name": "stderr",
     "output_type": "stream",
     "text": [
      "[*********************100%%**********************]  1 of 1 completed\n",
      "[*********************100%%**********************]  1 of 1 completed\n",
      "[*********************100%%**********************]  1 of 1 completed\n",
      "ERROR:yfinance:\n",
      "1 Failed download:\n",
      "ERROR:yfinance:['ALXA']: YFPricesMissingError('$%ticker%: possibly delisted; No price data found  (1d 2010-01-01 00:00:00 -> 2024-07-01 00:00:00)')\n",
      "ERROR:root:Error stock data received. Aborting further operations.\n"
     ]
    },
    {
     "name": "stdout",
     "output_type": "stream",
     "text": [
      "$ALXA: possibly delisted; No price data found  (1d 2010-01-01 00:00:00 -> 2024-07-01 00:00:00)\n",
      "Failed to retrieve data for ALXA\n"
     ]
    },
    {
     "name": "stderr",
     "output_type": "stream",
     "text": [
      "[*********************100%%**********************]  1 of 1 completed\n",
      "ERROR:yfinance:\n",
      "1 Failed download:\n",
      "ERROR:yfinance:['ALXN']: YFTzMissingError('$%ticker%: possibly delisted; No timezone found')\n",
      "ERROR:root:Error stock data received. Aborting further operations.\n"
     ]
    },
    {
     "name": "stdout",
     "output_type": "stream",
     "text": [
      "Failed to retrieve data for ALXN\n"
     ]
    },
    {
     "name": "stderr",
     "output_type": "stream",
     "text": [
      "[*********************100%%**********************]  1 of 1 completed\n",
      "ERROR:yfinance:\n",
      "1 Failed download:\n",
      "ERROR:yfinance:['AMAG']: YFTzMissingError('$%ticker%: possibly delisted; No timezone found')\n",
      "ERROR:root:Error stock data received. Aborting further operations.\n",
      "[*********************100%%**********************]  1 of 1 completed\n",
      "ERROR:yfinance:\n",
      "1 Failed download:\n",
      "ERROR:yfinance:['AMAP']: YFPricesMissingError('$%ticker%: possibly delisted; No price data found  (1d 2010-01-01 00:00:00 -> 2024-07-01 00:00:00)')\n",
      "ERROR:root:Error stock data received. Aborting further operations.\n"
     ]
    },
    {
     "name": "stdout",
     "output_type": "stream",
     "text": [
      "Failed to retrieve data for AMAG\n",
      "$AMAP: possibly delisted; No price data found  (1d 2010-01-01 00:00:00 -> 2024-07-01 00:00:00)\n",
      "Failed to retrieve data for AMAP\n"
     ]
    },
    {
     "name": "stderr",
     "output_type": "stream",
     "text": [
      "[*********************100%%**********************]  1 of 1 completed\n",
      "[*********************100%%**********************]  1 of 1 completed\n",
      "[*********************100%%**********************]  1 of 1 completed\n",
      "[*********************100%%**********************]  1 of 1 completed\n",
      "ERROR:yfinance:\n",
      "1 Failed download:\n",
      "ERROR:yfinance:['AMBCW']: YFTzMissingError('$%ticker%: possibly delisted; No timezone found')\n",
      "ERROR:root:Error stock data received. Aborting further operations.\n",
      "[*********************100%%**********************]  1 of 1 completed\n"
     ]
    },
    {
     "name": "stdout",
     "output_type": "stream",
     "text": [
      "Failed to retrieve data for AMBCW\n"
     ]
    },
    {
     "name": "stderr",
     "output_type": "stream",
     "text": [
      "[*********************100%%**********************]  1 of 1 completed\n",
      "ERROR:yfinance:\n",
      "1 Failed download:\n",
      "ERROR:yfinance:['AMBT']: YFPricesMissingError('$%ticker%: possibly delisted; No price data found  (1d 2010-01-01 00:00:00 -> 2024-07-01 00:00:00)')\n",
      "ERROR:root:Error stock data received. Aborting further operations.\n",
      "[*********************100%%**********************]  1 of 1 completed\n",
      "ERROR:yfinance:\n",
      "1 Failed download:\n",
      "ERROR:yfinance:['AMCC']: YFPricesMissingError('$%ticker%: possibly delisted; No price data found  (1d 2010-01-01 00:00:00 -> 2024-07-01 00:00:00)')\n",
      "ERROR:root:Error stock data received. Aborting further operations.\n"
     ]
    },
    {
     "name": "stdout",
     "output_type": "stream",
     "text": [
      "$AMBT: possibly delisted; No price data found  (1d 2010-01-01 00:00:00 -> 2024-07-01 00:00:00)\n",
      "Failed to retrieve data for AMBT\n",
      "$AMCC: possibly delisted; No price data found  (1d 2010-01-01 00:00:00 -> 2024-07-01 00:00:00)\n",
      "Failed to retrieve data for AMCC\n"
     ]
    },
    {
     "name": "stderr",
     "output_type": "stream",
     "text": [
      "[*********************100%%**********************]  1 of 1 completed\n",
      "[*********************100%%**********************]  1 of 1 completed\n",
      "ERROR:yfinance:\n",
      "1 Failed download:\n",
      "ERROR:yfinance:['AMCN']: YFTzMissingError('$%ticker%: possibly delisted; No timezone found')\n",
      "ERROR:root:Error stock data received. Aborting further operations.\n"
     ]
    },
    {
     "name": "stdout",
     "output_type": "stream",
     "text": [
      "Failed to retrieve data for AMCN\n"
     ]
    },
    {
     "name": "stderr",
     "output_type": "stream",
     "text": [
      "[*********************100%%**********************]  1 of 1 completed\n",
      "[*********************100%%**********************]  1 of 1 completed\n",
      "[*********************100%%**********************]  1 of 1 completed\n",
      "[*********************100%%**********************]  1 of 1 completed\n",
      "ERROR:yfinance:\n",
      "1 Failed download:\n",
      "ERROR:yfinance:['AMIC']: YFPricesMissingError('$%ticker%: possibly delisted; No price data found  (1d 2010-01-01 00:00:00 -> 2024-07-01 00:00:00)')\n",
      "ERROR:root:Error stock data received. Aborting further operations.\n"
     ]
    },
    {
     "name": "stdout",
     "output_type": "stream",
     "text": [
      "$AMIC: possibly delisted; No price data found  (1d 2010-01-01 00:00:00 -> 2024-07-01 00:00:00)\n",
      "Failed to retrieve data for AMIC\n"
     ]
    },
    {
     "name": "stderr",
     "output_type": "stream",
     "text": [
      "[*********************100%%**********************]  1 of 1 completed\n",
      "[*********************100%%**********************]  1 of 1 completed\n",
      "ERROR:yfinance:\n",
      "1 Failed download:\n",
      "ERROR:yfinance:['AMNB']: YFTzMissingError('$%ticker%: possibly delisted; No timezone found')\n",
      "ERROR:root:Error stock data received. Aborting further operations.\n"
     ]
    },
    {
     "name": "stdout",
     "output_type": "stream",
     "text": [
      "Failed to retrieve data for AMNB\n"
     ]
    },
    {
     "name": "stderr",
     "output_type": "stream",
     "text": [
      "[*********************100%%**********************]  1 of 1 completed\n",
      "ERROR:yfinance:\n",
      "1 Failed download:\n",
      "ERROR:yfinance:['AMOT']: YFTzMissingError('$%ticker%: possibly delisted; No timezone found')\n",
      "ERROR:root:Error stock data received. Aborting further operations.\n"
     ]
    },
    {
     "name": "stdout",
     "output_type": "stream",
     "text": [
      "Failed to retrieve data for AMOT\n"
     ]
    },
    {
     "name": "stderr",
     "output_type": "stream",
     "text": [
      "[*********************100%%**********************]  1 of 1 completed\n",
      "ERROR:yfinance:\n",
      "1 Failed download:\n",
      "ERROR:yfinance:['AMOV']: YFTzMissingError('$%ticker%: possibly delisted; No timezone found')\n",
      "ERROR:root:Error stock data received. Aborting further operations.\n"
     ]
    },
    {
     "name": "stdout",
     "output_type": "stream",
     "text": [
      "Failed to retrieve data for AMOV\n"
     ]
    },
    {
     "name": "stderr",
     "output_type": "stream",
     "text": [
      "[*********************100%%**********************]  1 of 1 completed\n",
      "ERROR:yfinance:\n",
      "1 Failed download:\n",
      "ERROR:yfinance:['AMRB']: YFTzMissingError('$%ticker%: possibly delisted; No timezone found')\n",
      "ERROR:root:Error stock data received. Aborting further operations.\n",
      "[*********************100%%**********************]  1 of 1 completed\n",
      "ERROR:yfinance:\n",
      "1 Failed download:\n",
      "ERROR:yfinance:['AMRI']: YFPricesMissingError('$%ticker%: possibly delisted; No price data found  (1d 2010-01-01 00:00:00 -> 2024-07-01 00:00:00)')\n",
      "ERROR:root:Error stock data received. Aborting further operations.\n"
     ]
    },
    {
     "name": "stdout",
     "output_type": "stream",
     "text": [
      "Failed to retrieve data for AMRB\n",
      "$AMRI: possibly delisted; No price data found  (1d 2010-01-01 00:00:00 -> 2024-07-01 00:00:00)\n",
      "Failed to retrieve data for AMRI\n"
     ]
    },
    {
     "name": "stderr",
     "output_type": "stream",
     "text": [
      "[*********************100%%**********************]  1 of 1 completed\n",
      "[*********************100%%**********************]  1 of 1 completed\n",
      "ERROR:yfinance:\n",
      "1 Failed download:\n",
      "ERROR:yfinance:['AMRS']: YFInvalidPeriodError(\"%ticker%: Period 'max' is invalid, must be one of ['1d', '5d']\")\n",
      "ERROR:root:Error stock data received. Aborting further operations.\n"
     ]
    },
    {
     "name": "stdout",
     "output_type": "stream",
     "text": [
      "Failed to retrieve data for AMRS\n"
     ]
    },
    {
     "name": "stderr",
     "output_type": "stream",
     "text": [
      "[*********************100%%**********************]  1 of 1 completed\n",
      "[*********************100%%**********************]  1 of 1 completed\n",
      "[*********************100%%**********************]  1 of 1 completed\n",
      "ERROR:yfinance:\n",
      "1 Failed download:\n",
      "ERROR:yfinance:['AMSG']: YFPricesMissingError('$%ticker%: possibly delisted; No price data found  (1d 2010-01-01 00:00:00 -> 2024-07-01 00:00:00)')\n",
      "ERROR:root:Error stock data received. Aborting further operations.\n"
     ]
    },
    {
     "name": "stdout",
     "output_type": "stream",
     "text": [
      "$AMSG: possibly delisted; No price data found  (1d 2010-01-01 00:00:00 -> 2024-07-01 00:00:00)\n",
      "Failed to retrieve data for AMSG\n"
     ]
    },
    {
     "name": "stderr",
     "output_type": "stream",
     "text": [
      "[*********************100%%**********************]  1 of 1 completed\n",
      "[*********************100%%**********************]  1 of 1 completed\n",
      "[*********************100%%**********************]  1 of 1 completed\n",
      "[*********************100%%**********************]  1 of 1 completed\n",
      "ERROR:yfinance:\n",
      "1 Failed download:\n",
      "ERROR:yfinance:['ANAC']: YFTzMissingError('$%ticker%: possibly delisted; No timezone found')\n",
      "ERROR:root:Error stock data received. Aborting further operations.\n",
      "[*********************100%%**********************]  1 of 1 completed\n",
      "ERROR:yfinance:\n",
      "1 Failed download:\n",
      "ERROR:yfinance:['ANAD']: YFPricesMissingError('$%ticker%: possibly delisted; No price data found  (1d 2010-01-01 00:00:00 -> 2024-07-01 00:00:00)')\n",
      "ERROR:root:Error stock data received. Aborting further operations.\n"
     ]
    },
    {
     "name": "stdout",
     "output_type": "stream",
     "text": [
      "Failed to retrieve data for ANAC\n",
      "$ANAD: possibly delisted; No price data found  (1d 2010-01-01 00:00:00 -> 2024-07-01 00:00:00)\n",
      "Failed to retrieve data for ANAD\n"
     ]
    },
    {
     "name": "stderr",
     "output_type": "stream",
     "text": [
      "[*********************100%%**********************]  1 of 1 completed\n",
      "ERROR:yfinance:\n",
      "1 Failed download:\n",
      "ERROR:yfinance:['ANAT']: YFTzMissingError('$%ticker%: possibly delisted; No timezone found')\n",
      "ERROR:root:Error stock data received. Aborting further operations.\n"
     ]
    },
    {
     "name": "stdout",
     "output_type": "stream",
     "text": [
      "Failed to retrieve data for ANAT\n"
     ]
    },
    {
     "name": "stderr",
     "output_type": "stream",
     "text": [
      "[*********************100%%**********************]  1 of 1 completed\n",
      "[*********************100%%**********************]  1 of 1 completed\n",
      "ERROR:yfinance:\n",
      "1 Failed download:\n",
      "ERROR:yfinance:['ANCI']: YFPricesMissingError('$%ticker%: possibly delisted; No price data found  (1d 2010-01-01 00:00:00 -> 2024-07-01 00:00:00)')\n",
      "ERROR:root:Error stock data received. Aborting further operations.\n",
      "[*********************100%%**********************]  1 of 1 completed"
     ]
    },
    {
     "name": "stdout",
     "output_type": "stream",
     "text": [
      "$ANCI: possibly delisted; No price data found  (1d 2010-01-01 00:00:00 -> 2024-07-01 00:00:00)\n",
      "Failed to retrieve data for ANCI\n"
     ]
    },
    {
     "name": "stderr",
     "output_type": "stream",
     "text": [
      "\n",
      "[*********************100%%**********************]  1 of 1 completed\n",
      "ERROR:yfinance:\n",
      "1 Failed download:\n",
      "ERROR:yfinance:['ANDA']: YFTzMissingError('$%ticker%: possibly delisted; No timezone found')\n",
      "ERROR:root:Error stock data received. Aborting further operations.\n"
     ]
    },
    {
     "name": "stdout",
     "output_type": "stream",
     "text": [
      "Failed to retrieve data for ANDA\n"
     ]
    },
    {
     "name": "stderr",
     "output_type": "stream",
     "text": [
      "[*********************100%%**********************]  1 of 1 completed\n",
      "ERROR:yfinance:\n",
      "1 Failed download:\n",
      "ERROR:yfinance:['ANDAU']: YFTzMissingError('$%ticker%: possibly delisted; No timezone found')\n",
      "ERROR:root:Error stock data received. Aborting further operations.\n"
     ]
    },
    {
     "name": "stdout",
     "output_type": "stream",
     "text": [
      "Failed to retrieve data for ANDAU\n"
     ]
    },
    {
     "name": "stderr",
     "output_type": "stream",
     "text": [
      "[*********************100%%**********************]  1 of 1 completed\n",
      "ERROR:yfinance:\n",
      "1 Failed download:\n",
      "ERROR:yfinance:['ANDAW']: YFTzMissingError('$%ticker%: possibly delisted; No timezone found')\n",
      "ERROR:root:Error stock data received. Aborting further operations.\n",
      "[*********************100%%**********************]  1 of 1 completed\n",
      "ERROR:yfinance:\n",
      "1 Failed download:\n",
      "ERROR:yfinance:['ANEN']: YFPricesMissingError('$%ticker%: possibly delisted; No price data found  (1d 2010-01-01 00:00:00 -> 2024-07-01 00:00:00)')\n",
      "ERROR:root:Error stock data received. Aborting further operations.\n"
     ]
    },
    {
     "name": "stdout",
     "output_type": "stream",
     "text": [
      "Failed to retrieve data for ANDAW\n",
      "$ANEN: possibly delisted; No price data found  (1d 2010-01-01 00:00:00 -> 2024-07-01 00:00:00)\n",
      "Failed to retrieve data for ANEN\n"
     ]
    },
    {
     "name": "stderr",
     "output_type": "stream",
     "text": [
      "[*********************100%%**********************]  1 of 1 completed\n",
      "[*********************100%%**********************]  1 of 1 completed\n",
      "[*********************100%%**********************]  1 of 1 completed\n",
      "[*********************100%%**********************]  1 of 1 completed\n",
      "[*********************100%%**********************]  1 of 1 completed\n",
      "ERROR:yfinance:\n",
      "1 Failed download:\n",
      "ERROR:yfinance:['ANLY']: YFPricesMissingError('$%ticker%: possibly delisted; No price data found  (1d 2010-01-01 00:00:00 -> 2024-07-01 00:00:00)')\n",
      "ERROR:root:Error stock data received. Aborting further operations.\n"
     ]
    },
    {
     "name": "stdout",
     "output_type": "stream",
     "text": [
      "$ANLY: possibly delisted; No price data found  (1d 2010-01-01 00:00:00 -> 2024-07-01 00:00:00)\n",
      "Failed to retrieve data for ANLY\n"
     ]
    },
    {
     "name": "stderr",
     "output_type": "stream",
     "text": [
      "[*********************100%%**********************]  1 of 1 completed\n",
      "[*********************100%%**********************]  1 of 1 completed\n",
      "[*********************100%%**********************]  1 of 1 completed\n",
      "[*********************100%%**********************]  1 of 1 completed\n",
      "ERROR:yfinance:\n",
      "1 Failed download:\n",
      "ERROR:yfinance:['APAGF']: YFPricesMissingError('$%ticker%: possibly delisted; No price data found  (1d 2010-01-01 00:00:00 -> 2024-07-01 00:00:00)')\n",
      "ERROR:root:Error stock data received. Aborting further operations.\n"
     ]
    },
    {
     "name": "stdout",
     "output_type": "stream",
     "text": [
      "$APAGF: possibly delisted; No price data found  (1d 2010-01-01 00:00:00 -> 2024-07-01 00:00:00)\n",
      "Failed to retrieve data for APAGF\n"
     ]
    },
    {
     "name": "stderr",
     "output_type": "stream",
     "text": [
      "[*********************100%%**********************]  1 of 1 completed\n",
      "[*********************100%%**********************]  1 of 1 completed\n",
      "ERROR:yfinance:\n",
      "1 Failed download:\n",
      "ERROR:yfinance:['APFC']: YFPricesMissingError('$%ticker%: possibly delisted; No price data found  (1d 2010-01-01 00:00:00 -> 2024-07-01 00:00:00)')\n",
      "ERROR:root:Error stock data received. Aborting further operations.\n"
     ]
    },
    {
     "name": "stdout",
     "output_type": "stream",
     "text": [
      "$APFC: possibly delisted; No price data found  (1d 2010-01-01 00:00:00 -> 2024-07-01 00:00:00)\n",
      "Failed to retrieve data for APFC\n"
     ]
    },
    {
     "name": "stderr",
     "output_type": "stream",
     "text": [
      "[*********************100%%**********************]  1 of 1 completed\n",
      "[*********************100%%**********************]  1 of 1 completed\n",
      "ERROR:yfinance:\n",
      "1 Failed download:\n",
      "ERROR:yfinance:['APOL']: YFPricesMissingError('$%ticker%: possibly delisted; No price data found  (1d 2010-01-01 00:00:00 -> 2024-07-01 00:00:00)')\n",
      "ERROR:root:Error stock data received. Aborting further operations.\n",
      "[*********************100%%**********************]  1 of 1 completed\n",
      "ERROR:yfinance:\n",
      "1 Failed download:\n",
      "ERROR:yfinance:['APPY']: YFPricesMissingError('$%ticker%: possibly delisted; No price data found  (1d 2010-01-01 00:00:00 -> 2024-07-01 00:00:00)')\n",
      "ERROR:root:Error stock data received. Aborting further operations.\n",
      "[*********************100%%**********************]  1 of 1 completed\n",
      "ERROR:yfinance:\n",
      "1 Failed download:\n",
      "ERROR:yfinance:['APRI']: YFPricesMissingError('$%ticker%: possibly delisted; No price data found  (1d 2010-01-01 00:00:00 -> 2024-07-01 00:00:00)')\n",
      "ERROR:root:Error stock data received. Aborting further operations.\n"
     ]
    },
    {
     "name": "stdout",
     "output_type": "stream",
     "text": [
      "$APOL: possibly delisted; No price data found  (1d 2010-01-01 00:00:00 -> 2024-07-01 00:00:00)\n",
      "Failed to retrieve data for APOL\n",
      "$APPY: possibly delisted; No price data found  (1d 2010-01-01 00:00:00 -> 2024-07-01 00:00:00)\n",
      "Failed to retrieve data for APPY\n",
      "$APRI: possibly delisted; No price data found  (1d 2010-01-01 00:00:00 -> 2024-07-01 00:00:00)\n",
      "Failed to retrieve data for APRI\n"
     ]
    },
    {
     "name": "stderr",
     "output_type": "stream",
     "text": [
      "[*********************100%%**********************]  1 of 1 completed\n",
      "ERROR:yfinance:\n",
      "1 Failed download:\n",
      "ERROR:yfinance:['APSA']: YFPricesMissingError('$%ticker%: possibly delisted; No price data found  (1d 2010-01-01 00:00:00 -> 2024-07-01 00:00:00)')\n",
      "ERROR:root:Error stock data received. Aborting further operations.\n"
     ]
    },
    {
     "name": "stdout",
     "output_type": "stream",
     "text": [
      "$APSA: possibly delisted; No price data found  (1d 2010-01-01 00:00:00 -> 2024-07-01 00:00:00)\n",
      "Failed to retrieve data for APSA\n"
     ]
    },
    {
     "name": "stderr",
     "output_type": "stream",
     "text": [
      "[*********************100%%**********************]  1 of 1 completed\n",
      "[*********************100%%**********************]  1 of 1 completed\n",
      "[*********************100%%**********************]  1 of 1 completed\n",
      "ERROR:yfinance:\n",
      "1 Failed download:\n",
      "ERROR:yfinance:['AQUUU']: YFTzMissingError('$%ticker%: possibly delisted; No timezone found')\n",
      "ERROR:root:Error stock data received. Aborting further operations.\n"
     ]
    },
    {
     "name": "stdout",
     "output_type": "stream",
     "text": [
      "Failed to retrieve data for AQUUU\n"
     ]
    },
    {
     "name": "stderr",
     "output_type": "stream",
     "text": [
      "[*********************100%%**********************]  1 of 1 completed\n",
      "ERROR:yfinance:\n",
      "1 Failed download:\n",
      "ERROR:yfinance:['AQUUW']: YFTzMissingError('$%ticker%: possibly delisted; No timezone found')\n",
      "ERROR:root:Error stock data received. Aborting further operations.\n"
     ]
    },
    {
     "name": "stdout",
     "output_type": "stream",
     "text": [
      "Failed to retrieve data for AQUUW\n"
     ]
    },
    {
     "name": "stderr",
     "output_type": "stream",
     "text": [
      "[*********************100%%**********************]  1 of 1 completed\n",
      "[*********************100%%**********************]  1 of 1 completed\n",
      "[*********************100%%**********************]  1 of 1 completed\n",
      "ERROR:yfinance:\n",
      "1 Failed download:\n",
      "ERROR:yfinance:['ARCI']: YFTzMissingError('$%ticker%: possibly delisted; No timezone found')\n",
      "ERROR:root:Error stock data received. Aborting further operations.\n",
      "[*********************100%%**********************]  1 of 1 completed\n",
      "ERROR:yfinance:\n",
      "1 Failed download:\n",
      "ERROR:yfinance:['ARCP']: YFPricesMissingError('$%ticker%: possibly delisted; No price data found  (1d 2010-01-01 00:00:00 -> 2024-07-01 00:00:00)')\n",
      "ERROR:root:Error stock data received. Aborting further operations.\n"
     ]
    },
    {
     "name": "stdout",
     "output_type": "stream",
     "text": [
      "Failed to retrieve data for ARCI\n",
      "$ARCP: possibly delisted; No price data found  (1d 2010-01-01 00:00:00 -> 2024-07-01 00:00:00)\n",
      "Failed to retrieve data for ARCP\n"
     ]
    },
    {
     "name": "stderr",
     "output_type": "stream",
     "text": [
      "[*********************100%%**********************]  1 of 1 completed\n",
      "ERROR:yfinance:\n",
      "1 Failed download:\n",
      "ERROR:yfinance:['ARCW']: YFTzMissingError('$%ticker%: possibly delisted; No timezone found')\n",
      "ERROR:root:Error stock data received. Aborting further operations.\n",
      "[*********************100%%**********************]  1 of 1 completed\n",
      "ERROR:yfinance:\n",
      "1 Failed download:\n",
      "ERROR:yfinance:['ARDNA']: YFPricesMissingError('$%ticker%: possibly delisted; No price data found  (1d 2010-01-01 00:00:00 -> 2024-07-01 00:00:00)')\n",
      "ERROR:root:Error stock data received. Aborting further operations.\n"
     ]
    },
    {
     "name": "stdout",
     "output_type": "stream",
     "text": [
      "Failed to retrieve data for ARCW\n",
      "$ARDNA: possibly delisted; No price data found  (1d 2010-01-01 00:00:00 -> 2024-07-01 00:00:00)\n",
      "Failed to retrieve data for ARDNA\n"
     ]
    },
    {
     "name": "stderr",
     "output_type": "stream",
     "text": [
      "[*********************100%%**********************]  1 of 1 completed\n",
      "ERROR:yfinance:\n",
      "1 Failed download:\n",
      "ERROR:yfinance:['AREX']: YFTzMissingError('$%ticker%: possibly delisted; No timezone found')\n",
      "ERROR:root:Error stock data received. Aborting further operations.\n",
      "[*********************100%%**********************]  1 of 1 completed\n",
      "ERROR:yfinance:\n",
      "1 Failed download:\n",
      "ERROR:yfinance:['ARIA']: YFPricesMissingError('$%ticker%: possibly delisted; No price data found  (1d 2010-01-01 00:00:00 -> 2024-07-01 00:00:00)')\n",
      "ERROR:root:Error stock data received. Aborting further operations.\n"
     ]
    },
    {
     "name": "stdout",
     "output_type": "stream",
     "text": [
      "Failed to retrieve data for AREX\n",
      "$ARIA: possibly delisted; No price data found  (1d 2010-01-01 00:00:00 -> 2024-07-01 00:00:00)\n",
      "Failed to retrieve data for ARIA\n"
     ]
    },
    {
     "name": "stderr",
     "output_type": "stream",
     "text": [
      "[*********************100%%**********************]  1 of 1 completed\n",
      "[*********************100%%**********************]  1 of 1 completed\n",
      "[*********************100%%**********************]  1 of 1 completed\n",
      "[*********************100%%**********************]  1 of 1 completed\n",
      "ERROR:yfinance:\n",
      "1 Failed download:\n",
      "ERROR:yfinance:['ARMH']: YFPricesMissingError('$%ticker%: possibly delisted; No price data found  (1d 2010-01-01 00:00:00 -> 2024-07-01 00:00:00)')\n",
      "ERROR:root:Error stock data received. Aborting further operations.\n"
     ]
    },
    {
     "name": "stdout",
     "output_type": "stream",
     "text": [
      "$ARMH: possibly delisted; No price data found  (1d 2010-01-01 00:00:00 -> 2024-07-01 00:00:00)\n",
      "Failed to retrieve data for ARMH\n"
     ]
    },
    {
     "name": "stderr",
     "output_type": "stream",
     "text": [
      "[*********************100%%**********************]  1 of 1 completed\n",
      "ERROR:yfinance:\n",
      "1 Failed download:\n",
      "ERROR:yfinance:['ARNA']: YFTzMissingError('$%ticker%: possibly delisted; No timezone found')\n",
      "ERROR:root:Error stock data received. Aborting further operations.\n"
     ]
    },
    {
     "name": "stdout",
     "output_type": "stream",
     "text": [
      "Failed to retrieve data for ARNA\n"
     ]
    },
    {
     "name": "stderr",
     "output_type": "stream",
     "text": [
      "[*********************100%%**********************]  1 of 1 completed\n",
      "[*********************100%%**********************]  1 of 1 completed\n",
      "ERROR:yfinance:\n",
      "1 Failed download:\n",
      "ERROR:yfinance:['ARQL']: YFTzMissingError('$%ticker%: possibly delisted; No timezone found')\n",
      "ERROR:root:Error stock data received. Aborting further operations.\n"
     ]
    },
    {
     "name": "stdout",
     "output_type": "stream",
     "text": [
      "Failed to retrieve data for ARQL\n"
     ]
    },
    {
     "name": "stderr",
     "output_type": "stream",
     "text": [
      "[*********************100%%**********************]  1 of 1 completed\n",
      "ERROR:yfinance:\n",
      "1 Failed download:\n",
      "ERROR:yfinance:['ARRS']: YFTzMissingError('$%ticker%: possibly delisted; No timezone found')\n",
      "ERROR:root:Error stock data received. Aborting further operations.\n",
      "[*********************100%%**********************]  1 of 1 completed\n"
     ]
    },
    {
     "name": "stdout",
     "output_type": "stream",
     "text": [
      "Failed to retrieve data for ARRS\n"
     ]
    },
    {
     "name": "stderr",
     "output_type": "stream",
     "text": [
      "[*********************100%%**********************]  1 of 1 completed\n",
      "ERROR:yfinance:\n",
      "1 Failed download:\n",
      "ERROR:yfinance:['ARTC']: YFPricesMissingError('$%ticker%: possibly delisted; No price data found  (1d 2010-01-01 00:00:00 -> 2024-07-01 00:00:00)')\n",
      "ERROR:root:Error stock data received. Aborting further operations.\n"
     ]
    },
    {
     "name": "stdout",
     "output_type": "stream",
     "text": [
      "$ARTC: possibly delisted; No price data found  (1d 2010-01-01 00:00:00 -> 2024-07-01 00:00:00)\n",
      "Failed to retrieve data for ARTC\n"
     ]
    },
    {
     "name": "stderr",
     "output_type": "stream",
     "text": [
      "[*********************100%%**********************]  1 of 1 completed\n",
      "[*********************100%%**********************]  1 of 1 completed\n",
      "[*********************100%%**********************]  1 of 1 completed\n",
      "ERROR:yfinance:\n",
      "1 Failed download:\n",
      "ERROR:yfinance:['ARTX']: YFTzMissingError('$%ticker%: possibly delisted; No timezone found')\n",
      "ERROR:root:Error stock data received. Aborting further operations.\n",
      "[*********************100%%**********************]  1 of 1 completed\n",
      "ERROR:yfinance:\n",
      "1 Failed download:\n",
      "ERROR:yfinance:['ARUN']: YFPricesMissingError('$%ticker%: possibly delisted; No price data found  (1d 2010-01-01 00:00:00 -> 2024-07-01 00:00:00)')\n",
      "ERROR:root:Error stock data received. Aborting further operations.\n"
     ]
    },
    {
     "name": "stdout",
     "output_type": "stream",
     "text": [
      "Failed to retrieve data for ARTX\n",
      "$ARUN: possibly delisted; No price data found  (1d 2010-01-01 00:00:00 -> 2024-07-01 00:00:00)\n",
      "Failed to retrieve data for ARUN\n"
     ]
    },
    {
     "name": "stderr",
     "output_type": "stream",
     "text": [
      "[*********************100%%**********************]  1 of 1 completed\n",
      "[*********************100%%**********************]  1 of 1 completed\n",
      "ERROR:yfinance:\n",
      "1 Failed download:\n",
      "ERROR:yfinance:['ASBB']: YFPricesMissingError('$%ticker%: possibly delisted; No price data found  (1d 2010-01-01 00:00:00 -> 2024-07-01 00:00:00)')\n",
      "ERROR:root:Error stock data received. Aborting further operations.\n",
      "[*********************100%%**********************]  1 of 1 completed\n",
      "ERROR:yfinance:\n",
      "1 Failed download:\n",
      "ERROR:yfinance:['ASBC']: YFPricesMissingError('$%ticker%: possibly delisted; No price data found  (1d 2010-01-01 00:00:00 -> 2024-07-01 00:00:00)')\n",
      "ERROR:root:Error stock data received. Aborting further operations.\n",
      "[*********************100%%**********************]  1 of 1 completed\n",
      "ERROR:yfinance:\n",
      "1 Failed download:\n",
      "ERROR:yfinance:['ASBCW']: YFInvalidPeriodError(\"%ticker%: Period 'max' is invalid, must be one of ['1d', '5d']\")\n",
      "ERROR:root:Error stock data received. Aborting further operations.\n"
     ]
    },
    {
     "name": "stdout",
     "output_type": "stream",
     "text": [
      "$ASBB: possibly delisted; No price data found  (1d 2010-01-01 00:00:00 -> 2024-07-01 00:00:00)\n",
      "Failed to retrieve data for ASBB\n",
      "$ASBC: possibly delisted; No price data found  (1d 2010-01-01 00:00:00 -> 2024-07-01 00:00:00)\n",
      "Failed to retrieve data for ASBC\n",
      "Failed to retrieve data for ASBCW\n"
     ]
    },
    {
     "name": "stderr",
     "output_type": "stream",
     "text": [
      "[*********************100%%**********************]  1 of 1 completed\n",
      "ERROR:yfinance:\n",
      "1 Failed download:\n",
      "ERROR:yfinance:['ASBI']: YFPricesMissingError('$%ticker%: possibly delisted; No price data found  (1d 2010-01-01 00:00:00 -> 2024-07-01 00:00:00)')\n",
      "ERROR:root:Error stock data received. Aborting further operations.\n"
     ]
    },
    {
     "name": "stdout",
     "output_type": "stream",
     "text": [
      "$ASBI: possibly delisted; No price data found  (1d 2010-01-01 00:00:00 -> 2024-07-01 00:00:00)\n",
      "Failed to retrieve data for ASBI\n"
     ]
    },
    {
     "name": "stderr",
     "output_type": "stream",
     "text": [
      "[*********************100%%**********************]  1 of 1 completed\n",
      "ERROR:yfinance:\n",
      "1 Failed download:\n",
      "ERROR:yfinance:['ASCA']: YFTzMissingError('$%ticker%: possibly delisted; No timezone found')\n",
      "ERROR:root:Error stock data received. Aborting further operations.\n"
     ]
    },
    {
     "name": "stdout",
     "output_type": "stream",
     "text": [
      "Failed to retrieve data for ASCA\n"
     ]
    },
    {
     "name": "stderr",
     "output_type": "stream",
     "text": [
      "[*********************100%%**********************]  1 of 1 completed\n",
      "ERROR:yfinance:\n",
      "1 Failed download:\n",
      "ERROR:yfinance:['ASCMA']: YFTzMissingError('$%ticker%: possibly delisted; No timezone found')\n",
      "ERROR:root:Error stock data received. Aborting further operations.\n",
      "[*********************100%%**********************]  1 of 1 completed\n",
      "ERROR:yfinance:\n",
      "1 Failed download:\n",
      "ERROR:yfinance:['ASEI']: YFPricesMissingError('$%ticker%: possibly delisted; No price data found  (1d 2010-01-01 00:00:00 -> 2024-07-01 00:00:00)')\n",
      "ERROR:root:Error stock data received. Aborting further operations.\n"
     ]
    },
    {
     "name": "stdout",
     "output_type": "stream",
     "text": [
      "Failed to retrieve data for ASCMA\n",
      "$ASEI: possibly delisted; No price data found  (1d 2010-01-01 00:00:00 -> 2024-07-01 00:00:00)\n",
      "Failed to retrieve data for ASEI\n"
     ]
    },
    {
     "name": "stderr",
     "output_type": "stream",
     "text": [
      "[*********************100%%**********************]  1 of 1 completed\n",
      "ERROR:yfinance:\n",
      "1 Failed download:\n",
      "ERROR:yfinance:['ASFI']: YFTzMissingError('$%ticker%: possibly delisted; No timezone found')\n",
      "ERROR:root:Error stock data received. Aborting further operations.\n",
      "[*********************100%%**********************]  1 of 1 completed\n"
     ]
    },
    {
     "name": "stdout",
     "output_type": "stream",
     "text": [
      "Failed to retrieve data for ASFI\n",
      "$ASMI: possibly delisted; No price data found  (1d 2010-01-01 00:00:00 -> 2024-07-01 00:00:00)\n"
     ]
    },
    {
     "name": "stderr",
     "output_type": "stream",
     "text": [
      "[*********************100%%**********************]  1 of 1 completed\n",
      "ERROR:yfinance:\n",
      "1 Failed download:\n",
      "ERROR:yfinance:['ASMI']: YFPricesMissingError('$%ticker%: possibly delisted; No price data found  (1d 2010-01-01 00:00:00 -> 2024-07-01 00:00:00)')\n",
      "ERROR:root:Error stock data received. Aborting further operations.\n"
     ]
    },
    {
     "name": "stdout",
     "output_type": "stream",
     "text": [
      "Failed to retrieve data for ASMI\n"
     ]
    },
    {
     "name": "stderr",
     "output_type": "stream",
     "text": [
      "[*********************100%%**********************]  1 of 1 completed\n",
      "[*********************100%%**********************]  1 of 1 completed\n",
      "ERROR:yfinance:\n",
      "1 Failed download:\n",
      "ERROR:yfinance:['ASNA']: YFTzMissingError('$%ticker%: possibly delisted; No timezone found')\n",
      "ERROR:root:Error stock data received. Aborting further operations.\n"
     ]
    },
    {
     "name": "stdout",
     "output_type": "stream",
     "text": [
      "Failed to retrieve data for ASNA\n"
     ]
    },
    {
     "name": "stderr",
     "output_type": "stream",
     "text": [
      "[*********************100%%**********************]  1 of 1 completed\n",
      "[*********************100%%**********************]  1 of 1 completed\n",
      "[*********************100%%**********************]  1 of 1 completed\n",
      "ERROR:yfinance:\n",
      "1 Failed download:\n",
      "ERROR:yfinance:['ASRVP']: YFTzMissingError('$%ticker%: possibly delisted; No timezone found')\n",
      "ERROR:root:Error stock data received. Aborting further operations.\n"
     ]
    },
    {
     "name": "stdout",
     "output_type": "stream",
     "text": [
      "Failed to retrieve data for ASRVP\n"
     ]
    },
    {
     "name": "stderr",
     "output_type": "stream",
     "text": [
      "[*********************100%%**********************]  1 of 1 completed\n",
      "[*********************100%%**********************]  1 of 1 completed\n",
      "[*********************100%%**********************]  1 of 1 completed\n",
      "[*********************100%%**********************]  1 of 1 completed\n",
      "ERROR:yfinance:\n",
      "1 Failed download:\n",
      "ERROR:yfinance:['ASTM']: YFPricesMissingError('$%ticker%: possibly delisted; No price data found  (1d 2010-01-01 00:00:00 -> 2024-07-01 00:00:00)')\n",
      "ERROR:root:Error stock data received. Aborting further operations.\n",
      "[*********************100%%**********************]  1 of 1 completed\n",
      "ERROR:yfinance:\n",
      "1 Failed download:\n",
      "ERROR:yfinance:['ASTX']: YFPricesMissingError('$%ticker%: possibly delisted; No price data found  (1d 2010-01-01 00:00:00 -> 2024-07-01 00:00:00)')\n",
      "ERROR:root:Error stock data received. Aborting further operations.\n"
     ]
    },
    {
     "name": "stdout",
     "output_type": "stream",
     "text": [
      "$ASTM: possibly delisted; No price data found  (1d 2010-01-01 00:00:00 -> 2024-07-01 00:00:00)\n",
      "Failed to retrieve data for ASTM\n",
      "$ASTX: possibly delisted; No price data found  (1d 2010-01-01 00:00:00 -> 2024-07-01 00:00:00)\n",
      "Failed to retrieve data for ASTX\n"
     ]
    },
    {
     "name": "stderr",
     "output_type": "stream",
     "text": [
      "[*********************100%%**********************]  1 of 1 completed\n",
      "[*********************100%%**********************]  1 of 1 completed\n",
      "[*********************100%%**********************]  1 of 1 completed\n",
      "[*********************100%%**********************]  1 of 1 completed\n",
      "ERROR:yfinance:\n",
      "1 Failed download:\n",
      "ERROR:yfinance:['ATAX']: YFTzMissingError('$%ticker%: possibly delisted; No timezone found')\n",
      "ERROR:root:Error stock data received. Aborting further operations.\n"
     ]
    },
    {
     "name": "stdout",
     "output_type": "stream",
     "text": [
      "Failed to retrieve data for ATAX\n"
     ]
    },
    {
     "name": "stderr",
     "output_type": "stream",
     "text": [
      "[*********************100%%**********************]  1 of 1 completed\n",
      "ERROR:yfinance:\n",
      "1 Failed download:\n",
      "ERROR:yfinance:['ATEA']: YFTzMissingError('$%ticker%: possibly delisted; No timezone found')\n",
      "ERROR:root:Error stock data received. Aborting further operations.\n"
     ]
    },
    {
     "name": "stdout",
     "output_type": "stream",
     "text": [
      "Failed to retrieve data for ATEA\n"
     ]
    },
    {
     "name": "stderr",
     "output_type": "stream",
     "text": [
      "[*********************100%%**********************]  1 of 1 completed\n",
      "[*********************100%%**********************]  1 of 1 completed\n",
      "ERROR:yfinance:\n",
      "1 Failed download:\n",
      "ERROR:yfinance:['ATHN']: YFTzMissingError('$%ticker%: possibly delisted; No timezone found')\n",
      "ERROR:root:Error stock data received. Aborting further operations.\n",
      "[*********************100%%**********************]  1 of 1 completed\n",
      "ERROR:yfinance:\n",
      "1 Failed download:\n",
      "ERROR:yfinance:['ATHX']: YFInvalidPeriodError(\"%ticker%: Period 'max' is invalid, must be one of ['1d', '5d']\")\n",
      "ERROR:root:Error stock data received. Aborting further operations.\n"
     ]
    },
    {
     "name": "stdout",
     "output_type": "stream",
     "text": [
      "Failed to retrieve data for ATHN\n",
      "Failed to retrieve data for ATHX\n"
     ]
    },
    {
     "name": "stderr",
     "output_type": "stream",
     "text": [
      "[*********************100%%**********************]  1 of 1 completed\n",
      "[*********************100%%**********************]  1 of 1 completed\n",
      "[*********************100%%**********************]  1 of 1 completed\n",
      "ERROR:yfinance:\n",
      "1 Failed download:\n",
      "ERROR:yfinance:['ATMI']: YFPricesMissingError('$%ticker%: possibly delisted; No price data found  (1d 2010-01-01 00:00:00 -> 2024-07-01 00:00:00)')\n",
      "ERROR:root:Error stock data received. Aborting further operations.\n",
      "[*********************100%%**********************]  1 of 1 completed\n",
      "ERROR:yfinance:\n",
      "1 Failed download:\n",
      "ERROR:yfinance:['ATML']: YFPricesMissingError('$%ticker%: possibly delisted; No price data found  (1d 2010-01-01 00:00:00 -> 2024-07-01 00:00:00)')\n",
      "ERROR:root:Error stock data received. Aborting further operations.\n"
     ]
    },
    {
     "name": "stdout",
     "output_type": "stream",
     "text": [
      "$ATMI: possibly delisted; No price data found  (1d 2010-01-01 00:00:00 -> 2024-07-01 00:00:00)\n",
      "Failed to retrieve data for ATMI\n",
      "$ATML: possibly delisted; No price data found  (1d 2010-01-01 00:00:00 -> 2024-07-01 00:00:00)\n",
      "Failed to retrieve data for ATML\n"
     ]
    },
    {
     "name": "stderr",
     "output_type": "stream",
     "text": [
      "[*********************100%%**********************]  1 of 1 completed\n",
      "[*********************100%%**********************]  1 of 1 completed\n",
      "ERROR:yfinance:\n",
      "1 Failed download:\n",
      "ERROR:yfinance:['ATNY']: YFPricesMissingError('$%ticker%: possibly delisted; No price data found  (1d 2010-01-01 00:00:00 -> 2024-07-01 00:00:00)')\n",
      "ERROR:root:Error stock data received. Aborting further operations.\n"
     ]
    },
    {
     "name": "stdout",
     "output_type": "stream",
     "text": [
      "$ATNY: possibly delisted; No price data found  (1d 2010-01-01 00:00:00 -> 2024-07-01 00:00:00)\n",
      "Failed to retrieve data for ATNY\n"
     ]
    },
    {
     "name": "stderr",
     "output_type": "stream",
     "text": [
      "[*********************100%%**********************]  1 of 1 completed\n",
      "[*********************100%%**********************]  1 of 1 completed\n",
      "[*********************100%%**********************]  1 of 1 completed\n",
      "[*********************100%%**********************]  1 of 1 completed\n",
      "ERROR:yfinance:\n",
      "1 Failed download:\n",
      "ERROR:yfinance:['ATRM']: YFTzMissingError('$%ticker%: possibly delisted; No timezone found')\n",
      "ERROR:root:Error stock data received. Aborting further operations.\n"
     ]
    },
    {
     "name": "stdout",
     "output_type": "stream",
     "text": [
      "Failed to retrieve data for ATRM\n"
     ]
    },
    {
     "name": "stderr",
     "output_type": "stream",
     "text": [
      "[*********************100%%**********************]  1 of 1 completed\n",
      "[*********************100%%**********************]  1 of 1 completed\n",
      "ERROR:yfinance:\n",
      "1 Failed download:\n",
      "ERROR:yfinance:['ATRS']: YFTzMissingError('$%ticker%: possibly delisted; No timezone found')\n",
      "ERROR:root:Error stock data received. Aborting further operations.\n"
     ]
    },
    {
     "name": "stdout",
     "output_type": "stream",
     "text": [
      "Failed to retrieve data for ATRS\n"
     ]
    },
    {
     "name": "stderr",
     "output_type": "stream",
     "text": [
      "[*********************100%%**********************]  1 of 1 completed\n",
      "[*********************100%%**********************]  1 of 1 completed\n",
      "ERROR:yfinance:\n",
      "1 Failed download:\n",
      "ERROR:yfinance:['ATTU']: YFTzMissingError('$%ticker%: possibly delisted; No timezone found')\n",
      "ERROR:root:Error stock data received. Aborting further operations.\n"
     ]
    },
    {
     "name": "stdout",
     "output_type": "stream",
     "text": [
      "Failed to retrieve data for ATTU\n"
     ]
    },
    {
     "name": "stderr",
     "output_type": "stream",
     "text": [
      "[*********************100%%**********************]  1 of 1 completed\n",
      "ERROR:yfinance:\n",
      "1 Failed download:\n",
      "ERROR:yfinance:['ATVI']: YFTzMissingError('$%ticker%: possibly delisted; No timezone found')\n",
      "ERROR:root:Error stock data received. Aborting further operations.\n"
     ]
    },
    {
     "name": "stdout",
     "output_type": "stream",
     "text": [
      "Failed to retrieve data for ATVI\n"
     ]
    },
    {
     "name": "stderr",
     "output_type": "stream",
     "text": [
      "[*********************100%%**********************]  1 of 1 completed\n",
      "[*********************100%%**********************]  1 of 1 completed\n",
      "[*********************100%%**********************]  1 of 1 completed\n",
      "ERROR:yfinance:\n",
      "1 Failed download:\n",
      "ERROR:yfinance:['AUXL']: YFPricesMissingError('$%ticker%: possibly delisted; No price data found  (1d 2010-01-01 00:00:00 -> 2024-07-01 00:00:00)')\n",
      "ERROR:root:Error stock data received. Aborting further operations.\n"
     ]
    },
    {
     "name": "stdout",
     "output_type": "stream",
     "text": [
      "$AUXL: possibly delisted; No price data found  (1d 2010-01-01 00:00:00 -> 2024-07-01 00:00:00)\n",
      "Failed to retrieve data for AUXL\n"
     ]
    },
    {
     "name": "stderr",
     "output_type": "stream",
     "text": [
      "[*********************100%%**********************]  1 of 1 completed\n",
      "[*********************100%%**********************]  1 of 1 completed\n",
      "ERROR:yfinance:\n",
      "1 Failed download:\n",
      "ERROR:yfinance:['AVEO']: YFTzMissingError('$%ticker%: possibly delisted; No timezone found')\n",
      "ERROR:root:Error stock data received. Aborting further operations.\n"
     ]
    },
    {
     "name": "stdout",
     "output_type": "stream",
     "text": [
      "Failed to retrieve data for AVEO\n"
     ]
    },
    {
     "name": "stderr",
     "output_type": "stream",
     "text": [
      "[*********************100%%**********************]  1 of 1 completed\n",
      "[*********************100%%**********************]  1 of 1 completed\n",
      "[*********************100%%**********************]  1 of 1 completed\n",
      "ERROR:yfinance:\n",
      "1 Failed download:\n",
      "ERROR:yfinance:['AVID']: YFTzMissingError('$%ticker%: possibly delisted; No timezone found')\n",
      "ERROR:root:Error stock data received. Aborting further operations.\n",
      "[*********************100%%**********************]  1 of 1 completed\n",
      "ERROR:yfinance:\n",
      "1 Failed download:\n",
      "ERROR:yfinance:['AVNR']: YFPricesMissingError('$%ticker%: possibly delisted; No price data found  (1d 2010-01-01 00:00:00 -> 2024-07-01 00:00:00)')\n",
      "ERROR:root:Error stock data received. Aborting further operations.\n"
     ]
    },
    {
     "name": "stdout",
     "output_type": "stream",
     "text": [
      "Failed to retrieve data for AVID\n",
      "$AVNR: possibly delisted; No price data found  (1d 2010-01-01 00:00:00 -> 2024-07-01 00:00:00)\n",
      "Failed to retrieve data for AVNR\n"
     ]
    },
    {
     "name": "stderr",
     "output_type": "stream",
     "text": [
      "[*********************100%%**********************]  1 of 1 completed\n",
      "[*********************100%%**********************]  1 of 1 completed\n",
      "[*********************100%%**********************]  1 of 1 completed\n",
      "ERROR:yfinance:\n",
      "1 Failed download:\n",
      "ERROR:yfinance:['AXAS']: YFTzMissingError('$%ticker%: possibly delisted; No timezone found')\n",
      "ERROR:root:Error stock data received. Aborting further operations.\n"
     ]
    },
    {
     "name": "stdout",
     "output_type": "stream",
     "text": [
      "Failed to retrieve data for AXAS\n"
     ]
    },
    {
     "name": "stderr",
     "output_type": "stream",
     "text": [
      "[*********************100%%**********************]  1 of 1 completed\n",
      "[*********************100%%**********************]  1 of 1 completed\n",
      "ERROR:yfinance:\n",
      "1 Failed download:\n",
      "ERROR:yfinance:['AXFN']: YFInvalidPeriodError(\"%ticker%: Period 'max' is invalid, must be one of ['1d', '5d']\")\n",
      "ERROR:root:Error stock data received. Aborting further operations.\n",
      "[*********************100%%**********************]  1 of 1 completed\n",
      "ERROR:yfinance:\n",
      "1 Failed download:\n",
      "ERROR:yfinance:['AXJS']: YFPricesMissingError('$%ticker%: possibly delisted; No price data found  (1d 2010-01-01 00:00:00 -> 2024-07-01 00:00:00)')\n",
      "ERROR:root:Error stock data received. Aborting further operations.\n"
     ]
    },
    {
     "name": "stdout",
     "output_type": "stream",
     "text": [
      "Failed to retrieve data for AXFN\n",
      "$AXJS: possibly delisted; No price data found  (1d 2010-01-01 00:00:00 -> 2024-07-01 00:00:00)\n",
      "Failed to retrieve data for AXJS\n"
     ]
    },
    {
     "name": "stderr",
     "output_type": "stream",
     "text": [
      "[*********************100%%**********************]  1 of 1 completed\n",
      "[*********************100%%**********************]  1 of 1 completed\n",
      "[*********************100%%**********************]  1 of 1 completed\n",
      "ERROR:yfinance:\n",
      "1 Failed download:\n",
      "ERROR:yfinance:['BIRT']: YFPricesMissingError('$%ticker%: possibly delisted; No price data found  (1d 2010-01-01 00:00:00 -> 2024-07-01 00:00:00)')\n",
      "ERROR:root:Error stock data received. Aborting further operations.\n"
     ]
    },
    {
     "name": "stdout",
     "output_type": "stream",
     "text": [
      "$BIRT: possibly delisted; No price data found  (1d 2010-01-01 00:00:00 -> 2024-07-01 00:00:00)\n",
      "Failed to retrieve data for BIRT\n"
     ]
    },
    {
     "name": "stderr",
     "output_type": "stream",
     "text": [
      "[*********************100%%**********************]  1 of 1 completed\n",
      "[*********************100%%**********************]  1 of 1 completed\n",
      "[*********************100%%**********************]  1 of 1 completed\n",
      "ERROR:yfinance:\n",
      "1 Failed download:\n",
      "ERROR:yfinance:['EPAX']: YFPricesMissingError('$%ticker%: possibly delisted; No price data found  (1d 2010-01-01 00:00:00 -> 2024-07-01 00:00:00)')\n",
      "ERROR:root:Error stock data received. Aborting further operations.\n"
     ]
    },
    {
     "name": "stdout",
     "output_type": "stream",
     "text": [
      "$EPAX: possibly delisted; No price data found  (1d 2010-01-01 00:00:00 -> 2024-07-01 00:00:00)\n",
      "Failed to retrieve data for EPAX\n"
     ]
    },
    {
     "name": "stderr",
     "output_type": "stream",
     "text": [
      "[*********************100%%**********************]  1 of 1 completed\n",
      "[*********************100%%**********************]  1 of 1 completed\n",
      "[*********************100%%**********************]  1 of 1 completed\n",
      "[*********************100%%**********************]  1 of 1 completed\n",
      "ERROR:yfinance:\n",
      "1 Failed download:\n",
      "ERROR:yfinance:['PETX']: YFTzMissingError('$%ticker%: possibly delisted; No timezone found')\n",
      "ERROR:root:Error stock data received. Aborting further operations.\n"
     ]
    },
    {
     "name": "stdout",
     "output_type": "stream",
     "text": [
      "Failed to retrieve data for PETX\n"
     ]
    },
    {
     "name": "stderr",
     "output_type": "stream",
     "text": [
      "[*********************100%%**********************]  1 of 1 completed\n",
      "[*********************100%%**********************]  1 of 1 completed\n",
      "[*********************100%%**********************]  1 of 1 completed\n",
      "[*********************100%%**********************]  1 of 1 completed\n"
     ]
    }
   ],
   "source": [
    "for company in companies:\n",
    "    stock_symbol = company[\"stock_symbol\"]\n",
    "    start_date = '2010-01-01'\n",
    "    end_date = '2024-07-01'\n",
    "    stock_data = get_stock_data(stock_symbol, start_date, end_date)\n",
    "    if stock_data is not None:\n",
    "        data_to_db(stock_data, 'daily_stock_prices', engine)\n",
    "    else:\n",
    "        print(f\"Failed to retrieve data for {stock_symbol}\")"
   ]
  },
  {
   "cell_type": "code",
   "execution_count": null,
   "id": "b180f86c-ad0d-48be-87f1-80dd1495076e",
   "metadata": {},
   "outputs": [],
   "source": [
    "print(stock_data)"
   ]
  },
  {
   "cell_type": "code",
   "execution_count": null,
   "id": "46ed7a88-ef93-49c4-8c5f-2c98d507694b",
   "metadata": {},
   "outputs": [],
   "source": []
  }
 ],
 "metadata": {
  "kernelspec": {
   "display_name": "Python 3 (ipykernel)",
   "language": "python",
   "name": "python3"
  },
  "language_info": {
   "codemirror_mode": {
    "name": "ipython",
    "version": 3
   },
   "file_extension": ".py",
   "mimetype": "text/x-python",
   "name": "python",
   "nbconvert_exporter": "python",
   "pygments_lexer": "ipython3",
   "version": "3.12.3"
  }
 },
 "nbformat": 4,
 "nbformat_minor": 5
}
