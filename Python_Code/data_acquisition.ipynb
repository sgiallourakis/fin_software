{
 "cells": [
  {
   "cell_type": "code",
   "execution_count": 1,
   "id": "722bb8c5-730e-44aa-b5fc-9f553c69feea",
   "metadata": {},
   "outputs": [
    {
     "ename": "ModuleNotFoundError",
     "evalue": "No module named 'fin_func'",
     "output_type": "error",
     "traceback": [
      "\u001b[0;31m---------------------------------------------------------------------------\u001b[0m",
      "\u001b[0;31mModuleNotFoundError\u001b[0m                       Traceback (most recent call last)",
      "Cell \u001b[0;32mIn[1], line 8\u001b[0m\n\u001b[1;32m      6\u001b[0m \u001b[38;5;28;01mfrom\u001b[39;00m \u001b[38;5;21;01mpsycopg2\u001b[39;00m\u001b[38;5;21;01m.\u001b[39;00m\u001b[38;5;21;01merrors\u001b[39;00m \u001b[38;5;28;01mimport\u001b[39;00m UniqueViolation\n\u001b[1;32m      7\u001b[0m \u001b[38;5;28;01mimport\u001b[39;00m \u001b[38;5;21;01mimport_ipynb\u001b[39;00m\n\u001b[0;32m----> 8\u001b[0m \u001b[38;5;28;01mfrom\u001b[39;00m \u001b[38;5;21;01mfin_func\u001b[39;00m \u001b[38;5;28;01mimport\u001b[39;00m \u001b[38;5;241m*\u001b[39m\n",
      "\u001b[0;31mModuleNotFoundError\u001b[0m: No module named 'fin_func'"
     ]
    }
   ],
   "source": [
    "import pandas as pd\n",
    "import yfinance as yf\n",
    "import psycopg2\n",
    "from psycopg2 import sql\n",
    "from sqlalchemy import create_engine, text\n",
    "from psycopg2.errors import UniqueViolation\n",
    "from fin_func import *"
   ]
  },
  {
   "cell_type": "code",
   "execution_count": 2,
   "id": "c3488bd4-1e4a-48a3-aef2-54ac6d400135",
   "metadata": {},
   "outputs": [],
   "source": [
    "# Database connection details\n",
    "database = 'fin_data'\n",
    "user = 'stevengiallourakis'\n",
    "password = 'Birdman11!' # this might not be needed depenending on where you are connecting from.\n",
    "host = 'localhost'\n",
    "port =  '5433'\n",
    "connection_string = f\"postgresql://{user}:{password}@{host}:{port}/{database}\"\n",
    "engine = create_engine(connection_string)"
   ]
  },
  {
   "cell_type": "code",
   "execution_count": 3,
   "id": "6ad78c49-a2a3-4cd5-84a3-bc1b53b439f6",
   "metadata": {},
   "outputs": [],
   "source": [
    "# Details for stock api request\n",
    "\n",
    "symbol = 'HG=F'\n",
    "start_date = '2020-01-01'\n",
    "end_date = '2024-07-04'"
   ]
  },
  {
   "cell_type": "code",
   "execution_count": 4,
   "id": "5aea0c3e-c90a-4466-9538-0b3c6c1204ff",
   "metadata": {},
   "outputs": [],
   "source": []
  },
  {
   "cell_type": "code",
   "execution_count": 9,
   "id": "d6f50ace-cf8c-4a56-b840-9eee37c7830f",
   "metadata": {},
   "outputs": [
    {
     "name": "stderr",
     "output_type": "stream",
     "text": [
      "[*********************100%%**********************]  1 of 1 completed"
     ]
    },
    {
     "name": "stdout",
     "output_type": "stream",
     "text": [
      "Stock_data downloaded, High and Low columns removed, daily_change added\n",
      "           Date    Open   Close  daily_change symbol\n",
      "0    2020-01-02  2.8165  2.8330        0.0165   HG=F\n",
      "1    2020-01-03  2.7935  2.7985        0.0050   HG=F\n",
      "2    2020-01-06  2.7780  2.8005        0.0225   HG=F\n",
      "3    2020-01-07  2.8010  2.8040        0.0030   HG=F\n",
      "4    2020-01-08  2.7870  2.8190        0.0320   HG=F\n",
      "...         ...     ...     ...           ...    ...\n",
      "1129 2024-06-27  4.3590  4.3285       -0.0305   HG=F\n",
      "1130 2024-06-28  4.3265  4.3905        0.0640   HG=F\n",
      "1131 2024-07-01  4.3885  4.4265        0.0380   HG=F\n",
      "1132 2024-07-02  4.4240  4.4295        0.0055   HG=F\n",
      "1133 2024-07-03  4.4525  4.5410        0.0885   HG=F\n",
      "\n",
      "[1134 rows x 5 columns]\n"
     ]
    },
    {
     "name": "stderr",
     "output_type": "stream",
     "text": [
      "\n"
     ]
    }
   ],
   "source": [
    "stock_data = get_stock_data(symbol, start_date, end_date)\n",
    "\n",
    "print(stock_data)"
   ]
  },
  {
   "cell_type": "code",
   "execution_count": null,
   "id": "d3fa6576-34d0-47d3-b616-ddbf036fdc4d",
   "metadata": {},
   "outputs": [],
   "source": []
  }
 ],
 "metadata": {
  "kernelspec": {
   "display_name": "Python 3 (ipykernel)",
   "language": "python",
   "name": "python3"
  },
  "language_info": {
   "codemirror_mode": {
    "name": "ipython",
    "version": 3
   },
   "file_extension": ".py",
   "mimetype": "text/x-python",
   "name": "python",
   "nbconvert_exporter": "python",
   "pygments_lexer": "ipython3",
   "version": "3.12.3"
  }
 },
 "nbformat": 4,
 "nbformat_minor": 5
}
