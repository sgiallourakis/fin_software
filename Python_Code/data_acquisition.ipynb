{
 "cells": [
  {
   "cell_type": "code",
   "execution_count": 1,
   "id": "722bb8c5-730e-44aa-b5fc-9f553c69feea",
   "metadata": {},
   "outputs": [],
   "source": [
    "import pandas as pd\n",
    "import yfinance as yf\n",
    "import psycopg2\n",
    "from psycopg2 import sql\n",
    "from sqlalchemy import create_engine, text\n",
    "from psycopg2.errors import UniqueViolation\n",
    "from fin_func import *"
   ]
  },
  {
   "cell_type": "code",
   "execution_count": 2,
   "id": "c3488bd4-1e4a-48a3-aef2-54ac6d400135",
   "metadata": {},
   "outputs": [],
   "source": [
    "# Database connection details\n",
    "database = 'fin_data'\n",
    "user = 'stevengiallourakis'\n",
    "password = 'Birdman11!' # this might not be needed depenending on where you are connecting from.\n",
    "host = 'localhost'\n",
    "port =  '5433'\n",
    "connection_string = f\"postgresql://{user}:{password}@{host}:{port}/{database}\"\n",
    "engine = create_engine(connection_string)"
   ]
  },
  {
   "cell_type": "code",
   "execution_count": null,
   "id": "d6f50ace-cf8c-4a56-b840-9eee37c7830f",
   "metadata": {},
   "outputs": [],
   "source": [
    "# DB = stocks, table = stocks\n",
    "\n",
    "stock_data = get_stock_data(symbol, start_date, end_date)\n",
    "\n",
    "# add data to database - table stocks\n",
    "\n",
    "data_to_db(stock_data, 'stocks', engine)\n",
    "\n",
    "print(stock_data)"
   ]
  },
  {
   "cell_type": "code",
   "execution_count": 6,
   "id": "04dee4a6-4446-4dad-bc53-0c4365c9b49b",
   "metadata": {},
   "outputs": [],
   "source": [
    "# Details for commodities api request\n",
    "\n",
    "#symbol = ''\n",
    "start_date = '2020-01-01'\n",
    "end_date = '2024-07-04'"
   ]
  },
  {
   "cell_type": "code",
   "execution_count": null,
   "id": "bf13edd0-00fb-4d38-8a10-5964db099379",
   "metadata": {},
   "outputs": [],
   "source": [
    "# DB = stocks, table = commodities\n",
    "commodities_data = get_commodities_data(symbol, start_date, end_date)\n",
    "\n",
    "data_to_db(commodities_data, 'commodities', engine)\n",
    "\n",
    "print(commodities_data)"
   ]
  },
  {
   "cell_type": "code",
   "execution_count": null,
   "id": "d3fa6576-34d0-47d3-b616-ddbf036fdc4d",
   "metadata": {},
   "outputs": [],
   "source": [
    "# This cell contains old code for bulk download\n",
    "\n",
    "# Bulk Data download\n",
    "\n",
    "\n",
    "\n",
    "#bulk_data = []\n",
    "\n",
    "# Iterate through list of stocks\n",
    "\n",
    "#for symbol in bulk_data:\n",
    "      #  print(\"Retrieving stock data\")\n",
    "            \n",
    "        # Retrieve stock data and update dataframe to fit database\n",
    "      #   stock_data = get_stock_data(symbol, start_date, end_date)\n",
    "\n",
    "\n",
    "        # Check if the stock data is successfully downloaded\n",
    "      #  if stock_data.empty:\n",
    "       #     print(f\"Failed to download data for {symbol}\")\n",
    "      #  else:\n",
    "       #     print(f\"Stock data downloaded and updated for {symbol}\")\n",
    "\n",
    "    \n",
    "        # Send data to database\n",
    "       # data_to_db(daily_stock_prices, 'stocks', engine)"
   ]
  },
  {
   "cell_type": "code",
   "execution_count": 3,
   "id": "0c5b0b4a-e3a3-45a3-85dd-5c2a0aab7fee",
   "metadata": {},
   "outputs": [],
   "source": [
    "# This code is designed to create a list of companies by letter.\n",
    "# This is being done so that I can break up the size of the data downloads from yfinance.\n",
    "# I can designate the letter i want to start with and the code will create a list for companies\n",
    "# that start with that letter.\n",
    "\n",
    "def create_company_list_by_letter(letter, engine):\n",
    "\n",
    "    # Connect to the database\n",
    "    with engine.connect() as connection:\n",
    "        # Query to select companies where the name starts with the specified letter\n",
    "        result = connection.execute(\n",
    "            text(\"SELECT stock_symbol, company_name FROM company_list WHERE company_name LIKE :letter\"),\n",
    "            {\"letter\": f\"{letter}%\"}\n",
    "        ).fetchall()\n",
    "\n",
    "    # Convert result to a list of dictionaries\n",
    "    companies = [{\"stock_symbol\": row[0], \"company_name\": row[1]} for row in result]\n",
    "    return companies\n",
    "\n"
   ]
  },
  {
   "cell_type": "code",
   "execution_count": 46,
   "id": "e1677832-eb2e-4e78-bd6c-9e50355a4d05",
   "metadata": {},
   "outputs": [
    {
     "name": "stdout",
     "output_type": "stream",
     "text": [
      "Companies starting with Z:\n",
      "{'stock_symbol': 'ZA', 'company_name': 'Zuoan Fashion Limited American'}\n",
      "{'stock_symbol': 'ZB-A', 'company_name': 'Zions Bc Dp Shs A'}\n",
      "{'stock_symbol': 'ZB-C', 'company_name': 'Zions Bancorporation'}\n",
      "{'stock_symbol': 'ZB-F', 'company_name': 'Zions Bancorporation'}\n",
      "{'stock_symbol': 'ZB-G', 'company_name': 'Zions Bancorporation'}\n",
      "{'stock_symbol': 'ZB-H', 'company_name': 'Zions Bancorporation'}\n",
      "{'stock_symbol': 'ZEP', 'company_name': 'Zep Inc.'}\n",
      "{'stock_symbol': 'ZF', 'company_name': 'Zweig Fund'}\n",
      "{'stock_symbol': 'ZFC', 'company_name': 'Zais Financial Corp. Common Sto'}\n",
      "{'stock_symbol': 'ZLC', 'company_name': 'Zale Corporation'}\n",
      "{'stock_symbol': 'ZMH', 'company_name': 'Zimmer Holdings'}\n",
      "{'stock_symbol': 'ZTR', 'company_name': 'Zweig Total Return Fund'}\n",
      "{'stock_symbol': 'ZTS', 'company_name': 'Zoetis Inc. Class A Common Stoc'}\n",
      "{'stock_symbol': 'Z', 'company_name': 'Zillow Inc. Cl A'}\n",
      "{'stock_symbol': 'ZAGG', 'company_name': 'Zagg Inc.'}\n",
      "{'stock_symbol': 'ZAZA', 'company_name': 'Zaza Energy Corporation'}\n",
      "{'stock_symbol': 'ZBRA', 'company_name': 'Zebra Technologies Corporation'}\n",
      "{'stock_symbol': 'ZGNX', 'company_name': 'Zogenix'}\n",
      "{'stock_symbol': 'ZHNE', 'company_name': 'Zhone Technologies'}\n",
      "{'stock_symbol': 'ZIGO', 'company_name': 'Zygo Corporation'}\n",
      "{'stock_symbol': 'ZION', 'company_name': 'Zions Bancorporation'}\n",
      "{'stock_symbol': 'ZIONW', 'company_name': 'Zions Bancorporation'}\n",
      "{'stock_symbol': 'ZIOP', 'company_name': 'Ziopharm Oncology Inc'}\n",
      "{'stock_symbol': 'ZIPR', 'company_name': 'Ziprealty'}\n",
      "{'stock_symbol': 'ZIXI', 'company_name': 'Zix Corporation'}\n",
      "{'stock_symbol': 'ZLCS', 'company_name': 'Zalicus Inc.'}\n",
      "{'stock_symbol': 'ZLTQ', 'company_name': 'Zeltiq Aesthetics Inc.'}\n",
      "{'stock_symbol': 'ZN', 'company_name': 'Zion Oil & Gas Inc'}\n",
      "{'stock_symbol': 'ZNGA', 'company_name': 'Zynga Inc.'}\n",
      "{'stock_symbol': 'ZOLT', 'company_name': 'Zoltek Companies'}\n",
      "{'stock_symbol': 'ZOOM', 'company_name': 'Zoom Technologies'}\n",
      "{'stock_symbol': 'ZUMZ', 'company_name': 'Zumiez Inc.'}\n"
     ]
    }
   ],
   "source": [
    "letter = 'Z'\n",
    "# Letters downloaded and added to database\n",
    "# Completed: A, B, C, D, E, F, G, H, I, J, K, L, M, N, O, P, Q, R, S, T, U, V, W, X, Y, Z  \n",
    "# Dates Checked: ''2010-01-01' - '2024-07-01'\n",
    "companies = create_company_list_by_letter(letter, engine)\n",
    "print(f\"Companies starting with {letter}:\")\n",
    "for company in companies:\n",
    "    print(company)"
   ]
  },
  {
   "cell_type": "code",
   "execution_count": 47,
   "id": "a59883f4-2754-4b8b-b084-273fec191a9c",
   "metadata": {},
   "outputs": [],
   "source": [
    "def get_stock_data(stock_symbol: str, start_date: str, end_date: str) -> pd.DataFrame:\n",
    "    if not isinstance(stock_symbol, str):\n",
    "        raise TypeError(\"'stock_symbol' must be a string representing a valid stock symbol\")\n",
    "    try:\n",
    "        start_date = pd.to_datetime(start_date)\n",
    "        end_date = pd.to_datetime(end_date)\n",
    "    except Exception as e:\n",
    "        logging.error(f\"Error converting dates to datetime: {e}\")\n",
    "        return None\n",
    "    try:\n",
    "        stock_data = yf.download(stock_symbol, start=start_date, end=end_date)\n",
    "    except Exception as e:\n",
    "        logging.error(f\"Error downloading stock data: {e}\")\n",
    "        return None\n",
    "\n",
    "    if stock_data.empty:\n",
    "        logging.error(f\"Error stock data received. Aborting further operations.\")\n",
    "        return None\n",
    "\n",
    "    # Drop unnecessary columns\n",
    "    stock_data = stock_data.drop(columns=['High', 'Low', 'Adj Close', 'Volume'], errors='ignore')\n",
    "\n",
    "    # Calculate daily change and percent change\n",
    "    stock_data['daily_change'] = stock_data['Close'] - stock_data['Open']\n",
    "    stock_data['percent_change'] = (\n",
    "            ((stock_data['Close'] - stock_data['Open']) / stock_data['Open']) * 100)\n",
    "\n",
    "    # Add the stock symbol column\n",
    "    stock_data['stock_symbol'] = stock_symbol\n",
    "\n",
    "    \n",
    "    stock_data.reset_index(inplace=True)\n",
    "    logging.info(\"Stock_data downloaded, High and Low columns removed, daily_change added\")\n",
    "    return stock_data\n",
    "\n",
    "\n",
    "\n",
    "def data_to_db(df, table_name, engine):\n",
    "    try:\n",
    "        with engine.begin() as connection:\n",
    "            for index, row in df.iterrows():\n",
    "                sql = text(f\"\"\"\n",
    "                    INSERT INTO {table_name} (\"Date\", \"Open\", \"Close\", daily_change, percent_change, stock_symbol)\n",
    "                    VALUES (:Date, :Open, :Close, :daily_change, :percent_change, :stock_symbol)\n",
    "                    ON CONFLICT (stock_symbol, \"Date\") DO NOTHING\n",
    "                \"\"\")\n",
    "                connection.execute(sql, {\n",
    "                    'Date': row['Date'],\n",
    "                    'Open': row['Open'],\n",
    "                    'Close': row['Close'],\n",
    "                    'daily_change': row['daily_change'],\n",
    "                    'percent_change': row['percent_change'],\n",
    "                    'stock_symbol': row['stock_symbol']\n",
    "                })\n",
    "        \n",
    "\n",
    "        \n",
    "        #df.to_sql(name=table_name, con=engine, if_exists='append', index=False)\n",
    "        #print(\"Data successfully added to the database.\")\n",
    "    \n",
    "    except UniqueViolation as e:\n",
    "        print(f\"Duplicate entry found for {stock_symbol} on {data['date']}. Skipping insert.\")\n",
    "    except Exception as e:\n",
    "        print(f\"An error occurred while inserting data: {e}\")\n",
    "    "
   ]
  },
  {
   "cell_type": "code",
   "execution_count": null,
   "id": "b180f86c-ad0d-48be-87f1-80dd1495076e",
   "metadata": {},
   "outputs": [],
   "source": [
    "print(stock_data)"
   ]
  },
  {
   "cell_type": "code",
   "execution_count": 48,
   "id": "46ed7a88-ef93-49c4-8c5f-2c98d507694b",
   "metadata": {},
   "outputs": [
    {
     "name": "stderr",
     "output_type": "stream",
     "text": [
      "[*********************100%%**********************]  1 of 1 completed00<?, ?it/s]\n",
      "ERROR:yfinance:\n",
      "1 Failed download:\n",
      "ERROR:yfinance:['ZA']: YFPricesMissingError('$%ticker%: possibly delisted; No price data found  (1d 2020-01-01 00:00:00 -> 2024-07-04 00:00:00)')\n",
      "ERROR:root:Error stock data received. Aborting further operations.\n",
      "Processing Companies:   3%|▋                     | 1/32 [00:00<00:04,  6.56it/s]"
     ]
    },
    {
     "name": "stdout",
     "output_type": "stream",
     "text": [
      "$ZA: possibly delisted; No price data found  (1d 2020-01-01 00:00:00 -> 2024-07-04 00:00:00)\n",
      "Failed to retrieve data for ZA\n"
     ]
    },
    {
     "name": "stderr",
     "output_type": "stream",
     "text": [
      "[*********************100%%**********************]  1 of 1 completed\n",
      "ERROR:yfinance:\n",
      "1 Failed download:\n",
      "ERROR:yfinance:['ZB-A']: YFTzMissingError('$%ticker%: possibly delisted; No timezone found')\n",
      "ERROR:root:Error stock data received. Aborting further operations.\n",
      "Processing Companies:   6%|█▍                    | 2/32 [00:00<00:14,  2.01it/s]"
     ]
    },
    {
     "name": "stdout",
     "output_type": "stream",
     "text": [
      "Failed to retrieve data for ZB-A\n"
     ]
    },
    {
     "name": "stderr",
     "output_type": "stream",
     "text": [
      "[*********************100%%**********************]  1 of 1 completed\n",
      "ERROR:yfinance:\n",
      "1 Failed download:\n",
      "ERROR:yfinance:['ZB-C']: YFTzMissingError('$%ticker%: possibly delisted; No timezone found')\n",
      "ERROR:root:Error stock data received. Aborting further operations.\n",
      "Processing Companies:   9%|██                    | 3/32 [00:01<00:18,  1.55it/s]"
     ]
    },
    {
     "name": "stdout",
     "output_type": "stream",
     "text": [
      "Failed to retrieve data for ZB-C\n"
     ]
    },
    {
     "name": "stderr",
     "output_type": "stream",
     "text": [
      "[*********************100%%**********************]  1 of 1 completed\n",
      "ERROR:yfinance:\n",
      "1 Failed download:\n",
      "ERROR:yfinance:['ZB-F']: YFTzMissingError('$%ticker%: possibly delisted; No timezone found')\n",
      "ERROR:root:Error stock data received. Aborting further operations.\n",
      "Processing Companies:  12%|██▊                   | 4/32 [00:02<00:19,  1.41it/s]"
     ]
    },
    {
     "name": "stdout",
     "output_type": "stream",
     "text": [
      "Failed to retrieve data for ZB-F\n"
     ]
    },
    {
     "name": "stderr",
     "output_type": "stream",
     "text": [
      "[*********************100%%**********************]  1 of 1 completed\n",
      "ERROR:yfinance:\n",
      "1 Failed download:\n",
      "ERROR:yfinance:['ZB-G']: YFTzMissingError('$%ticker%: possibly delisted; No timezone found')\n",
      "ERROR:root:Error stock data received. Aborting further operations.\n",
      "Processing Companies:  16%|███▍                  | 5/32 [00:03<00:19,  1.40it/s]"
     ]
    },
    {
     "name": "stdout",
     "output_type": "stream",
     "text": [
      "Failed to retrieve data for ZB-G\n"
     ]
    },
    {
     "name": "stderr",
     "output_type": "stream",
     "text": [
      "[*********************100%%**********************]  1 of 1 completed\n",
      "ERROR:yfinance:\n",
      "1 Failed download:\n",
      "ERROR:yfinance:['ZB-H']: YFTzMissingError('$%ticker%: possibly delisted; No timezone found')\n",
      "ERROR:root:Error stock data received. Aborting further operations.\n",
      "[*********************100%%**********************]  1 of 1 completed,  1.25it/s]\n",
      "ERROR:yfinance:\n",
      "1 Failed download:\n",
      "ERROR:yfinance:['ZEP']: YFPricesMissingError('$%ticker%: possibly delisted; No price data found  (1d 2020-01-01 00:00:00 -> 2024-07-04 00:00:00)')\n",
      "ERROR:root:Error stock data received. Aborting further operations.\n",
      "Processing Companies:  22%|████▊                 | 7/32 [00:04<00:14,  1.70it/s]"
     ]
    },
    {
     "name": "stdout",
     "output_type": "stream",
     "text": [
      "Failed to retrieve data for ZB-H\n",
      "$ZEP: possibly delisted; No price data found  (1d 2020-01-01 00:00:00 -> 2024-07-04 00:00:00)\n",
      "Failed to retrieve data for ZEP\n"
     ]
    },
    {
     "name": "stderr",
     "output_type": "stream",
     "text": [
      "[*********************100%%**********************]  1 of 1 completed\n",
      "[*********************100%%**********************]  1 of 1 completed,  1.82it/s]\n",
      "ERROR:yfinance:\n",
      "1 Failed download:\n",
      "ERROR:yfinance:['ZFC']: YFPricesMissingError('$%ticker%: possibly delisted; No price data found  (1d 2020-01-01 00:00:00 -> 2024-07-04 00:00:00)')\n",
      "ERROR:root:Error stock data received. Aborting further operations.\n",
      "[*********************100%%**********************]  1 of 1 completed,  2.38it/s]\n",
      "ERROR:yfinance:\n",
      "1 Failed download:\n",
      "ERROR:yfinance:['ZLC']: YFPricesMissingError('$%ticker%: possibly delisted; No price data found  (1d 2020-01-01 00:00:00 -> 2024-07-04 00:00:00)')\n",
      "ERROR:root:Error stock data received. Aborting further operations.\n",
      "Processing Companies:  31%|██████▌              | 10/32 [00:05<00:07,  2.98it/s]"
     ]
    },
    {
     "name": "stdout",
     "output_type": "stream",
     "text": [
      "$ZFC: possibly delisted; No price data found  (1d 2020-01-01 00:00:00 -> 2024-07-04 00:00:00)\n",
      "Failed to retrieve data for ZFC\n",
      "$ZLC: possibly delisted; No price data found  (1d 2020-01-01 00:00:00 -> 2024-07-04 00:00:00)\n",
      "Failed to retrieve data for ZLC\n"
     ]
    },
    {
     "name": "stderr",
     "output_type": "stream",
     "text": [
      "[*********************100%%**********************]  1 of 1 completed\n",
      "ERROR:yfinance:\n",
      "1 Failed download:\n",
      "ERROR:yfinance:['ZMH']: YFPricesMissingError('$%ticker%: possibly delisted; No price data found  (1d 2020-01-01 00:00:00 -> 2024-07-04 00:00:00)')\n",
      "ERROR:root:Error stock data received. Aborting further operations.\n",
      "Processing Companies:  34%|███████▏             | 11/32 [00:05<00:05,  3.61it/s]"
     ]
    },
    {
     "name": "stdout",
     "output_type": "stream",
     "text": [
      "$ZMH: possibly delisted; No price data found  (1d 2020-01-01 00:00:00 -> 2024-07-04 00:00:00)\n",
      "Failed to retrieve data for ZMH\n"
     ]
    },
    {
     "name": "stderr",
     "output_type": "stream",
     "text": [
      "[*********************100%%**********************]  1 of 1 completed\n",
      "[*********************100%%**********************]  1 of 1 completed,  2.72it/s]\n",
      "[*********************100%%**********************]  1 of 1 completed,  2.41it/s]\n",
      "[*********************100%%**********************]  1 of 1 completed,  2.44it/s]\n",
      "ERROR:yfinance:\n",
      "1 Failed download:\n",
      "ERROR:yfinance:['ZAGG']: YFTzMissingError('$%ticker%: possibly delisted; No timezone found')\n",
      "ERROR:root:Error stock data received. Aborting further operations.\n",
      "[*********************100%%**********************]  1 of 1 completed,  1.88it/s]\n"
     ]
    },
    {
     "name": "stdout",
     "output_type": "stream",
     "text": [
      "Failed to retrieve data for ZAGG\n"
     ]
    },
    {
     "name": "stderr",
     "output_type": "stream",
     "text": [
      "Processing Companies:  50%|██████████▌          | 16/32 [00:07<00:06,  2.31it/s]"
     ]
    },
    {
     "name": "stdout",
     "output_type": "stream",
     "text": [
      "An error occurred while inserting data: (psycopg2.errors.NumericValueOutOfRange) numeric field overflow\n",
      "DETAIL:  A field with precision 5, scale 2 must round to an absolute value less than 10^3.\n",
      "\n",
      "[SQL: \n",
      "                    INSERT INTO daily_stock_prices (\"Date\", \"Open\", \"Close\", daily_change, percent_change, stock_symbol)\n",
      "                    VALUES (%(Date)s, %(Open)s, %(Close)s, %(daily_change)s, %(percent_change)s, %(stock_symbol)s)\n",
      "                    ON CONFLICT (stock_symbol, \"Date\") DO NOTHING\n",
      "                ]\n",
      "[parameters: {'Date': Timestamp('2020-04-22 00:00:00'), 'Open': 9.999999747378752e-05, 'Close': 0.004900000058114529, 'daily_change': 0.004800000060640741, 'percent_change': 4800.000181898945, 'stock_symbol': 'ZAZA'}]\n",
      "(Background on this error at: https://sqlalche.me/e/20/9h9h)\n"
     ]
    },
    {
     "name": "stderr",
     "output_type": "stream",
     "text": [
      "[*********************100%%**********************]  1 of 1 completed\n",
      "[*********************100%%**********************]  1 of 1 completed,  2.31it/s]\n",
      "ERROR:yfinance:\n",
      "1 Failed download:\n",
      "ERROR:yfinance:['ZGNX']: YFTzMissingError('$%ticker%: possibly delisted; No timezone found')\n",
      "ERROR:root:Error stock data received. Aborting further operations.\n",
      "[*********************100%%**********************]  1 of 1 completed,  1.90it/s]\n",
      "ERROR:yfinance:\n",
      "1 Failed download:\n",
      "ERROR:yfinance:['ZHNE']: YFPricesMissingError('$%ticker%: possibly delisted; No price data found  (1d 2020-01-01 00:00:00 -> 2024-07-04 00:00:00)')\n",
      "ERROR:root:Error stock data received. Aborting further operations.\n",
      "Processing Companies:  59%|████████████▍        | 19/32 [00:09<00:05,  2.42it/s]"
     ]
    },
    {
     "name": "stdout",
     "output_type": "stream",
     "text": [
      "Failed to retrieve data for ZGNX\n",
      "$ZHNE: possibly delisted; No price data found  (1d 2020-01-01 00:00:00 -> 2024-07-04 00:00:00)\n",
      "Failed to retrieve data for ZHNE\n"
     ]
    },
    {
     "name": "stderr",
     "output_type": "stream",
     "text": [
      "[*********************100%%**********************]  1 of 1 completed\n",
      "ERROR:yfinance:\n",
      "1 Failed download:\n",
      "ERROR:yfinance:['ZIGO']: YFPricesMissingError('$%ticker%: possibly delisted; No price data found  (1d 2020-01-01 00:00:00 -> 2024-07-04 00:00:00)')\n",
      "ERROR:root:Error stock data received. Aborting further operations.\n",
      "Processing Companies:  62%|█████████████▏       | 20/32 [00:09<00:04,  3.00it/s]"
     ]
    },
    {
     "name": "stdout",
     "output_type": "stream",
     "text": [
      "$ZIGO: possibly delisted; No price data found  (1d 2020-01-01 00:00:00 -> 2024-07-04 00:00:00)\n",
      "Failed to retrieve data for ZIGO\n"
     ]
    },
    {
     "name": "stderr",
     "output_type": "stream",
     "text": [
      "[*********************100%%**********************]  1 of 1 completed\n",
      "[*********************100%%**********************]  1 of 1 completed,  2.47it/s]\n",
      "ERROR:yfinance:\n",
      "1 Failed download:\n",
      "ERROR:yfinance:['ZIONW']: YFTzMissingError('$%ticker%: possibly delisted; No timezone found')\n",
      "ERROR:root:Error stock data received. Aborting further operations.\n",
      "Processing Companies:  69%|██████████████▍      | 22/32 [00:10<00:05,  1.92it/s]"
     ]
    },
    {
     "name": "stdout",
     "output_type": "stream",
     "text": [
      "Failed to retrieve data for ZIONW\n"
     ]
    },
    {
     "name": "stderr",
     "output_type": "stream",
     "text": [
      "[*********************100%%**********************]  1 of 1 completed\n",
      "ERROR:yfinance:\n",
      "1 Failed download:\n",
      "ERROR:yfinance:['ZIOP']: YFTzMissingError('$%ticker%: possibly delisted; No timezone found')\n",
      "ERROR:root:Error stock data received. Aborting further operations.\n",
      "[*********************100%%**********************]  1 of 1 completed,  1.45it/s]\n",
      "ERROR:yfinance:\n",
      "1 Failed download:\n",
      "ERROR:yfinance:['ZIPR']: YFPricesMissingError('$%ticker%: possibly delisted; No price data found  (1d 2020-01-01 00:00:00 -> 2024-07-04 00:00:00)')\n",
      "ERROR:root:Error stock data received. Aborting further operations.\n",
      "Processing Companies:  75%|███████████████▊     | 24/32 [00:11<00:04,  1.91it/s]"
     ]
    },
    {
     "name": "stdout",
     "output_type": "stream",
     "text": [
      "Failed to retrieve data for ZIOP\n",
      "$ZIPR: possibly delisted; No price data found  (1d 2020-01-01 00:00:00 -> 2024-07-04 00:00:00)\n",
      "Failed to retrieve data for ZIPR\n"
     ]
    },
    {
     "name": "stderr",
     "output_type": "stream",
     "text": [
      "[*********************100%%**********************]  1 of 1 completed\n",
      "ERROR:yfinance:\n",
      "1 Failed download:\n",
      "ERROR:yfinance:['ZIXI']: YFTzMissingError('$%ticker%: possibly delisted; No timezone found')\n",
      "ERROR:root:Error stock data received. Aborting further operations.\n",
      "[*********************100%%**********************]  1 of 1 completed,  1.59it/s]\n",
      "ERROR:yfinance:\n",
      "1 Failed download:\n",
      "ERROR:yfinance:['ZLCS']: YFPricesMissingError('$%ticker%: possibly delisted; No price data found  (1d 2020-01-01 00:00:00 -> 2024-07-04 00:00:00)')\n",
      "ERROR:root:Error stock data received. Aborting further operations.\n",
      "Processing Companies:  81%|█████████████████    | 26/32 [00:12<00:02,  2.06it/s]"
     ]
    },
    {
     "name": "stdout",
     "output_type": "stream",
     "text": [
      "Failed to retrieve data for ZIXI\n",
      "$ZLCS: possibly delisted; No price data found  (1d 2020-01-01 00:00:00 -> 2024-07-04 00:00:00)\n",
      "Failed to retrieve data for ZLCS\n"
     ]
    },
    {
     "name": "stderr",
     "output_type": "stream",
     "text": [
      "[*********************100%%**********************]  1 of 1 completed\n",
      "ERROR:yfinance:\n",
      "1 Failed download:\n",
      "ERROR:yfinance:['ZLTQ']: YFPricesMissingError('$%ticker%: possibly delisted; No price data found  (1d 2020-01-01 00:00:00 -> 2024-07-04 00:00:00)')\n",
      "ERROR:root:Error stock data received. Aborting further operations.\n",
      "Processing Companies:  84%|█████████████████▋   | 27/32 [00:13<00:01,  2.56it/s]"
     ]
    },
    {
     "name": "stdout",
     "output_type": "stream",
     "text": [
      "$ZLTQ: possibly delisted; No price data found  (1d 2020-01-01 00:00:00 -> 2024-07-04 00:00:00)\n",
      "Failed to retrieve data for ZLTQ\n"
     ]
    },
    {
     "name": "stderr",
     "output_type": "stream",
     "text": [
      "[*********************100%%**********************]  1 of 1 completed\n",
      "ERROR:yfinance:\n",
      "1 Failed download:\n",
      "ERROR:yfinance:['ZN']: YFTzMissingError('$%ticker%: possibly delisted; No timezone found')\n",
      "ERROR:root:Error stock data received. Aborting further operations.\n",
      "Processing Companies:  88%|██████████████████▍  | 28/32 [00:13<00:02,  1.90it/s]"
     ]
    },
    {
     "name": "stdout",
     "output_type": "stream",
     "text": [
      "Failed to retrieve data for ZN\n"
     ]
    },
    {
     "name": "stderr",
     "output_type": "stream",
     "text": [
      "[*********************100%%**********************]  1 of 1 completed\n",
      "ERROR:yfinance:\n",
      "1 Failed download:\n",
      "ERROR:yfinance:['ZNGA']: YFTzMissingError('$%ticker%: possibly delisted; No timezone found')\n",
      "ERROR:root:Error stock data received. Aborting further operations.\n",
      "[*********************100%%**********************]  1 of 1 completed,  1.67it/s]\n",
      "ERROR:yfinance:\n",
      "1 Failed download:\n",
      "ERROR:yfinance:['ZOLT']: YFPricesMissingError('$%ticker%: possibly delisted; No price data found  (1d 2020-01-01 00:00:00 -> 2024-07-04 00:00:00)')\n",
      "ERROR:root:Error stock data received. Aborting further operations.\n",
      "Processing Companies:  94%|███████████████████▋ | 30/32 [00:14<00:00,  2.15it/s]"
     ]
    },
    {
     "name": "stdout",
     "output_type": "stream",
     "text": [
      "Failed to retrieve data for ZNGA\n",
      "$ZOLT: possibly delisted; No price data found  (1d 2020-01-01 00:00:00 -> 2024-07-04 00:00:00)\n",
      "Failed to retrieve data for ZOLT\n"
     ]
    },
    {
     "name": "stderr",
     "output_type": "stream",
     "text": [
      "[*********************100%%**********************]  1 of 1 completed\n",
      "ERROR:yfinance:\n",
      "1 Failed download:\n",
      "ERROR:yfinance:['ZOOM']: YFTzMissingError('$%ticker%: possibly delisted; No timezone found')\n",
      "ERROR:root:Error stock data received. Aborting further operations.\n",
      "Processing Companies:  97%|████████████████████▎| 31/32 [00:15<00:00,  1.83it/s]"
     ]
    },
    {
     "name": "stdout",
     "output_type": "stream",
     "text": [
      "Failed to retrieve data for ZOOM\n"
     ]
    },
    {
     "name": "stderr",
     "output_type": "stream",
     "text": [
      "[*********************100%%**********************]  1 of 1 completed\n",
      "Processing Companies: 100%|█████████████████████| 32/32 [00:16<00:00,  1.99it/s]\n"
     ]
    }
   ],
   "source": [
    "from tqdm import tqdm\n",
    "import csv\n",
    "\n",
    "# File paths for output CSVs\n",
    "success_file = 'success_companies.csv'\n",
    "failure_file = 'failed_companies.csv'\n",
    "\n",
    "# Initialize lists to store successful and failed companies\n",
    "success_companies = []\n",
    "failed_companies = []\n",
    "\n",
    "# Process companies with progress bar\n",
    "for company in tqdm(companies, desc='Processing Companies'):\n",
    "    stock_symbol = company[\"stock_symbol\"]\n",
    "    stock_data = get_stock_data(stock_symbol, start_date, end_date)\n",
    "    if stock_data is not None:\n",
    "        try:\n",
    "            data_to_db(stock_data, 'daily_stock_prices', engine)\n",
    "            success_companies.append(stock_symbol)\n",
    "        except Exception as e:\n",
    "            failed_companies.append(stock_symbol)\n",
    "            print(f\"Error adding {stock_symbol} to database: {e}\")\n",
    "    else:\n",
    "        failed_companies.append(stock_symbol)\n",
    "        print(f\"Failed to retrieve data for {stock_symbol}\")\n",
    "\n",
    "# Write successful companies to CSV\n",
    "#with open(success_file, 'w', newline='') as f:\n",
    " #   writer = csv.writer(f)\n",
    " #   writer.writerow(['Stock Symbol'])\n",
    " #   for stock_symbol in success_companies:\n",
    "  #      writer.writerow([stock_symbol])\n",
    "\n",
    "# Write failed companies to CSV\n",
    "#with open(failure_file, 'w', newline='') as f:\n",
    " #   writer = csv.writer(f)\n",
    " #   writer.writerow(['Stock Symbol'])\n",
    " #   for stock_symbol in failed_companies:\n",
    "  #      writer.writerow([stock_symbol])\n",
    "\n",
    "#print(\"Processing complete.\")"
   ]
  },
  {
   "cell_type": "code",
   "execution_count": 23,
   "id": "d180bbdf-3d27-4657-8eac-f02fe17dc440",
   "metadata": {},
   "outputs": [
    {
     "name": "stdout",
     "output_type": "stream",
     "text": [
      "['ASGN', 'IX', 'OB', 'OC', 'OCN', 'ODC', 'ODP', 'OFG', 'OGE', 'OHI', 'OI', 'OII', 'OILT', 'OIS', 'OKE', 'OLN', 'OLP', 'OMC', 'OMI', 'ONB', 'OPK', 'OPY', 'ORA', 'ORAN', 'ORCL', 'ORI', 'ORN', 'OSK', 'OXM', 'OXY', 'GEOS', 'OCC', 'OCFC', 'ODFL', 'OFED', 'OFIX', 'OFLX', 'OFS', 'OMCL', 'OMER', 'OMEX', 'ONCY', 'OPEN', 'OPHC', 'OPOF', 'OPTT', 'ORBT', 'ORLY', 'ORMP', 'ORRF', 'OSBC', 'OSIS', 'OSUR', 'OTEX', 'OTTR', 'OVBC', 'OVLY', 'OXLC', 'OXLCO', 'OXLCP', 'SEED', 'ZEUS']\n"
     ]
    }
   ],
   "source": [
    "print(success_companies)\n"
   ]
  },
  {
   "cell_type": "code",
   "execution_count": null,
   "id": "43d4ec5c-82fd-4754-a429-91b91611abaf",
   "metadata": {},
   "outputs": [],
   "source": []
  }
 ],
 "metadata": {
  "kernelspec": {
   "display_name": "Python 3 (ipykernel)",
   "language": "python",
   "name": "python3"
  },
  "language_info": {
   "codemirror_mode": {
    "name": "ipython",
    "version": 3
   },
   "file_extension": ".py",
   "mimetype": "text/x-python",
   "name": "python",
   "nbconvert_exporter": "python",
   "pygments_lexer": "ipython3",
   "version": "3.12.3"
  }
 },
 "nbformat": 4,
 "nbformat_minor": 5
}
